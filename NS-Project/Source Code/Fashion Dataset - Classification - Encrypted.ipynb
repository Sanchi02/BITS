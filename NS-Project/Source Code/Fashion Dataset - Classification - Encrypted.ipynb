{
 "cells": [
  {
   "cell_type": "markdown",
   "metadata": {},
   "source": [
    "# Fashion Dataset\n",
    "\n",
    "The dataset consists of various images of clothing accessories, footwears, personal care items etc. The task is to classify these images into their respective article type.\n",
    "\n",
    "The data looks as follows, \n",
    "\n",
    "\n",
    "\n",
    "<img src=\"FashionData.png\">"
   ]
  },
  {
   "cell_type": "markdown",
   "metadata": {},
   "source": [
    "### Encrypted Training"
   ]
  },
  {
   "cell_type": "code",
   "execution_count": 1,
   "metadata": {},
   "outputs": [
    {
     "name": "stderr",
     "output_type": "stream",
     "text": [
      "Falling back to insecure randomness since the required custom op could not be found for the installed version of TensorFlow. Fix this by compiling custom ops. Missing file was '/opt/conda/lib/python3.7/site-packages/tf_encrypted/operations/secure_random/secure_random_module_tf_1.15.2.so'\n"
     ]
    },
    {
     "name": "stdout",
     "output_type": "stream",
     "text": [
      "WARNING:tensorflow:From /opt/conda/lib/python3.7/site-packages/tf_encrypted/session.py:24: The name tf.Session is deprecated. Please use tf.compat.v1.Session instead.\n",
      "\n"
     ]
    }
   ],
   "source": [
    "# imports\n",
    "import torch\n",
    "import torch.nn as nn\n",
    "import torch.nn.functional as F\n",
    "import torch.optim as optim\n",
    "from torch.autograd import Variable\n",
    "from torchvision import datasets, transforms\n",
    "from torch.utils.data import Dataset, DataLoader\n",
    "from torch.utils.data.sampler import SubsetRandomSampler\n",
    "\n",
    "import time\n",
    "\n",
    "import syft as sy  # import the Pysyft library\n",
    "\n",
    "from sklearn.datasets import load_iris\n",
    "from sklearn.datasets import load_wine\n",
    "from sklearn.model_selection import train_test_split\n",
    "from sklearn.metrics import accuracy_score, precision_score, recall_score\n",
    "from sklearn.preprocessing import StandardScaler\n",
    "\n",
    "import numpy as np\n",
    "\n",
    "import matplotlib.pyplot as plt\n",
    "\n",
    "import pickle"
   ]
  },
  {
   "cell_type": "code",
   "execution_count": 2,
   "metadata": {},
   "outputs": [],
   "source": [
    "#Hyper-parameters for the training\n",
    "class Arguments():\n",
    "    def __init__(self):\n",
    "        self.batch_size = 64\n",
    "        self.test_batch_size = 64\n",
    "        self.epochs = 3\n",
    "        self.lr = 0.01\n",
    "        self.seed = 1\n",
    "        self.log_interval = 1 \n",
    "        self.precision_fractional = 3\n",
    "\n",
    "args = Arguments()\n",
    "\n",
    "_ = torch.manual_seed(args.seed)\n",
    "\n",
    "\n",
    "n_train_items = 640\n",
    "n_test_items = 640"
   ]
  },
  {
   "cell_type": "code",
   "execution_count": 3,
   "metadata": {},
   "outputs": [],
   "source": [
    "hook = sy.TorchHook(torch) \n",
    "\n",
    "# simulation functions\n",
    "def connect_to_workers(n_workers):\n",
    "    return [\n",
    "        sy.VirtualWorker(hook, id=f\"worker{i+1}\")\n",
    "        for i in range(n_workers)\n",
    "    ]\n",
    "def connect_to_crypto_provider():\n",
    "    return sy.VirtualWorker(hook, id=\"crypto_provider\")\n",
    "\n",
    "workers = connect_to_workers(n_workers=2)\n",
    "crypto_provider = connect_to_crypto_provider()"
   ]
  },
  {
   "cell_type": "markdown",
   "metadata": {},
   "source": [
    "### Loading secret data"
   ]
  },
  {
   "cell_type": "code",
   "execution_count": 4,
   "metadata": {
    "scrolled": false
   },
   "outputs": [],
   "source": [
    "def get_encrypted_data_loaders(workers,precision,crypto_provider):\n",
    "    \n",
    "    def to_categorical(index_tensor):\n",
    "       \n",
    "        #print(\"Index_tensor = {}\".format(index_tensor))\n",
    "        cat_tensor = torch.zeros(*index_tensor.shape, 10) \n",
    "        cat_tensor = cat_tensor.scatter(1, index_tensor.view(-1, 1), 1)\n",
    "        return cat_tensor\n",
    "    \n",
    "#         l=[]\n",
    "#         for i in index_tensor:\n",
    "#             l.append(np.eye(3, dtype='uint8')[i])\n",
    "#         return torch.tensor(l)\n",
    "        \n",
    "    def secret_share(tensor):\n",
    "        \"\"\"\n",
    "        Transform to fixed precision and secret share a tensor\n",
    "        \"\"\"\n",
    "        return (\n",
    "            tensor\n",
    "            .fix_precision(precision_fractional=precision)\n",
    "            .share(*workers, crypto_provider=crypto_provider, requires_grad=True)\n",
    "        )\n",
    "    \n",
    "    transformation = transforms.Compose([\n",
    "        transforms.ToTensor(),\n",
    "        transforms.Normalize((0.1307,), (0.3081,))\n",
    "    ])\n",
    "    \n",
    "    train_loader = torch.utils.data.DataLoader(\n",
    "        datasets.FashionMNIST('../data', train=True, download=True, transform=transformation),\n",
    "        batch_size=args.batch_size\n",
    "    )\n",
    "        \n",
    "    test_loader = torch.utils.data.DataLoader(\n",
    "        datasets.FashionMNIST('../data', train=False, download=True, transform=transformation),\n",
    "        batch_size=args.test_batch_size\n",
    "    )\n",
    "    \n",
    "    encrypted_train_loader = [\n",
    "        (secret_share(data), secret_share(to_categorical(target)))\n",
    "        for i, (data, target) in enumerate(train_loader)\n",
    "        if i < n_train_items / args.batch_size\n",
    "    ]\n",
    "    \n",
    "    encrypted_test_loader = [\n",
    "        (secret_share(data), secret_share(target.float()))\n",
    "        for i, (data, target) in enumerate(test_loader)\n",
    "        if i < n_test_items / args.test_batch_size\n",
    "    ]\n",
    "    \n",
    "    return encrypted_train_loader, encrypted_test_loader\n",
    "    \n",
    "    \n",
    "encrypted_train_loader, encrypted_test_loader = get_encrypted_data_loaders(\n",
    "    precision=args.precision_fractional,\n",
    "    workers=workers,\n",
    "    crypto_provider=crypto_provider\n",
    ")"
   ]
  },
  {
   "cell_type": "markdown",
   "metadata": {},
   "source": [
    "### Model specification"
   ]
  },
  {
   "cell_type": "code",
   "execution_count": 5,
   "metadata": {},
   "outputs": [],
   "source": [
    "class Net(nn.Module):\n",
    "    def __init__(self,layers):\n",
    "        super(Net, self).__init__()\n",
    "        self.fc1 = nn.Linear(28 * 28, layers)\n",
    "        self.fc2 = nn.Linear(layers, layers//2)\n",
    "        self.fc3 = nn.Linear(layers//2, 10)\n",
    "        \n",
    "    def forward(self, x):\n",
    "        x = x.view(-1, 28 * 28)\n",
    "        x = F.relu(self.fc1(x))\n",
    "        x = F.relu(self.fc2(x))\n",
    "        x = self.fc3(x)\n",
    "        return x"
   ]
  },
  {
   "cell_type": "markdown",
   "metadata": {},
   "source": [
    "### Training and testing functions"
   ]
  },
  {
   "cell_type": "code",
   "execution_count": 6,
   "metadata": {},
   "outputs": [],
   "source": [
    "#comparison params\n",
    "loss_across_epoch = []\n",
    "accuracy_across_epoch = []\n",
    "time_across_epoch = []\n"
   ]
  },
  {
   "cell_type": "code",
   "execution_count": 7,
   "metadata": {},
   "outputs": [],
   "source": [
    "def train(args, model, encrypted_train_loader, optimizer, epoch,verbose):\n",
    "    model.train()\n",
    "    for batch_idx, (data, target) in enumerate(encrypted_train_loader): \n",
    "        start_time = time.time()\n",
    "        \n",
    "        optimizer.zero_grad()\n",
    "        \n",
    "        output = model(data)\n",
    "        \n",
    "       \n",
    "        batch_size = output.shape[0]\n",
    "        loss = ((output - target)**2).sum().refresh()/batch_size\n",
    "        \n",
    "        loss.backward()\n",
    "        loss = loss.get().float_precision()\n",
    "        \n",
    "        loss_across_epoch.append(loss.item())\n",
    "        \n",
    "        optimizer.step()\n",
    "        t = time.time() - start_time\n",
    "        time_across_epoch.append(t)\n",
    "        if verbose:\n",
    "            print('Train Epoch: {} [{}/{} ({:.0f}%)]\\tLoss: {:.6f}\\tTime: {:.3f}s'.format(\n",
    "                    epoch, batch_idx * args.batch_size, len(encrypted_train_loader) * args.batch_size,\n",
    "                    100. * batch_idx / len(encrypted_train_loader), loss.item(), t))\n",
    "            "
   ]
  },
  {
   "cell_type": "code",
   "execution_count": 8,
   "metadata": {},
   "outputs": [],
   "source": [
    "def test(args, model, encrypted_test_loader,verbose):\n",
    "    model.eval()\n",
    "    test_loss = 0\n",
    "    correct = 0\n",
    "    with torch.no_grad():\n",
    "        for data, target in encrypted_test_loader:\n",
    "            start_time = time.time()\n",
    "            \n",
    "            output = model(data)\n",
    "            pred = output.argmax(dim=1)\n",
    "            correct += pred.eq(target.view_as(pred)).sum()\n",
    "            #print(len(private_test_loader))\n",
    "\n",
    "    correct = correct.get().float_precision()\n",
    "    acc = 100. * correct.item() / (len(encrypted_test_loader) * args.test_batch_size)\n",
    "    if verbose:\n",
    "        print('\\nTest set: Accuracy: {}/{} ({:.0f}%)\\n'.format(\n",
    "            correct.item(), len(encrypted_test_loader)* args.test_batch_size,acc))\n",
    "    return acc\n",
    "    "
   ]
  },
  {
   "cell_type": "markdown",
   "metadata": {},
   "source": [
    "### Start training"
   ]
  },
  {
   "cell_type": "code",
   "execution_count": 9,
   "metadata": {},
   "outputs": [
    {
     "name": "stdout",
     "output_type": "stream",
     "text": [
      "Train Epoch: 1 [0/640 (0%)]\tLoss: 1.150000\tTime: 3.641s\n",
      "Train Epoch: 1 [64/640 (10%)]\tLoss: 0.992000\tTime: 3.601s\n",
      "Train Epoch: 1 [128/640 (20%)]\tLoss: 0.944000\tTime: 3.551s\n",
      "Train Epoch: 1 [192/640 (30%)]\tLoss: 0.944000\tTime: 3.655s\n",
      "Train Epoch: 1 [256/640 (40%)]\tLoss: 0.867000\tTime: 3.663s\n",
      "Train Epoch: 1 [320/640 (50%)]\tLoss: 0.846000\tTime: 3.648s\n",
      "Train Epoch: 1 [384/640 (60%)]\tLoss: 0.873000\tTime: 3.677s\n",
      "Train Epoch: 1 [448/640 (70%)]\tLoss: 0.828000\tTime: 3.658s\n",
      "Train Epoch: 1 [512/640 (80%)]\tLoss: 0.783000\tTime: 3.676s\n",
      "Train Epoch: 1 [576/640 (90%)]\tLoss: 0.780000\tTime: 3.717s\n",
      "\n",
      "Test set: Accuracy: 241.0/640 (38%)\n",
      "\n",
      "Train Epoch: 2 [0/640 (0%)]\tLoss: 0.790000\tTime: 3.662s\n",
      "Train Epoch: 2 [64/640 (10%)]\tLoss: 0.738000\tTime: 3.618s\n",
      "Train Epoch: 2 [128/640 (20%)]\tLoss: 0.748000\tTime: 3.668s\n",
      "Train Epoch: 2 [192/640 (30%)]\tLoss: 0.791000\tTime: 3.688s\n",
      "Train Epoch: 2 [256/640 (40%)]\tLoss: 0.752000\tTime: 3.678s\n",
      "Train Epoch: 2 [320/640 (50%)]\tLoss: 0.743000\tTime: 3.656s\n",
      "Train Epoch: 2 [384/640 (60%)]\tLoss: 0.747000\tTime: 3.784s\n",
      "Train Epoch: 2 [448/640 (70%)]\tLoss: 0.727000\tTime: 3.723s\n",
      "Train Epoch: 2 [512/640 (80%)]\tLoss: 0.699000\tTime: 3.748s\n",
      "Train Epoch: 2 [576/640 (90%)]\tLoss: 0.691000\tTime: 3.745s\n",
      "\n",
      "Test set: Accuracy: 343.0/640 (54%)\n",
      "\n",
      "Train Epoch: 3 [0/640 (0%)]\tLoss: 0.731000\tTime: 3.600s\n",
      "Train Epoch: 3 [64/640 (10%)]\tLoss: 0.658000\tTime: 3.597s\n",
      "Train Epoch: 3 [128/640 (20%)]\tLoss: 0.671000\tTime: 3.612s\n",
      "Train Epoch: 3 [192/640 (30%)]\tLoss: 0.725000\tTime: 3.649s\n",
      "Train Epoch: 3 [256/640 (40%)]\tLoss: 0.700000\tTime: 3.680s\n",
      "Train Epoch: 3 [320/640 (50%)]\tLoss: 0.687000\tTime: 3.631s\n",
      "Train Epoch: 3 [384/640 (60%)]\tLoss: 0.684000\tTime: 3.647s\n",
      "Train Epoch: 3 [448/640 (70%)]\tLoss: 0.674000\tTime: 3.754s\n",
      "Train Epoch: 3 [512/640 (80%)]\tLoss: 0.643000\tTime: 3.701s\n",
      "Train Epoch: 3 [576/640 (90%)]\tLoss: 0.641000\tTime: 3.638s\n",
      "\n",
      "Test set: Accuracy: 376.0/640 (59%)\n",
      "\n"
     ]
    }
   ],
   "source": [
    "model = Net(128)\n",
    "model = model.fix_precision().share(*workers, crypto_provider=crypto_provider, requires_grad=True)\n",
    "\n",
    "optimizer = optim.SGD(model.parameters(), lr=args.lr)\n",
    "optimizer = optimizer.fix_precision() \n",
    "\n",
    "for epoch in range(1, args.epochs + 1):\n",
    "    train(args, model, encrypted_train_loader, optimizer, epoch,True)\n",
    "    acc_t = test(args, model, encrypted_test_loader,True)\n",
    "    accuracy_across_epoch.append(acc_t)"
   ]
  },
  {
   "cell_type": "code",
   "execution_count": 10,
   "metadata": {},
   "outputs": [
    {
     "data": {
      "image/png": "[encoded data removed]",
      "text/plain": [
       "<Figure size 432x288 with 1 Axes>"
      ]
     },
     "metadata": {
      "needs_background": "light"
     },
     "output_type": "display_data"
    },
    {
     "data": {
      "image/png": "[encoded data removed]",
      "text/plain": [
       "<Figure size 432x288 with 1 Axes>"
      ]
     },
     "metadata": {
      "needs_background": "light"
     },
     "output_type": "display_data"
    },
    {
     "data": {
      "image/png": "[encoded data removed]",
      "text/plain": [
       "<Figure size 432x288 with 1 Axes>"
      ]
     },
     "metadata": {
      "needs_background": "light"
     },
     "output_type": "display_data"
    }
   ],
   "source": [
    "#print(loss_across_epoch)\n",
    "cnt = np.arange(1, len(loss_across_epoch)+1, 1)\n",
    "\n",
    "plt.plot( cnt,loss_across_epoch)\n",
    "\n",
    "plt.xlabel('batch')\n",
    "plt.ylabel('loss')\n",
    "plt.title('Decreasing Loss through training phase')\n",
    "plt.grid(True)\n",
    "plt.show()\n",
    "\n",
    "cnt = np.arange(1, len(accuracy_across_epoch)+1, 1)\n",
    "\n",
    "plt.plot( cnt,accuracy_across_epoch)\n",
    "\n",
    "plt.xlabel('epoch')\n",
    "plt.ylabel('accuracy')\n",
    "plt.title('Accuracy through training phase')\n",
    "plt.grid(True)\n",
    "plt.show()\n",
    "\n",
    "cnt = np.arange(1, len(time_across_epoch)+1, 1)\n",
    "\n",
    "plt.plot( cnt,time_across_epoch)\n",
    "\n",
    "plt.xlabel('epoch')\n",
    "plt.ylabel('Time taken (s)')\n",
    "plt.title('Time per epoch')\n",
    "plt.grid(True)\n",
    "plt.show()"
   ]
  },
  {
   "cell_type": "code",
   "execution_count": null,
   "metadata": {},
   "outputs": [
    {
     "name": "stdout",
     "output_type": "stream",
     "text": [
      "\n",
      "Training with 16 neurons: Accuracy: 27%\n",
      "\n",
      "\n",
      "Training with 24 neurons: Accuracy: 30%\n",
      "\n",
      "\n",
      "Training with 32 neurons: Accuracy: 43%\n",
      "\n",
      "\n",
      "Training with 48 neurons: Accuracy: 36%\n",
      "\n",
      "\n",
      "Training with 64 neurons: Accuracy: 52%\n",
      "\n"
     ]
    }
   ],
   "source": [
    "for n in nn_model_neurons:\n",
    "    model = Net(n)\n",
    "    model = model.fix_precision().share(*workers, crypto_provider=crypto_provider, requires_grad=True)\n",
    "\n",
    "    optimizer = optim.SGD(model.parameters(), lr=args.lr)\n",
    "    optimizer = optimizer.fix_precision() \n",
    "\n",
    "    for epoch in range(1, args.epochs + 1):\n",
    "        train(args, model, encrypted_train_loader, optimizer, epoch,False)\n",
    "        acc_t = test(args, model, encrypted_test_loader,False)\n",
    "        \n",
    "    print('\\nTraining with {} neurons: Accuracy: {:.0f}%\\n'.format(n,acc_t))\n",
    "    accuracy_nn_model.append(acc_t)"
   ]
  },
  {
   "cell_type": "code",
   "execution_count": 4,
   "metadata": {},
   "outputs": [
    {
     "data": {
      "image/png": "[encoded data removed]",
      "text/plain": [
       "<Figure size 432x288 with 1 Axes>"
      ]
     },
     "metadata": {
      "needs_background": "light"
     },
     "output_type": "display_data"
    }
   ],
   "source": [
    "plt.plot( nn_model_neurons,accuracy_nn_model)\n",
    "\n",
    "plt.xlabel('neurons')\n",
    "plt.ylabel('accuracy')\n",
    "plt.title('Accuracy through training phase')\n",
    "plt.grid(True)\n",
    "plt.show()"
   ]
  },
  {
   "cell_type": "markdown",
   "metadata": {},
   "source": [
    "##### We are getting over 50% accuracy using only a subset of 640 images on only 3 passes of encrypted training data. Training set and number of epochs were reduced in the interest of saving training time. We are interested to demonstrate the training on encrypted data and not focus on accuracy achieved"
   ]
  },
  {
   "cell_type": "code",
   "execution_count": 11,
   "metadata": {},
   "outputs": [],
   "source": [
    "#Save metadata\n",
    "with open('fashion-enc-time', 'wb') as fp:\n",
    "    pickle.dump(time_across_epoch, fp)\n",
    "    \n",
    "with open('fashion-enc-acc', 'wb') as fp:\n",
    "    pickle.dump(accuracy_across_epoch, fp)"
   ]
  },
  {
   "cell_type": "code",
   "execution_count": 5,
   "metadata": {},
   "outputs": [],
   "source": [
    "with open('fashion-enc-comp', 'wb') as fp:\n",
    "    pickle.dump(accuracy_nn_model, fp)"
   ]
  }
 ],
 "metadata": {
  "celltoolbar": "Tags",
  "kernelspec": {
   "display_name": "Python 3",
   "language": "python",
   "name": "python3"
  },
  "language_info": {
   "codemirror_mode": {
    "name": "ipython",
    "version": 3
   },
   "file_extension": ".py",
   "mimetype": "text/x-python",
   "name": "python",
   "nbconvert_exporter": "python",
   "pygments_lexer": "ipython3",
   "version": "3.7.6"
  }
 },
 "nbformat": 4,
 "nbformat_minor": 4
}
