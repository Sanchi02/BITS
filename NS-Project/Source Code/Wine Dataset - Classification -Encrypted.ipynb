{
 "cells": [
  {
   "cell_type": "markdown",
   "metadata": {},
   "source": [
    "# Wine Dataset\n",
    "Has 13 different attributes of wine classified into three types.\n",
    "The attributes are\n",
    "1) Alcohol\n",
    "2) Malic acid\n",
    "3) Ash\n",
    "4) Alcalinity of ash\n",
    "5) Magnesium\n",
    "6) Total phenols\n",
    "7) Flavanoids\n",
    "8) Nonflavanoid phenols\n",
    "9) Proanthocyanins\n",
    "10) Color intensity\n",
    "11) Hue\n",
    "12) OD280/OD315 of diluted wines\n",
    "13) Proline\n"
   ]
  },
  {
   "cell_type": "markdown",
   "metadata": {},
   "source": [
    "### Encrypted Training"
   ]
  },
  {
   "cell_type": "code",
   "execution_count": 1,
   "metadata": {},
   "outputs": [
    {
     "name": "stderr",
     "output_type": "stream",
     "text": [
      "Falling back to insecure randomness since the required custom op could not be found for the installed version of TensorFlow. Fix this by compiling custom ops. Missing file was '/opt/conda/lib/python3.7/site-packages/tf_encrypted/operations/secure_random/secure_random_module_tf_1.15.2.so'\n"
     ]
    },
    {
     "name": "stdout",
     "output_type": "stream",
     "text": [
      "WARNING:tensorflow:From /opt/conda/lib/python3.7/site-packages/tf_encrypted/session.py:24: The name tf.Session is deprecated. Please use tf.compat.v1.Session instead.\n",
      "\n"
     ]
    }
   ],
   "source": [
    "import torch\n",
    "import torch.nn as nn\n",
    "import torch.nn.functional as F\n",
    "import torch.optim as optim\n",
    "\n",
    "from torch.autograd import Variable\n",
    "from torchvision import datasets, transforms\n",
    "from torch.utils.data import Dataset, DataLoader\n",
    "from torch.utils.data.sampler import SubsetRandomSampler\n",
    "\n",
    "from sklearn.datasets import load_iris\n",
    "from sklearn.datasets import load_wine\n",
    "from sklearn.model_selection import train_test_split\n",
    "from sklearn.metrics import accuracy_score, precision_score, recall_score\n",
    "from sklearn.preprocessing import StandardScaler\n",
    "\n",
    "import numpy as np\n",
    "import matplotlib.pyplot as plt\n",
    "import time\n",
    "import syft as sy\n",
    "\n",
    "import pickle"
   ]
  },
  {
   "cell_type": "code",
   "execution_count": 2,
   "metadata": {},
   "outputs": [],
   "source": [
    "#Hyper-parameters for the training\n",
    "class Arguments():\n",
    "    def __init__(self):\n",
    "        self.batch_size = 10\n",
    "        self.test_batch_size = 10\n",
    "        self.epochs = 5\n",
    "        self.lr = 0.01\n",
    "        self.seed = 1\n",
    "        self.log_interval = 1 \n",
    "        self.precision_fractional = 3\n",
    "\n",
    "args = Arguments()\n",
    "\n",
    "_ = torch.manual_seed(args.seed)\n",
    "\n",
    "batch_size = 10\n",
    "n_train_items = 120\n",
    "n_test_items = 50"
   ]
  },
  {
   "cell_type": "code",
   "execution_count": 3,
   "metadata": {},
   "outputs": [],
   "source": [
    "hook = sy.TorchHook(torch) \n",
    "\n",
    "def connect_to_workers(n_workers):\n",
    "    return [\n",
    "        sy.VirtualWorker(hook, id=f\"worker{i+1}\")\n",
    "        for i in range(n_workers)\n",
    "    ]\n",
    "def connect_to_crypto_provider():\n",
    "    return sy.VirtualWorker(hook, id=\"crypto_provider\")\n",
    "\n",
    "workers = connect_to_workers(n_workers=2)\n",
    "crypto_provider = connect_to_crypto_provider()"
   ]
  },
  {
   "cell_type": "markdown",
   "metadata": {},
   "source": [
    "### Loading secret data"
   ]
  },
  {
   "cell_type": "code",
   "execution_count": 4,
   "metadata": {},
   "outputs": [],
   "source": [
    "X, y = load_wine(return_X_y=True)\n",
    "train, test = train_test_split(list(range(X.shape[0])), test_size=.3)"
   ]
  },
  {
   "cell_type": "code",
   "execution_count": 5,
   "metadata": {},
   "outputs": [],
   "source": [
    "class PrepareData(torch.utils.data.Dataset):\n",
    "\n",
    "    def __init__(self, X, y, scale_X=True):\n",
    "        if not torch.is_tensor(X):\n",
    "            if scale_X:\n",
    "                X = StandardScaler().fit_transform(X)\n",
    "                self.X = torch.from_numpy(X)\n",
    "        if not torch.is_tensor(y):\n",
    "            self.y = torch.from_numpy(y)\n",
    "\n",
    "    def __len__(self):\n",
    "        return len(self.X)\n",
    "\n",
    "    def __getitem__(self, idx):\n",
    "        return self.X[idx], self.y[idx]"
   ]
  },
  {
   "cell_type": "code",
   "execution_count": 6,
   "metadata": {
    "scrolled": false
   },
   "outputs": [],
   "source": [
    "def get_encrypted_data_loaders(workers,precision,crypto_provider):\n",
    "    \n",
    "    def to_categorical(index_tensor):\n",
    "        cat_tensor = torch.zeros(*index_tensor.shape, 3) \n",
    "        cat_tensor = cat_tensor.scatter(1, index_tensor.view(-1, 1), 1)\n",
    "        return cat_tensor\n",
    "        \n",
    "    def secret_share(tensor):\n",
    "        return (\n",
    "            tensor\n",
    "            .fix_precision(precision_fractional=precision)\n",
    "            .share(*workers, crypto_provider=crypto_provider, requires_grad=True)\n",
    "        )\n",
    "    \n",
    "    ds = PrepareData(X, y=y, scale_X=True)\n",
    "\n",
    "\n",
    "    training_set = DataLoader(ds, batch_size=batch_size,sampler=SubsetRandomSampler(train))\n",
    "    testing_set = DataLoader(ds, batch_size=batch_size,sampler=SubsetRandomSampler(test))\n",
    "    \n",
    "    train_loader = training_set\n",
    "    \n",
    "    encrypted_train_loader = [\n",
    "        (secret_share(data), secret_share(to_categorical(target)))\n",
    "        for i, (data, target) in enumerate(train_loader)\n",
    "        if i < n_train_items / args.batch_size\n",
    "    ]\n",
    "    \n",
    "    test_loader = testing_set\n",
    "    \n",
    "    encrypted_test_loader = [\n",
    "        (secret_share(data), secret_share(target.float()))\n",
    "        for i, (data, target) in enumerate(test_loader)\n",
    "        if i < n_test_items / args.test_batch_size\n",
    "    ]\n",
    "    \n",
    "    return encrypted_train_loader, encrypted_test_loader\n",
    "    \n",
    "encrypted_train_loader, encrypted_test_loader = get_encrypted_data_loaders(\n",
    "    precision=args.precision_fractional,\n",
    "    workers=workers,\n",
    "    crypto_provider=crypto_provider\n",
    ")"
   ]
  },
  {
   "cell_type": "markdown",
   "metadata": {},
   "source": [
    "### Model specification"
   ]
  },
  {
   "cell_type": "code",
   "execution_count": 7,
   "metadata": {},
   "outputs": [],
   "source": [
    "class Net(nn.Module):\n",
    "    def __init__(self,layers):\n",
    "        super(Net, self).__init__()\n",
    "        self.layer1 = nn.Linear(13,layers)\n",
    "        self.layer2 = nn.Linear(layers, layers//2)\n",
    "        self.layer3 = nn.Linear(layers//2, 3)\n",
    "        \n",
    "    def forward(self, x):\n",
    "        x = F.relu(self.layer1(x))\n",
    "        x = F.relu(self.layer2(x))\n",
    "        x = self.layer3(x)\n",
    "        return x"
   ]
  },
  {
   "cell_type": "markdown",
   "metadata": {},
   "source": [
    "### Training and testing functions"
   ]
  },
  {
   "cell_type": "code",
   "execution_count": 8,
   "metadata": {},
   "outputs": [],
   "source": [
    "#comparison params\n",
    "loss_across_epoch = []\n",
    "accuracy_across_epoch = []\n",
    "accuracy_nn_model = []\n",
    "time_across_epoch = []\n",
    "nn_model_neurons = [16,24,32,48,64,84]"
   ]
  },
  {
   "cell_type": "code",
   "execution_count": 9,
   "metadata": {},
   "outputs": [],
   "source": [
    "def train(args, model, encrypted_train_loader, optimizer, epoch,verbose):\n",
    "    model.train()\n",
    "    for batch_idx, (data, target) in enumerate(encrypted_train_loader): \n",
    "        start_time = time.time()\n",
    "        optimizer.zero_grad()\n",
    "        output = model(data)\n",
    "        batch_size = output.shape[0]\n",
    "        loss = ((output - target)**2).sum().refresh()/batch_size\n",
    "        loss.backward()\n",
    "        loss = loss.get().float_precision()\n",
    "        loss_across_epoch.append(loss.item())\n",
    "        optimizer.step()\n",
    "        t = time.time() - start_time\n",
    "        time_across_epoch.append(t)\n",
    "        if verbose:\n",
    "            print('Train Epoch: {} [{}/{} ({:.0f}%)]\\tLoss: {:.6f}\\tTime: {:.3f}s'.format(\n",
    "                    epoch, batch_idx * args.batch_size, len(encrypted_train_loader) * args.batch_size,\n",
    "                    100. * batch_idx / len(encrypted_train_loader), loss.item(), t))\n",
    "            "
   ]
  },
  {
   "cell_type": "code",
   "execution_count": 10,
   "metadata": {},
   "outputs": [],
   "source": [
    "def test(args, model, encrypted_test_loader,verbose):\n",
    "    model.eval()\n",
    "    test_loss = 0\n",
    "    correct = 0\n",
    "    with torch.no_grad():\n",
    "        for data, target in encrypted_test_loader:\n",
    "            start_time = time.time()\n",
    "            output = model(data)\n",
    "            pred = output.argmax(dim=1)\n",
    "            correct += pred.eq(target.view_as(pred)).sum()\n",
    "    correct = correct.get().float_precision()\n",
    "    acc = 100. * correct.item() / (len(encrypted_test_loader) * args.test_batch_size)\n",
    "    if verbose:\n",
    "        print('\\nTest set: Accuracy: {}/{} ({:.0f}%)\\n'.format(\n",
    "            correct.item(), len(encrypted_test_loader)* args.test_batch_size,acc))\n",
    "    return acc\n",
    "    "
   ]
  },
  {
   "cell_type": "markdown",
   "metadata": {},
   "source": [
    "### Start training"
   ]
  },
  {
   "cell_type": "code",
   "execution_count": 11,
   "metadata": {},
   "outputs": [
    {
     "name": "stdout",
     "output_type": "stream",
     "text": [
      "Train Epoch: 1 [0/120 (0%)]\tLoss: 0.879000\tTime: 1.331s\n",
      "Train Epoch: 1 [10/120 (8%)]\tLoss: 0.826000\tTime: 1.325s\n",
      "Train Epoch: 1 [20/120 (17%)]\tLoss: 0.890000\tTime: 1.344s\n",
      "Train Epoch: 1 [30/120 (25%)]\tLoss: 0.782000\tTime: 1.323s\n",
      "Train Epoch: 1 [40/120 (33%)]\tLoss: 0.755000\tTime: 1.339s\n",
      "Train Epoch: 1 [50/120 (42%)]\tLoss: 0.779000\tTime: 1.333s\n",
      "Train Epoch: 1 [60/120 (50%)]\tLoss: 0.710000\tTime: 1.333s\n",
      "Train Epoch: 1 [70/120 (58%)]\tLoss: 0.745000\tTime: 1.326s\n",
      "Train Epoch: 1 [80/120 (67%)]\tLoss: 0.660000\tTime: 1.367s\n",
      "Train Epoch: 1 [90/120 (75%)]\tLoss: 0.677000\tTime: 1.333s\n",
      "Train Epoch: 1 [100/120 (83%)]\tLoss: 0.701000\tTime: 1.299s\n",
      "Train Epoch: 1 [110/120 (92%)]\tLoss: 0.724000\tTime: 1.302s\n",
      "\n",
      "Test set: Accuracy: 15.0/50 (30%)\n",
      "\n",
      "Train Epoch: 2 [0/120 (0%)]\tLoss: 0.660000\tTime: 1.319s\n",
      "Train Epoch: 2 [10/120 (8%)]\tLoss: 0.587000\tTime: 1.307s\n",
      "Train Epoch: 2 [20/120 (17%)]\tLoss: 0.658000\tTime: 1.301s\n",
      "Train Epoch: 2 [30/120 (25%)]\tLoss: 0.569000\tTime: 1.309s\n",
      "Train Epoch: 2 [40/120 (33%)]\tLoss: 0.586000\tTime: 1.311s\n",
      "Train Epoch: 2 [50/120 (42%)]\tLoss: 0.607000\tTime: 1.298s\n",
      "Train Epoch: 2 [60/120 (50%)]\tLoss: 0.535000\tTime: 1.307s\n",
      "Train Epoch: 2 [70/120 (58%)]\tLoss: 0.578000\tTime: 1.300s\n",
      "Train Epoch: 2 [80/120 (67%)]\tLoss: 0.532000\tTime: 1.309s\n",
      "Train Epoch: 2 [90/120 (75%)]\tLoss: 0.546000\tTime: 1.315s\n",
      "Train Epoch: 2 [100/120 (83%)]\tLoss: 0.541000\tTime: 1.303s\n",
      "Train Epoch: 2 [110/120 (92%)]\tLoss: 0.550000\tTime: 1.296s\n",
      "\n",
      "Test set: Accuracy: 41.0/50 (82%)\n",
      "\n",
      "Train Epoch: 3 [0/120 (0%)]\tLoss: 0.546000\tTime: 1.295s\n",
      "Train Epoch: 3 [10/120 (8%)]\tLoss: 0.466000\tTime: 1.291s\n",
      "Train Epoch: 3 [20/120 (17%)]\tLoss: 0.533000\tTime: 1.292s\n",
      "Train Epoch: 3 [30/120 (25%)]\tLoss: 0.454000\tTime: 1.288s\n",
      "Train Epoch: 3 [40/120 (33%)]\tLoss: 0.488000\tTime: 1.291s\n",
      "Train Epoch: 3 [50/120 (42%)]\tLoss: 0.515000\tTime: 1.326s\n",
      "Train Epoch: 3 [60/120 (50%)]\tLoss: 0.436000\tTime: 1.408s\n",
      "Train Epoch: 3 [70/120 (58%)]\tLoss: 0.481000\tTime: 1.336s\n",
      "Train Epoch: 3 [80/120 (67%)]\tLoss: 0.464000\tTime: 1.307s\n",
      "Train Epoch: 3 [90/120 (75%)]\tLoss: 0.467000\tTime: 1.313s\n",
      "Train Epoch: 3 [100/120 (83%)]\tLoss: 0.445000\tTime: 1.296s\n",
      "Train Epoch: 3 [110/120 (92%)]\tLoss: 0.444000\tTime: 1.293s\n",
      "\n",
      "Test set: Accuracy: 42.0/50 (84%)\n",
      "\n",
      "Train Epoch: 4 [0/120 (0%)]\tLoss: 0.475000\tTime: 1.300s\n",
      "Train Epoch: 4 [10/120 (8%)]\tLoss: 0.389000\tTime: 1.287s\n",
      "Train Epoch: 4 [20/120 (17%)]\tLoss: 0.459000\tTime: 1.297s\n",
      "Train Epoch: 4 [30/120 (25%)]\tLoss: 0.377000\tTime: 1.299s\n",
      "Train Epoch: 4 [40/120 (33%)]\tLoss: 0.417000\tTime: 1.298s\n",
      "Train Epoch: 4 [50/120 (42%)]\tLoss: 0.451000\tTime: 1.284s\n",
      "Train Epoch: 4 [60/120 (50%)]\tLoss: 0.362000\tTime: 1.312s\n",
      "Train Epoch: 4 [70/120 (58%)]\tLoss: 0.412000\tTime: 1.288s\n",
      "Train Epoch: 4 [80/120 (67%)]\tLoss: 0.414000\tTime: 1.292s\n",
      "Train Epoch: 4 [90/120 (75%)]\tLoss: 0.402000\tTime: 1.363s\n",
      "Train Epoch: 4 [100/120 (83%)]\tLoss: 0.376000\tTime: 1.284s\n",
      "Train Epoch: 4 [110/120 (92%)]\tLoss: 0.371000\tTime: 1.285s\n",
      "\n",
      "Test set: Accuracy: 42.0/50 (84%)\n",
      "\n",
      "Train Epoch: 5 [0/120 (0%)]\tLoss: 0.418000\tTime: 1.290s\n",
      "Train Epoch: 5 [10/120 (8%)]\tLoss: 0.323000\tTime: 1.282s\n",
      "Train Epoch: 5 [20/120 (17%)]\tLoss: 0.405000\tTime: 1.283s\n",
      "Train Epoch: 5 [30/120 (25%)]\tLoss: 0.315000\tTime: 1.306s\n",
      "Train Epoch: 5 [40/120 (33%)]\tLoss: 0.359000\tTime: 1.309s\n",
      "Train Epoch: 5 [50/120 (42%)]\tLoss: 0.397000\tTime: 1.305s\n",
      "Train Epoch: 5 [60/120 (50%)]\tLoss: 0.296000\tTime: 1.301s\n",
      "Train Epoch: 5 [70/120 (58%)]\tLoss: 0.361000\tTime: 1.306s\n",
      "Train Epoch: 5 [80/120 (67%)]\tLoss: 0.364000\tTime: 1.307s\n",
      "Train Epoch: 5 [90/120 (75%)]\tLoss: 0.343000\tTime: 1.305s\n",
      "Train Epoch: 5 [100/120 (83%)]\tLoss: 0.327000\tTime: 1.321s\n",
      "Train Epoch: 5 [110/120 (92%)]\tLoss: 0.319000\tTime: 1.333s\n",
      "\n",
      "Test set: Accuracy: 44.0/50 (88%)\n",
      "\n"
     ]
    }
   ],
   "source": [
    "model = Net(80)\n",
    "model = model.fix_precision().share(*workers, crypto_provider=crypto_provider, requires_grad=True)\n",
    "\n",
    "optimizer = optim.SGD(model.parameters(), lr=args.lr)\n",
    "optimizer = optimizer.fix_precision() \n",
    "\n",
    "for epoch in range(1, args.epochs + 1):\n",
    "    train(args, model, encrypted_train_loader, optimizer, epoch,True)\n",
    "    acc_t = test(args, model, encrypted_test_loader,True)\n",
    "    accuracy_across_epoch.append(acc_t)"
   ]
  },
  {
   "cell_type": "code",
   "execution_count": 12,
   "metadata": {},
   "outputs": [
    {
     "data": {
      "image/png": "[encoded data removed]",
      "text/plain": [
       "<Figure size 432x288 with 1 Axes>"
      ]
     },
     "metadata": {
      "needs_background": "light"
     },
     "output_type": "display_data"
    },
    {
     "data": {
      "image/png": "[encoded data removed]",
      "text/plain": [
       "<Figure size 432x288 with 1 Axes>"
      ]
     },
     "metadata": {
      "needs_background": "light"
     },
     "output_type": "display_data"
    },
    {
     "data": {
      "image/png": "[encoded data removed]",
      "text/plain": [
       "<Figure size 432x288 with 1 Axes>"
      ]
     },
     "metadata": {
      "needs_background": "light"
     },
     "output_type": "display_data"
    }
   ],
   "source": [
    "#print(loss_across_epoch)\n",
    "cnt = np.arange(1, len(loss_across_epoch)+1, 1)\n",
    "\n",
    "plt.plot( cnt,loss_across_epoch)\n",
    "\n",
    "plt.xlabel('batch')\n",
    "plt.ylabel('loss')\n",
    "plt.title('Decreasing Loss through training phase')\n",
    "plt.grid(True)\n",
    "plt.show()\n",
    "\n",
    "cnt = np.arange(1, len(accuracy_across_epoch)+1, 1)\n",
    "\n",
    "plt.plot( cnt,accuracy_across_epoch)\n",
    "\n",
    "plt.xlabel('epoch')\n",
    "plt.ylabel('accuracy')\n",
    "plt.title('Accuracy through training phase')\n",
    "plt.grid(True)\n",
    "plt.show()\n",
    "\n",
    "cnt = np.arange(1, len(time_across_epoch)+1, 1)\n",
    "\n",
    "plt.plot( cnt,time_across_epoch)\n",
    "\n",
    "plt.xlabel('epoch')\n",
    "plt.ylabel('Time taken (s)')\n",
    "plt.title('Time per epoch')\n",
    "plt.grid(True)\n",
    "plt.show()"
   ]
  },
  {
   "cell_type": "code",
   "execution_count": 14,
   "metadata": {},
   "outputs": [
    {
     "name": "stdout",
     "output_type": "stream",
     "text": [
      "\n",
      "Training with 16 neurons: Accuracy: 68%\n",
      "\n",
      "\n",
      "Training with 24 neurons: Accuracy: 40%\n",
      "\n",
      "\n",
      "Training with 32 neurons: Accuracy: 52%\n",
      "\n",
      "\n",
      "Training with 48 neurons: Accuracy: 96%\n",
      "\n",
      "\n",
      "Training with 64 neurons: Accuracy: 88%\n",
      "\n",
      "\n",
      "Training with 84 neurons: Accuracy: 92%\n",
      "\n"
     ]
    }
   ],
   "source": [
    "for n in nn_model_neurons:\n",
    "    model = Net(n)\n",
    "    model = model.fix_precision().share(*workers, crypto_provider=crypto_provider, requires_grad=True)\n",
    "\n",
    "    optimizer = optim.SGD(model.parameters(), lr=args.lr)\n",
    "    optimizer = optimizer.fix_precision() \n",
    "\n",
    "    for epoch in range(1, args.epochs + 1):\n",
    "        train(args, model, encrypted_train_loader, optimizer, epoch,False)\n",
    "        acc_t = test(args, model, encrypted_test_loader,False)\n",
    "        \n",
    "    print('\\nTraining with {} neurons: Accuracy: {:.0f}%\\n'.format(n,acc_t))\n",
    "    accuracy_nn_model.append(acc_t)"
   ]
  },
  {
   "cell_type": "code",
   "execution_count": 15,
   "metadata": {},
   "outputs": [
    {
     "data": {
      "image/png": "[encoded data removed]",
      "text/plain": [
       "<Figure size 432x288 with 1 Axes>"
      ]
     },
     "metadata": {
      "needs_background": "light"
     },
     "output_type": "display_data"
    }
   ],
   "source": [
    "plt.plot( nn_model_neurons,accuracy_nn_model)\n",
    "\n",
    "plt.xlabel('neurons')\n",
    "plt.ylabel('accuracy')\n",
    "plt.title('Accuracy with varying model complexity')\n",
    "plt.grid(True)\n",
    "plt.show()"
   ]
  },
  {
   "cell_type": "markdown",
   "metadata": {},
   "source": [
    "We are getting over 90% accuracy using encrypted training data."
   ]
  },
  {
   "cell_type": "code",
   "execution_count": 13,
   "metadata": {},
   "outputs": [],
   "source": [
    "#Save metadata\n",
    "with open('wine-enc-time', 'wb') as fp:\n",
    "    pickle.dump(time_across_epoch, fp)\n",
    "    \n",
    "with open('wine-enc-acc', 'wb') as fp:\n",
    "    pickle.dump(accuracy_across_epoch, fp)\n",
    "    "
   ]
  },
  {
   "cell_type": "code",
   "execution_count": 17,
   "metadata": {},
   "outputs": [],
   "source": [
    "with open('wine-enc-comp', 'wb') as fp:\n",
    "    pickle.dump(accuracy_nn_model, fp)"
   ]
  }
 ],
 "metadata": {
  "celltoolbar": "Tags",
  "kernelspec": {
   "display_name": "Python 3",
   "language": "python",
   "name": "python3"
  },
  "language_info": {
   "codemirror_mode": {
    "name": "ipython",
    "version": 3
   },
   "file_extension": ".py",
   "mimetype": "text/x-python",
   "name": "python",
   "nbconvert_exporter": "python",
   "pygments_lexer": "ipython3",
   "version": "3.7.6"
  }
 },
 "nbformat": 4,
 "nbformat_minor": 4
}
