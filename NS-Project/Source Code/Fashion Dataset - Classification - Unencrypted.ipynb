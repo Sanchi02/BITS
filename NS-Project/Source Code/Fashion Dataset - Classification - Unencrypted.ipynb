{
 "cells": [
  {
   "cell_type": "markdown",
   "metadata": {},
   "source": [
    "# Fashion Dataset\n",
    "\n",
    "The dataset consists of various images of clothing accessories, footwears, personal care items etc. The task is to classify these images into their respective article type.\n",
    "\n",
    "The data looks as follows, \n",
    "\n",
    "\n",
    "\n",
    "<img src=\"FashionData.png\">"
   ]
  },
  {
   "cell_type": "markdown",
   "metadata": {},
   "source": [
    "### Un-encrypted Training"
   ]
  },
  {
   "cell_type": "code",
   "execution_count": 4,
   "metadata": {},
   "outputs": [],
   "source": [
    "# imports\n",
    "import torch\n",
    "import torch.nn as nn\n",
    "import torch.nn.functional as F\n",
    "import torch.optim as optim\n",
    "from torch.autograd import Variable\n",
    "from torchvision import datasets, transforms\n",
    "from torch.utils.data import Dataset, DataLoader\n",
    "from torch.utils.data.sampler import SubsetRandomSampler\n",
    "\n",
    "import time\n",
    "\n",
    "from sklearn.datasets import load_iris\n",
    "from sklearn.datasets import load_wine\n",
    "from sklearn.model_selection import train_test_split\n",
    "from sklearn.metrics import accuracy_score, precision_score, recall_score\n",
    "from sklearn.preprocessing import StandardScaler\n",
    "\n",
    "import numpy as np\n",
    "\n",
    "import matplotlib.pyplot as plt\n",
    "\n",
    "import pickle"
   ]
  },
  {
   "cell_type": "code",
   "execution_count": 31,
   "metadata": {},
   "outputs": [],
   "source": [
    "#Hyper-parameters for the training\n",
    "class Arguments():\n",
    "    def __init__(self):\n",
    "        self.batch_size = 64\n",
    "        self.test_batch_size = 64\n",
    "        self.epochs = 10\n",
    "        self.lr = 0.01\n",
    "        self.seed = 1\n",
    "        self.log_interval = 1 \n",
    "        self.precision_fractional = 9\n",
    "\n",
    "args = Arguments()\n",
    "\n",
    "_ = torch.manual_seed(args.seed)\n",
    "\n",
    "\n",
    "n_train_items = 640\n",
    "n_test_items = 640"
   ]
  },
  {
   "cell_type": "code",
   "execution_count": 19,
   "metadata": {
    "scrolled": false
   },
   "outputs": [],
   "source": [
    "def get_data_loaders():\n",
    "    \n",
    "    def to_categorical(index_tensor):\n",
    "       \n",
    "        #print(\"Index_tensor = {}\".format(index_tensor))\n",
    "        cat_tensor = torch.zeros(*index_tensor.shape, 10) \n",
    "        cat_tensor = cat_tensor.scatter(1, index_tensor.view(-1, 1), 1)\n",
    "        return cat_tensor\n",
    "    \n",
    "#         l=[]\n",
    "#         for i in index_tensor:\n",
    "#             l.append(np.eye(3, dtype='uint8')[i])\n",
    "#         return torch.tensor(l)\n",
    "        \n",
    "    def secret_share(tensor):\n",
    "        \"\"\"\n",
    "        Transform to fixed precision and secret share a tensor\n",
    "        \"\"\"\n",
    "        return (\n",
    "            tensor\n",
    "        )\n",
    "    \n",
    "    transformation = transforms.Compose([\n",
    "        transforms.ToTensor(),\n",
    "        transforms.Normalize((0.1307,), (0.3081,))\n",
    "    ])\n",
    "    \n",
    "    train_loader = torch.utils.data.DataLoader(\n",
    "        datasets.FashionMNIST('../data', train=True, download=True, transform=transformation),\n",
    "        batch_size=args.batch_size\n",
    "    )\n",
    "        \n",
    "    test_loader = torch.utils.data.DataLoader(\n",
    "        datasets.FashionMNIST('../data', train=False, download=True, transform=transformation),\n",
    "        batch_size=args.test_batch_size\n",
    "    )\n",
    "    \n",
    "    encrypted_train_loader = [\n",
    "        (secret_share(data), secret_share(target))\n",
    "        for i, (data, target) in enumerate(train_loader)\n",
    "        if i < n_train_items / args.batch_size\n",
    "    ]\n",
    "    \n",
    "    encrypted_test_loader = [\n",
    "        (secret_share(data), secret_share(target.float()))\n",
    "        for i, (data, target) in enumerate(test_loader)\n",
    "        if i < n_test_items / args.test_batch_size\n",
    "    ]\n",
    "    \n",
    "    return encrypted_train_loader, encrypted_test_loader\n",
    "    \n",
    "    \n",
    "encrypted_train_loader, encrypted_test_loader = get_data_loaders()"
   ]
  },
  {
   "cell_type": "markdown",
   "metadata": {},
   "source": [
    "### Model specification"
   ]
  },
  {
   "cell_type": "code",
   "execution_count": 20,
   "metadata": {},
   "outputs": [],
   "source": [
    "class Net(nn.Module):\n",
    "    def __init__(self,layers):\n",
    "        super(Net, self).__init__()\n",
    "        self.fc1 = nn.Linear(28 * 28, layers)\n",
    "        self.fc2 = nn.Linear(layers, layers//2)\n",
    "        self.fc3 = nn.Linear(layers//2, 10)\n",
    "        \n",
    "    def forward(self, x):\n",
    "        x = x.view(-1, 28 * 28)\n",
    "        x = F.relu(self.fc1(x))\n",
    "        x = F.relu(self.fc2(x))\n",
    "        x = self.fc3(x)\n",
    "        return x"
   ]
  },
  {
   "cell_type": "markdown",
   "metadata": {},
   "source": [
    "### Training and testing functions"
   ]
  },
  {
   "cell_type": "code",
   "execution_count": 32,
   "metadata": {},
   "outputs": [],
   "source": [
    "#comparison params\n",
    "loss_across_epoch = []\n",
    "accuracy_across_epoch = []\n",
    "time_across_epoch = []\n"
   ]
  },
  {
   "cell_type": "code",
   "execution_count": 28,
   "metadata": {},
   "outputs": [],
   "source": [
    "def train(args, model, encrypted_train_loader, optimizer, epoch,verbose):\n",
    "    model.train()\n",
    "    for batch_idx, (data, target) in enumerate(encrypted_train_loader): \n",
    "        start_time = time.time()\n",
    "        \n",
    "        optimizer.zero_grad()\n",
    "        \n",
    "        output = model(data)\n",
    "        \n",
    "       \n",
    "        batch_size = output.shape[0]\n",
    "        loss = loss_fn(output, target)\n",
    "        #print (\"The loss calculated: \", loss.item())\n",
    "        loss_across_epoch.append(loss.item())\n",
    "        \n",
    "        loss.backward()\n",
    "        \n",
    "        loss_across_epoch.append(loss.item())\n",
    "        \n",
    "        optimizer.step()\n",
    "        t = time.time() - start_time\n",
    "        time_across_epoch.append(t)\n",
    "        if verbose:\n",
    "            print('Train Epoch: {} [{}/{} ({:.0f}%)]\\tLoss: {:.6f}\\tTime: {:.3f}s'.format(\n",
    "                    epoch, batch_idx * args.batch_size, len(encrypted_train_loader) * args.batch_size,\n",
    "                    100. * batch_idx / len(encrypted_train_loader), loss.item(), t))\n",
    "            "
   ]
  },
  {
   "cell_type": "code",
   "execution_count": 29,
   "metadata": {},
   "outputs": [],
   "source": [
    "def test(args, model, encrypted_test_loader,verbose):\n",
    "    model.eval()\n",
    "    test_loss = 0\n",
    "    correct = 0\n",
    "    with torch.no_grad():\n",
    "        for data, target in encrypted_test_loader:\n",
    "            start_time = time.time()\n",
    "            \n",
    "            output = model(data)\n",
    "            pred = output.argmax(dim=1)\n",
    "            correct += pred.eq(target.view_as(pred)).sum()\n",
    "            #print(len(private_test_loader))\n",
    "\n",
    " \n",
    "    acc = 100. * correct.item() / (len(encrypted_test_loader) * args.test_batch_size)\n",
    "    if verbose:\n",
    "        print('\\nTest set: Accuracy: {}/{} ({:.0f}%)\\n'.format(\n",
    "            correct.item(), len(encrypted_test_loader)* args.test_batch_size,acc))\n",
    "    return acc\n",
    "    "
   ]
  },
  {
   "cell_type": "markdown",
   "metadata": {},
   "source": [
    "### Start training"
   ]
  },
  {
   "cell_type": "code",
   "execution_count": 33,
   "metadata": {},
   "outputs": [
    {
     "name": "stdout",
     "output_type": "stream",
     "text": [
      "Train Epoch: 1 [0/640 (0%)]\tLoss: 2.330018\tTime: 0.004s\n",
      "Train Epoch: 1 [64/640 (10%)]\tLoss: 2.321345\tTime: 0.005s\n",
      "Train Epoch: 1 [128/640 (20%)]\tLoss: 2.347537\tTime: 0.005s\n",
      "Train Epoch: 1 [192/640 (30%)]\tLoss: 2.304964\tTime: 0.004s\n",
      "Train Epoch: 1 [256/640 (40%)]\tLoss: 2.299259\tTime: 0.004s\n",
      "Train Epoch: 1 [320/640 (50%)]\tLoss: 2.283364\tTime: 0.004s\n",
      "Train Epoch: 1 [384/640 (60%)]\tLoss: 2.293389\tTime: 0.004s\n",
      "Train Epoch: 1 [448/640 (70%)]\tLoss: 2.278908\tTime: 0.003s\n",
      "Train Epoch: 1 [512/640 (80%)]\tLoss: 2.296058\tTime: 0.004s\n",
      "Train Epoch: 1 [576/640 (90%)]\tLoss: 2.277844\tTime: 0.004s\n",
      "\n",
      "Test set: Accuracy: 109/640 (17%)\n",
      "\n",
      "Train Epoch: 2 [0/640 (0%)]\tLoss: 2.261100\tTime: 0.003s\n",
      "Train Epoch: 2 [64/640 (10%)]\tLoss: 2.232456\tTime: 0.003s\n",
      "Train Epoch: 2 [128/640 (20%)]\tLoss: 2.254889\tTime: 0.003s\n",
      "Train Epoch: 2 [192/640 (30%)]\tLoss: 2.240086\tTime: 0.003s\n",
      "Train Epoch: 2 [256/640 (40%)]\tLoss: 2.222422\tTime: 0.003s\n",
      "Train Epoch: 2 [320/640 (50%)]\tLoss: 2.224774\tTime: 0.003s\n",
      "Train Epoch: 2 [384/640 (60%)]\tLoss: 2.223790\tTime: 0.003s\n",
      "Train Epoch: 2 [448/640 (70%)]\tLoss: 2.209391\tTime: 0.003s\n",
      "Train Epoch: 2 [512/640 (80%)]\tLoss: 2.217085\tTime: 0.003s\n",
      "Train Epoch: 2 [576/640 (90%)]\tLoss: 2.199056\tTime: 0.003s\n",
      "\n",
      "Test set: Accuracy: 163/640 (25%)\n",
      "\n",
      "Train Epoch: 3 [0/640 (0%)]\tLoss: 2.201781\tTime: 0.003s\n",
      "Train Epoch: 3 [64/640 (10%)]\tLoss: 2.151370\tTime: 0.003s\n",
      "Train Epoch: 3 [128/640 (20%)]\tLoss: 2.172164\tTime: 0.003s\n",
      "Train Epoch: 3 [192/640 (30%)]\tLoss: 2.178926\tTime: 0.003s\n",
      "Train Epoch: 3 [256/640 (40%)]\tLoss: 2.147940\tTime: 0.003s\n",
      "Train Epoch: 3 [320/640 (50%)]\tLoss: 2.164424\tTime: 0.003s\n",
      "Train Epoch: 3 [384/640 (60%)]\tLoss: 2.151531\tTime: 0.003s\n",
      "Train Epoch: 3 [448/640 (70%)]\tLoss: 2.139330\tTime: 0.003s\n",
      "Train Epoch: 3 [512/640 (80%)]\tLoss: 2.140057\tTime: 0.003s\n",
      "Train Epoch: 3 [576/640 (90%)]\tLoss: 2.116181\tTime: 0.003s\n",
      "\n",
      "Test set: Accuracy: 220/640 (34%)\n",
      "\n",
      "Train Epoch: 4 [0/640 (0%)]\tLoss: 2.136212\tTime: 0.003s\n",
      "Train Epoch: 4 [64/640 (10%)]\tLoss: 2.064897\tTime: 0.003s\n",
      "Train Epoch: 4 [128/640 (20%)]\tLoss: 2.085949\tTime: 0.003s\n",
      "Train Epoch: 4 [192/640 (30%)]\tLoss: 2.111925\tTime: 0.003s\n",
      "Train Epoch: 4 [256/640 (40%)]\tLoss: 2.069509\tTime: 0.003s\n",
      "Train Epoch: 4 [320/640 (50%)]\tLoss: 2.097586\tTime: 0.003s\n",
      "Train Epoch: 4 [384/640 (60%)]\tLoss: 2.072060\tTime: 0.003s\n",
      "Train Epoch: 4 [448/640 (70%)]\tLoss: 2.063796\tTime: 0.003s\n",
      "Train Epoch: 4 [512/640 (80%)]\tLoss: 2.055774\tTime: 0.003s\n",
      "Train Epoch: 4 [576/640 (90%)]\tLoss: 2.028167\tTime: 0.003s\n",
      "\n",
      "Test set: Accuracy: 264/640 (41%)\n",
      "\n",
      "Train Epoch: 5 [0/640 (0%)]\tLoss: 2.064883\tTime: 0.003s\n",
      "Train Epoch: 5 [64/640 (10%)]\tLoss: 1.969511\tTime: 0.003s\n",
      "Train Epoch: 5 [128/640 (20%)]\tLoss: 1.991948\tTime: 0.003s\n",
      "Train Epoch: 5 [192/640 (30%)]\tLoss: 2.035985\tTime: 0.003s\n",
      "Train Epoch: 5 [256/640 (40%)]\tLoss: 1.981443\tTime: 0.003s\n",
      "Train Epoch: 5 [320/640 (50%)]\tLoss: 2.022054\tTime: 0.003s\n",
      "Train Epoch: 5 [384/640 (60%)]\tLoss: 1.984957\tTime: 0.003s\n",
      "Train Epoch: 5 [448/640 (70%)]\tLoss: 1.976756\tTime: 0.003s\n",
      "Train Epoch: 5 [512/640 (80%)]\tLoss: 1.960597\tTime: 0.003s\n",
      "Train Epoch: 5 [576/640 (90%)]\tLoss: 1.930359\tTime: 0.003s\n",
      "\n",
      "Test set: Accuracy: 301/640 (47%)\n",
      "\n",
      "Train Epoch: 6 [0/640 (0%)]\tLoss: 1.985110\tTime: 0.003s\n",
      "Train Epoch: 6 [64/640 (10%)]\tLoss: 1.862342\tTime: 0.003s\n",
      "Train Epoch: 6 [128/640 (20%)]\tLoss: 1.887098\tTime: 0.004s\n",
      "Train Epoch: 6 [192/640 (30%)]\tLoss: 1.953832\tTime: 0.004s\n",
      "Train Epoch: 6 [256/640 (40%)]\tLoss: 1.887491\tTime: 0.004s\n",
      "Train Epoch: 6 [320/640 (50%)]\tLoss: 1.937034\tTime: 0.003s\n",
      "Train Epoch: 6 [384/640 (60%)]\tLoss: 1.888990\tTime: 0.003s\n",
      "Train Epoch: 6 [448/640 (70%)]\tLoss: 1.877058\tTime: 0.003s\n",
      "Train Epoch: 6 [512/640 (80%)]\tLoss: 1.857811\tTime: 0.003s\n",
      "Train Epoch: 6 [576/640 (90%)]\tLoss: 1.822581\tTime: 0.003s\n",
      "\n",
      "Test set: Accuracy: 315/640 (49%)\n",
      "\n",
      "Train Epoch: 7 [0/640 (0%)]\tLoss: 1.898342\tTime: 0.003s\n",
      "Train Epoch: 7 [64/640 (10%)]\tLoss: 1.744604\tTime: 0.003s\n",
      "Train Epoch: 7 [128/640 (20%)]\tLoss: 1.776030\tTime: 0.003s\n",
      "Train Epoch: 7 [192/640 (30%)]\tLoss: 1.865455\tTime: 0.003s\n",
      "Train Epoch: 7 [256/640 (40%)]\tLoss: 1.791019\tTime: 0.003s\n",
      "Train Epoch: 7 [320/640 (50%)]\tLoss: 1.842562\tTime: 0.003s\n",
      "Train Epoch: 7 [384/640 (60%)]\tLoss: 1.783566\tTime: 0.003s\n",
      "Train Epoch: 7 [448/640 (70%)]\tLoss: 1.771497\tTime: 0.003s\n",
      "Train Epoch: 7 [512/640 (80%)]\tLoss: 1.748473\tTime: 0.003s\n",
      "Train Epoch: 7 [576/640 (90%)]\tLoss: 1.709466\tTime: 0.003s\n",
      "\n",
      "Test set: Accuracy: 342/640 (53%)\n",
      "\n",
      "Train Epoch: 8 [0/640 (0%)]\tLoss: 1.807977\tTime: 0.003s\n",
      "Train Epoch: 8 [64/640 (10%)]\tLoss: 1.622977\tTime: 0.003s\n",
      "Train Epoch: 8 [128/640 (20%)]\tLoss: 1.662602\tTime: 0.003s\n",
      "Train Epoch: 8 [192/640 (30%)]\tLoss: 1.776385\tTime: 0.003s\n",
      "Train Epoch: 8 [256/640 (40%)]\tLoss: 1.693336\tTime: 0.003s\n",
      "Train Epoch: 8 [320/640 (50%)]\tLoss: 1.742570\tTime: 0.003s\n",
      "Train Epoch: 8 [384/640 (60%)]\tLoss: 1.678070\tTime: 0.003s\n",
      "Train Epoch: 8 [448/640 (70%)]\tLoss: 1.666076\tTime: 0.003s\n",
      "Train Epoch: 8 [512/640 (80%)]\tLoss: 1.639330\tTime: 0.003s\n",
      "Train Epoch: 8 [576/640 (90%)]\tLoss: 1.599227\tTime: 0.003s\n",
      "\n",
      "Test set: Accuracy: 360/640 (56%)\n",
      "\n",
      "Train Epoch: 9 [0/640 (0%)]\tLoss: 1.716518\tTime: 0.003s\n",
      "Train Epoch: 9 [64/640 (10%)]\tLoss: 1.505149\tTime: 0.003s\n",
      "Train Epoch: 9 [128/640 (20%)]\tLoss: 1.552836\tTime: 0.003s\n",
      "Train Epoch: 9 [192/640 (30%)]\tLoss: 1.692099\tTime: 0.003s\n",
      "Train Epoch: 9 [256/640 (40%)]\tLoss: 1.601552\tTime: 0.003s\n",
      "Train Epoch: 9 [320/640 (50%)]\tLoss: 1.642616\tTime: 0.003s\n",
      "Train Epoch: 9 [384/640 (60%)]\tLoss: 1.578016\tTime: 0.003s\n",
      "Train Epoch: 9 [448/640 (70%)]\tLoss: 1.567286\tTime: 0.003s\n",
      "Train Epoch: 9 [512/640 (80%)]\tLoss: 1.535810\tTime: 0.003s\n",
      "Train Epoch: 9 [576/640 (90%)]\tLoss: 1.495665\tTime: 0.003s\n",
      "\n",
      "Test set: Accuracy: 378/640 (59%)\n",
      "\n",
      "Train Epoch: 10 [0/640 (0%)]\tLoss: 1.628116\tTime: 0.003s\n",
      "Train Epoch: 10 [64/640 (10%)]\tLoss: 1.397322\tTime: 0.003s\n",
      "Train Epoch: 10 [128/640 (20%)]\tLoss: 1.451243\tTime: 0.003s\n",
      "Train Epoch: 10 [192/640 (30%)]\tLoss: 1.613457\tTime: 0.003s\n",
      "Train Epoch: 10 [256/640 (40%)]\tLoss: 1.517276\tTime: 0.003s\n",
      "Train Epoch: 10 [320/640 (50%)]\tLoss: 1.546174\tTime: 0.003s\n",
      "Train Epoch: 10 [384/640 (60%)]\tLoss: 1.486202\tTime: 0.003s\n",
      "Train Epoch: 10 [448/640 (70%)]\tLoss: 1.477115\tTime: 0.003s\n",
      "Train Epoch: 10 [512/640 (80%)]\tLoss: 1.441255\tTime: 0.003s\n",
      "Train Epoch: 10 [576/640 (90%)]\tLoss: 1.401522\tTime: 0.003s\n",
      "\n",
      "Test set: Accuracy: 390/640 (61%)\n",
      "\n"
     ]
    }
   ],
   "source": [
    "model = Net(128)\n",
    "\n",
    "loss_fn = nn.CrossEntropyLoss()\n",
    "\n",
    "optimizer = optim.SGD(model.parameters(), lr=args.lr)\n",
    "for epoch in range(1, args.epochs + 1):\n",
    "    train(args, model, encrypted_train_loader, optimizer, epoch,True)\n",
    "    acc_t = test(args, model, encrypted_test_loader,True)\n",
    "    accuracy_across_epoch.append(acc_t)"
   ]
  },
  {
   "cell_type": "code",
   "execution_count": 34,
   "metadata": {},
   "outputs": [
    {
     "data": {
      "image/png": "[encoded data removed]",
      "text/plain": [
       "<Figure size 432x288 with 1 Axes>"
      ]
     },
     "metadata": {
      "needs_background": "light"
     },
     "output_type": "display_data"
    },
    {
     "data": {
      "image/png": "[encoded data removed]",
      "text/plain": [
       "<Figure size 432x288 with 1 Axes>"
      ]
     },
     "metadata": {
      "needs_background": "light"
     },
     "output_type": "display_data"
    },
    {
     "data": {
      "image/png": "[encoded data removed]",
      "text/plain": [
       "<Figure size 432x288 with 1 Axes>"
      ]
     },
     "metadata": {
      "needs_background": "light"
     },
     "output_type": "display_data"
    }
   ],
   "source": [
    "#print(loss_across_epoch)\n",
    "cnt = np.arange(1, len(loss_across_epoch)+1, 1)\n",
    "\n",
    "plt.plot( cnt,loss_across_epoch)\n",
    "\n",
    "plt.xlabel('batch')\n",
    "plt.ylabel('loss')\n",
    "plt.title('Decreasing Loss through training phase')\n",
    "plt.grid(True)\n",
    "plt.show()\n",
    "\n",
    "cnt = np.arange(1, len(accuracy_across_epoch)+1, 1)\n",
    "\n",
    "plt.plot( cnt,accuracy_across_epoch)\n",
    "\n",
    "plt.xlabel('epoch')\n",
    "plt.ylabel('accuracy')\n",
    "plt.title('Accuracy through training phase')\n",
    "plt.grid(True)\n",
    "plt.show()\n",
    "\n",
    "cnt = np.arange(1, len(time_across_epoch)+1, 1)\n",
    "\n",
    "plt.plot( cnt,time_across_epoch)\n",
    "\n",
    "plt.xlabel('epoch')\n",
    "plt.ylabel('Time taken (s)')\n",
    "plt.title('Time per epoch')\n",
    "plt.grid(True)\n",
    "plt.show()"
   ]
  },
  {
   "cell_type": "code",
   "execution_count": null,
   "metadata": {},
   "outputs": [],
   "source": [
    "for n in nn_model_neurons:\n",
    "    model = Net(n)\n",
    "    model = model.fix_precision().share(*workers, crypto_provider=crypto_provider, requires_grad=True)\n",
    "\n",
    "    optimizer = optim.SGD(model.parameters(), lr=args.lr)\n",
    "    optimizer = optimizer.fix_precision() \n",
    "\n",
    "    for epoch in range(1, args.epochs + 1):\n",
    "        train(args, model, encrypted_train_loader, optimizer, epoch,False)\n",
    "        acc_t = test(args, model, encrypted_test_loader,False)\n",
    "        \n",
    "    print('\\nTraining with {} neurons: Accuracy: {:.0f}%\\n'.format(n,acc_t))\n",
    "    accuracy_nn_model.append(acc_t)"
   ]
  },
  {
   "cell_type": "code",
   "execution_count": null,
   "metadata": {},
   "outputs": [],
   "source": [
    "plt.plot( nn_model_neurons,accuracy_nn_model)\n",
    "\n",
    "plt.xlabel('neurons')\n",
    "plt.ylabel('accuracy')\n",
    "plt.title('Accuracy through training phase')\n",
    "plt.grid(True)\n",
    "plt.show()"
   ]
  },
  {
   "cell_type": "markdown",
   "metadata": {},
   "source": [
    "##### We are getting over 50% accuracy using only a subset of 640 images on only 3 passes of encrypted training data. Training set and number of epochs were reduced in the interest of saving training time. We are interested to demonstrate the training on encrypted data and not focus on accuracy achieved"
   ]
  },
  {
   "cell_type": "code",
   "execution_count": 35,
   "metadata": {},
   "outputs": [],
   "source": [
    "#Save metadata\n",
    "with open('fashion-enc-time', 'wb') as fp:\n",
    "    pickle.dump(time_across_epoch, fp)\n",
    "    \n",
    "with open('fashion-enc-acc', 'wb') as fp:\n",
    "    pickle.dump(accuracy_across_epoch, fp)"
   ]
  },
  {
   "cell_type": "code",
   "execution_count": null,
   "metadata": {},
   "outputs": [],
   "source": [
    "with open('fashion-enc-comp', 'wb') as fp:\n",
    "    pickle.dump(accuracy_nn_model, fp)"
   ]
  }
 ],
 "metadata": {
  "celltoolbar": "Tags",
  "kernelspec": {
   "display_name": "Python 3",
   "language": "python",
   "name": "python3"
  },
  "language_info": {
   "codemirror_mode": {
    "name": "ipython",
    "version": 3
   },
   "file_extension": ".py",
   "mimetype": "text/x-python",
   "name": "python",
   "nbconvert_exporter": "python",
   "pygments_lexer": "ipython3",
   "version": "3.7.6"
  }
 },
 "nbformat": 4,
 "nbformat_minor": 4
}
