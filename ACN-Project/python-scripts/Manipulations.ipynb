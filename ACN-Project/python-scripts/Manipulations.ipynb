{
 "cells": [
  {
   "cell_type": "code",
   "execution_count": 134,
   "metadata": {},
   "outputs": [],
   "source": [
    "import pandas as pd\n",
    "from sklearn.ensemble import RandomForestRegressor\n",
    "from sklearn.metrics import mean_absolute_error\n",
    "from sklearn.model_selection import train_test_split\n",
    "import seaborn as sns\n",
    "import matplotlib.pyplot as plt\n",
    "import numpy as np"
   ]
  },
  {
   "cell_type": "code",
   "execution_count": 135,
   "metadata": {},
   "outputs": [],
   "source": [
    "filePath = 'C:\\\\Users\\\\Sanchita\\\\Desktop\\\\Stuff\\\\ACN Project Re\\\\theUltimateCSV1.csv'\n",
    "data = pd.read_csv(filePath, header=None, names=['nodeName', 'hitRatio', 'distFromProducer', 'distFromConsumers', 'NumberOfNodes', 'cacheSize', 'interestRate','totalLevels','level'])"
   ]
  },
  {
   "cell_type": "code",
   "execution_count": 136,
   "metadata": {},
   "outputs": [
    {
     "data": {
      "text/html": [
       "<div>\n",
       "<style scoped>\n",
       "    .dataframe tbody tr th:only-of-type {\n",
       "        vertical-align: middle;\n",
       "    }\n",
       "\n",
       "    .dataframe tbody tr th {\n",
       "        vertical-align: top;\n",
       "    }\n",
       "\n",
       "    .dataframe thead th {\n",
       "        text-align: right;\n",
       "    }\n",
       "</style>\n",
       "<table border=\"1\" class=\"dataframe\">\n",
       "  <thead>\n",
       "    <tr style=\"text-align: right;\">\n",
       "      <th></th>\n",
       "      <th>nodeName</th>\n",
       "      <th>hitRatio</th>\n",
       "      <th>distFromProducer</th>\n",
       "      <th>distFromConsumers</th>\n",
       "      <th>NumberOfNodes</th>\n",
       "      <th>cacheSize</th>\n",
       "      <th>interestRate</th>\n",
       "      <th>totalLevels</th>\n",
       "      <th>level</th>\n",
       "    </tr>\n",
       "  </thead>\n",
       "  <tbody>\n",
       "    <tr>\n",
       "      <th>0</th>\n",
       "      <td>root</td>\n",
       "      <td>0.495050</td>\n",
       "      <td>0</td>\n",
       "      <td>4</td>\n",
       "      <td>15</td>\n",
       "      <td>130</td>\n",
       "      <td>300</td>\n",
       "      <td>4</td>\n",
       "      <td>0</td>\n",
       "    </tr>\n",
       "    <tr>\n",
       "      <th>1</th>\n",
       "      <td>l1-1</td>\n",
       "      <td>0.957634</td>\n",
       "      <td>1</td>\n",
       "      <td>3</td>\n",
       "      <td>15</td>\n",
       "      <td>130</td>\n",
       "      <td>300</td>\n",
       "      <td>4</td>\n",
       "      <td>1</td>\n",
       "    </tr>\n",
       "    <tr>\n",
       "      <th>2</th>\n",
       "      <td>l1-2</td>\n",
       "      <td>0.913305</td>\n",
       "      <td>1</td>\n",
       "      <td>3</td>\n",
       "      <td>15</td>\n",
       "      <td>130</td>\n",
       "      <td>300</td>\n",
       "      <td>4</td>\n",
       "      <td>1</td>\n",
       "    </tr>\n",
       "    <tr>\n",
       "      <th>3</th>\n",
       "      <td>l2-1</td>\n",
       "      <td>0.506275</td>\n",
       "      <td>2</td>\n",
       "      <td>2</td>\n",
       "      <td>15</td>\n",
       "      <td>60</td>\n",
       "      <td>300</td>\n",
       "      <td>4</td>\n",
       "      <td>2</td>\n",
       "    </tr>\n",
       "    <tr>\n",
       "      <th>4</th>\n",
       "      <td>l2-2</td>\n",
       "      <td>0.499752</td>\n",
       "      <td>2</td>\n",
       "      <td>2</td>\n",
       "      <td>15</td>\n",
       "      <td>60</td>\n",
       "      <td>300</td>\n",
       "      <td>4</td>\n",
       "      <td>2</td>\n",
       "    </tr>\n",
       "  </tbody>\n",
       "</table>\n",
       "</div>"
      ],
      "text/plain": [
       "  nodeName  hitRatio  distFromProducer  distFromConsumers  NumberOfNodes  \\\n",
       "0     root  0.495050                 0                  4             15   \n",
       "1     l1-1  0.957634                 1                  3             15   \n",
       "2     l1-2  0.913305                 1                  3             15   \n",
       "3     l2-1  0.506275                 2                  2             15   \n",
       "4     l2-2  0.499752                 2                  2             15   \n",
       "\n",
       "   cacheSize  interestRate  totalLevels  level  \n",
       "0        130           300            4      0  \n",
       "1        130           300            4      1  \n",
       "2        130           300            4      1  \n",
       "3         60           300            4      2  \n",
       "4         60           300            4      2  "
      ]
     },
     "execution_count": 136,
     "metadata": {},
     "output_type": "execute_result"
    }
   ],
   "source": [
    "data.head()"
   ]
  },
  {
   "cell_type": "code",
   "execution_count": 137,
   "metadata": {},
   "outputs": [
    {
     "data": {
      "text/html": [
       "<div>\n",
       "<style scoped>\n",
       "    .dataframe tbody tr th:only-of-type {\n",
       "        vertical-align: middle;\n",
       "    }\n",
       "\n",
       "    .dataframe tbody tr th {\n",
       "        vertical-align: top;\n",
       "    }\n",
       "\n",
       "    .dataframe thead th {\n",
       "        text-align: right;\n",
       "    }\n",
       "</style>\n",
       "<table border=\"1\" class=\"dataframe\">\n",
       "  <thead>\n",
       "    <tr style=\"text-align: right;\">\n",
       "      <th></th>\n",
       "      <th>hitRatio</th>\n",
       "      <th>distFromProducer</th>\n",
       "      <th>distFromConsumers</th>\n",
       "      <th>NumberOfNodes</th>\n",
       "      <th>cacheSize</th>\n",
       "      <th>interestRate</th>\n",
       "      <th>totalLevels</th>\n",
       "      <th>level</th>\n",
       "    </tr>\n",
       "  </thead>\n",
       "  <tbody>\n",
       "    <tr>\n",
       "      <th>hitRatio</th>\n",
       "      <td>1.000000</td>\n",
       "      <td>0.483877</td>\n",
       "      <td>-0.559735</td>\n",
       "      <td>0.089182</td>\n",
       "      <td>-0.451821</td>\n",
       "      <td>0.068529</td>\n",
       "      <td>0.054850</td>\n",
       "      <td>0.483877</td>\n",
       "    </tr>\n",
       "    <tr>\n",
       "      <th>distFromProducer</th>\n",
       "      <td>0.483877</td>\n",
       "      <td>1.000000</td>\n",
       "      <td>-0.749374</td>\n",
       "      <td>0.605407</td>\n",
       "      <td>-0.507697</td>\n",
       "      <td>0.155909</td>\n",
       "      <td>0.603806</td>\n",
       "      <td>1.000000</td>\n",
       "    </tr>\n",
       "    <tr>\n",
       "      <th>distFromConsumers</th>\n",
       "      <td>-0.559735</td>\n",
       "      <td>-0.749374</td>\n",
       "      <td>1.000000</td>\n",
       "      <td>0.064000</td>\n",
       "      <td>0.763556</td>\n",
       "      <td>-0.000138</td>\n",
       "      <td>0.075342</td>\n",
       "      <td>-0.749374</td>\n",
       "    </tr>\n",
       "    <tr>\n",
       "      <th>NumberOfNodes</th>\n",
       "      <td>0.089182</td>\n",
       "      <td>0.605407</td>\n",
       "      <td>0.064000</td>\n",
       "      <td>1.000000</td>\n",
       "      <td>0.143165</td>\n",
       "      <td>0.280283</td>\n",
       "      <td>0.988757</td>\n",
       "      <td>0.605407</td>\n",
       "    </tr>\n",
       "    <tr>\n",
       "      <th>cacheSize</th>\n",
       "      <td>-0.451821</td>\n",
       "      <td>-0.507697</td>\n",
       "      <td>0.763556</td>\n",
       "      <td>0.143165</td>\n",
       "      <td>1.000000</td>\n",
       "      <td>0.030517</td>\n",
       "      <td>0.154650</td>\n",
       "      <td>-0.507697</td>\n",
       "    </tr>\n",
       "    <tr>\n",
       "      <th>interestRate</th>\n",
       "      <td>0.068529</td>\n",
       "      <td>0.155909</td>\n",
       "      <td>-0.000138</td>\n",
       "      <td>0.280283</td>\n",
       "      <td>0.030517</td>\n",
       "      <td>1.000000</td>\n",
       "      <td>0.234623</td>\n",
       "      <td>0.155909</td>\n",
       "    </tr>\n",
       "    <tr>\n",
       "      <th>totalLevels</th>\n",
       "      <td>0.054850</td>\n",
       "      <td>0.603806</td>\n",
       "      <td>0.075342</td>\n",
       "      <td>0.988757</td>\n",
       "      <td>0.154650</td>\n",
       "      <td>0.234623</td>\n",
       "      <td>1.000000</td>\n",
       "      <td>0.603806</td>\n",
       "    </tr>\n",
       "    <tr>\n",
       "      <th>level</th>\n",
       "      <td>0.483877</td>\n",
       "      <td>1.000000</td>\n",
       "      <td>-0.749374</td>\n",
       "      <td>0.605407</td>\n",
       "      <td>-0.507697</td>\n",
       "      <td>0.155909</td>\n",
       "      <td>0.603806</td>\n",
       "      <td>1.000000</td>\n",
       "    </tr>\n",
       "  </tbody>\n",
       "</table>\n",
       "</div>"
      ],
      "text/plain": [
       "                   hitRatio  distFromProducer  distFromConsumers  \\\n",
       "hitRatio           1.000000          0.483877          -0.559735   \n",
       "distFromProducer   0.483877          1.000000          -0.749374   \n",
       "distFromConsumers -0.559735         -0.749374           1.000000   \n",
       "NumberOfNodes      0.089182          0.605407           0.064000   \n",
       "cacheSize         -0.451821         -0.507697           0.763556   \n",
       "interestRate       0.068529          0.155909          -0.000138   \n",
       "totalLevels        0.054850          0.603806           0.075342   \n",
       "level              0.483877          1.000000          -0.749374   \n",
       "\n",
       "                   NumberOfNodes  cacheSize  interestRate  totalLevels  \\\n",
       "hitRatio                0.089182  -0.451821      0.068529     0.054850   \n",
       "distFromProducer        0.605407  -0.507697      0.155909     0.603806   \n",
       "distFromConsumers       0.064000   0.763556     -0.000138     0.075342   \n",
       "NumberOfNodes           1.000000   0.143165      0.280283     0.988757   \n",
       "cacheSize               0.143165   1.000000      0.030517     0.154650   \n",
       "interestRate            0.280283   0.030517      1.000000     0.234623   \n",
       "totalLevels             0.988757   0.154650      0.234623     1.000000   \n",
       "level                   0.605407  -0.507697      0.155909     0.603806   \n",
       "\n",
       "                      level  \n",
       "hitRatio           0.483877  \n",
       "distFromProducer   1.000000  \n",
       "distFromConsumers -0.749374  \n",
       "NumberOfNodes      0.605407  \n",
       "cacheSize         -0.507697  \n",
       "interestRate       0.155909  \n",
       "totalLevels        0.603806  \n",
       "level              1.000000  "
      ]
     },
     "execution_count": 137,
     "metadata": {},
     "output_type": "execute_result"
    }
   ],
   "source": [
    "data.corr()"
   ]
  },
  {
   "cell_type": "code",
   "execution_count": 138,
   "metadata": {},
   "outputs": [],
   "source": [
    "# colAdd = []\n",
    "# for ind in data.index:\n",
    "#     if(data['nodeName'][ind] == 'root'):\n",
    "#         colAdd.append(0)\n",
    "#     else:\n",
    "#         tmp = data['nodeName'][ind]\n",
    "#         colAdd.append(int(tmp[1:2]))\n",
    "# colAdd\n",
    "# data['level'] = colAdd\n",
    "# data.head()\n"
   ]
  },
  {
   "cell_type": "code",
   "execution_count": 139,
   "metadata": {},
   "outputs": [],
   "source": [
    "# data.to_csv(filePath, index=False, header=None)"
   ]
  },
  {
   "cell_type": "code",
   "execution_count": 140,
   "metadata": {},
   "outputs": [],
   "source": [
    "# print(data.columns)\n",
    "# print(data['level'].unique())"
   ]
  },
  {
   "cell_type": "code",
   "execution_count": 141,
   "metadata": {},
   "outputs": [
    {
     "data": {
      "text/html": [
       "<style  type=\"text/css\" >\n",
       "    #T_4a2bb2de_11dc_11ea_964d_00d861055462row0_col0 {\n",
       "            background-color:  #b40426;\n",
       "            color:  #f1f1f1;\n",
       "        }    #T_4a2bb2de_11dc_11ea_964d_00d861055462row0_col1 {\n",
       "            background-color:  #f7aa8c;\n",
       "            color:  #000000;\n",
       "        }    #T_4a2bb2de_11dc_11ea_964d_00d861055462row0_col2 {\n",
       "            background-color:  #5b7ae5;\n",
       "            color:  #000000;\n",
       "        }    #T_4a2bb2de_11dc_11ea_964d_00d861055462row0_col3 {\n",
       "            background-color:  #4257c9;\n",
       "            color:  #f1f1f1;\n",
       "        }    #T_4a2bb2de_11dc_11ea_964d_00d861055462row0_col4 {\n",
       "            background-color:  #455cce;\n",
       "            color:  #f1f1f1;\n",
       "        }    #T_4a2bb2de_11dc_11ea_964d_00d861055462row0_col5 {\n",
       "            background-color:  #4f69d9;\n",
       "            color:  #000000;\n",
       "        }    #T_4a2bb2de_11dc_11ea_964d_00d861055462row0_col6 {\n",
       "            background-color:  #3b4cc0;\n",
       "            color:  #f1f1f1;\n",
       "        }    #T_4a2bb2de_11dc_11ea_964d_00d861055462row0_col7 {\n",
       "            background-color:  #f7aa8c;\n",
       "            color:  #000000;\n",
       "        }    #T_4a2bb2de_11dc_11ea_964d_00d861055462row1_col0 {\n",
       "            background-color:  #f7b79b;\n",
       "            color:  #000000;\n",
       "        }    #T_4a2bb2de_11dc_11ea_964d_00d861055462row1_col1 {\n",
       "            background-color:  #b40426;\n",
       "            color:  #f1f1f1;\n",
       "        }    #T_4a2bb2de_11dc_11ea_964d_00d861055462row1_col2 {\n",
       "            background-color:  #3b4cc0;\n",
       "            color:  #f1f1f1;\n",
       "        }    #T_4a2bb2de_11dc_11ea_964d_00d861055462row1_col3 {\n",
       "            background-color:  #efcfbf;\n",
       "            color:  #000000;\n",
       "        }    #T_4a2bb2de_11dc_11ea_964d_00d861055462row1_col4 {\n",
       "            background-color:  #3b4cc0;\n",
       "            color:  #f1f1f1;\n",
       "        }    #T_4a2bb2de_11dc_11ea_964d_00d861055462row1_col5 {\n",
       "            background-color:  #6b8df0;\n",
       "            color:  #000000;\n",
       "        }    #T_4a2bb2de_11dc_11ea_964d_00d861055462row1_col6 {\n",
       "            background-color:  #efcfbf;\n",
       "            color:  #000000;\n",
       "        }    #T_4a2bb2de_11dc_11ea_964d_00d861055462row1_col7 {\n",
       "            background-color:  #b40426;\n",
       "            color:  #f1f1f1;\n",
       "        }    #T_4a2bb2de_11dc_11ea_964d_00d861055462row2_col0 {\n",
       "            background-color:  #3b4cc0;\n",
       "            color:  #f1f1f1;\n",
       "        }    #T_4a2bb2de_11dc_11ea_964d_00d861055462row2_col1 {\n",
       "            background-color:  #3b4cc0;\n",
       "            color:  #f1f1f1;\n",
       "        }    #T_4a2bb2de_11dc_11ea_964d_00d861055462row2_col2 {\n",
       "            background-color:  #b40426;\n",
       "            color:  #f1f1f1;\n",
       "        }    #T_4a2bb2de_11dc_11ea_964d_00d861055462row2_col3 {\n",
       "            background-color:  #3b4cc0;\n",
       "            color:  #f1f1f1;\n",
       "        }    #T_4a2bb2de_11dc_11ea_964d_00d861055462row2_col4 {\n",
       "            background-color:  #e57058;\n",
       "            color:  #000000;\n",
       "        }    #T_4a2bb2de_11dc_11ea_964d_00d861055462row2_col5 {\n",
       "            background-color:  #3b4cc0;\n",
       "            color:  #f1f1f1;\n",
       "        }    #T_4a2bb2de_11dc_11ea_964d_00d861055462row2_col6 {\n",
       "            background-color:  #4055c8;\n",
       "            color:  #f1f1f1;\n",
       "        }    #T_4a2bb2de_11dc_11ea_964d_00d861055462row2_col7 {\n",
       "            background-color:  #3b4cc0;\n",
       "            color:  #f1f1f1;\n",
       "        }    #T_4a2bb2de_11dc_11ea_964d_00d861055462row3_col0 {\n",
       "            background-color:  #c5d6f2;\n",
       "            color:  #000000;\n",
       "        }    #T_4a2bb2de_11dc_11ea_964d_00d861055462row3_col1 {\n",
       "            background-color:  #f18f71;\n",
       "            color:  #000000;\n",
       "        }    #T_4a2bb2de_11dc_11ea_964d_00d861055462row3_col2 {\n",
       "            background-color:  #d4dbe6;\n",
       "            color:  #000000;\n",
       "        }    #T_4a2bb2de_11dc_11ea_964d_00d861055462row3_col3 {\n",
       "            background-color:  #b40426;\n",
       "            color:  #f1f1f1;\n",
       "        }    #T_4a2bb2de_11dc_11ea_964d_00d861055462row3_col4 {\n",
       "            background-color:  #cad8ef;\n",
       "            color:  #000000;\n",
       "        }    #T_4a2bb2de_11dc_11ea_964d_00d861055462row3_col5 {\n",
       "            background-color:  #97b8ff;\n",
       "            color:  #000000;\n",
       "        }    #T_4a2bb2de_11dc_11ea_964d_00d861055462row3_col6 {\n",
       "            background-color:  #b8122a;\n",
       "            color:  #f1f1f1;\n",
       "        }    #T_4a2bb2de_11dc_11ea_964d_00d861055462row3_col7 {\n",
       "            background-color:  #f18f71;\n",
       "            color:  #000000;\n",
       "        }    #T_4a2bb2de_11dc_11ea_964d_00d861055462row4_col0 {\n",
       "            background-color:  #4f69d9;\n",
       "            color:  #000000;\n",
       "        }    #T_4a2bb2de_11dc_11ea_964d_00d861055462row4_col1 {\n",
       "            background-color:  #6687ed;\n",
       "            color:  #000000;\n",
       "        }    #T_4a2bb2de_11dc_11ea_964d_00d861055462row4_col2 {\n",
       "            background-color:  #e0654f;\n",
       "            color:  #000000;\n",
       "        }    #T_4a2bb2de_11dc_11ea_964d_00d861055462row4_col3 {\n",
       "            background-color:  #5470de;\n",
       "            color:  #000000;\n",
       "        }    #T_4a2bb2de_11dc_11ea_964d_00d861055462row4_col4 {\n",
       "            background-color:  #b40426;\n",
       "            color:  #f1f1f1;\n",
       "        }    #T_4a2bb2de_11dc_11ea_964d_00d861055462row4_col5 {\n",
       "            background-color:  #4358cb;\n",
       "            color:  #f1f1f1;\n",
       "        }    #T_4a2bb2de_11dc_11ea_964d_00d861055462row4_col6 {\n",
       "            background-color:  #5b7ae5;\n",
       "            color:  #000000;\n",
       "        }    #T_4a2bb2de_11dc_11ea_964d_00d861055462row4_col7 {\n",
       "            background-color:  #6687ed;\n",
       "            color:  #000000;\n",
       "        }    #T_4a2bb2de_11dc_11ea_964d_00d861055462row5_col0 {\n",
       "            background-color:  #c1d4f4;\n",
       "            color:  #000000;\n",
       "        }    #T_4a2bb2de_11dc_11ea_964d_00d861055462row5_col1 {\n",
       "            background-color:  #e1dad6;\n",
       "            color:  #000000;\n",
       "        }    #T_4a2bb2de_11dc_11ea_964d_00d861055462row5_col2 {\n",
       "            background-color:  #c9d7f0;\n",
       "            color:  #000000;\n",
       "        }    #T_4a2bb2de_11dc_11ea_964d_00d861055462row5_col3 {\n",
       "            background-color:  #86a9fc;\n",
       "            color:  #000000;\n",
       "        }    #T_4a2bb2de_11dc_11ea_964d_00d861055462row5_col4 {\n",
       "            background-color:  #b2ccfb;\n",
       "            color:  #000000;\n",
       "        }    #T_4a2bb2de_11dc_11ea_964d_00d861055462row5_col5 {\n",
       "            background-color:  #b40426;\n",
       "            color:  #f1f1f1;\n",
       "        }    #T_4a2bb2de_11dc_11ea_964d_00d861055462row5_col6 {\n",
       "            background-color:  #779af7;\n",
       "            color:  #000000;\n",
       "        }    #T_4a2bb2de_11dc_11ea_964d_00d861055462row5_col7 {\n",
       "            background-color:  #e1dad6;\n",
       "            color:  #000000;\n",
       "        }    #T_4a2bb2de_11dc_11ea_964d_00d861055462row6_col0 {\n",
       "            background-color:  #bed2f6;\n",
       "            color:  #000000;\n",
       "        }    #T_4a2bb2de_11dc_11ea_964d_00d861055462row6_col1 {\n",
       "            background-color:  #f18f71;\n",
       "            color:  #000000;\n",
       "        }    #T_4a2bb2de_11dc_11ea_964d_00d861055462row6_col2 {\n",
       "            background-color:  #d5dbe5;\n",
       "            color:  #000000;\n",
       "        }    #T_4a2bb2de_11dc_11ea_964d_00d861055462row6_col3 {\n",
       "            background-color:  #b8122a;\n",
       "            color:  #f1f1f1;\n",
       "        }    #T_4a2bb2de_11dc_11ea_964d_00d861055462row6_col4 {\n",
       "            background-color:  #ccd9ed;\n",
       "            color:  #000000;\n",
       "        }    #T_4a2bb2de_11dc_11ea_964d_00d861055462row6_col5 {\n",
       "            background-color:  #88abfd;\n",
       "            color:  #000000;\n",
       "        }    #T_4a2bb2de_11dc_11ea_964d_00d861055462row6_col6 {\n",
       "            background-color:  #b40426;\n",
       "            color:  #f1f1f1;\n",
       "        }    #T_4a2bb2de_11dc_11ea_964d_00d861055462row6_col7 {\n",
       "            background-color:  #f18f71;\n",
       "            color:  #000000;\n",
       "        }    #T_4a2bb2de_11dc_11ea_964d_00d861055462row7_col0 {\n",
       "            background-color:  #f7b79b;\n",
       "            color:  #000000;\n",
       "        }    #T_4a2bb2de_11dc_11ea_964d_00d861055462row7_col1 {\n",
       "            background-color:  #b40426;\n",
       "            color:  #f1f1f1;\n",
       "        }    #T_4a2bb2de_11dc_11ea_964d_00d861055462row7_col2 {\n",
       "            background-color:  #3b4cc0;\n",
       "            color:  #f1f1f1;\n",
       "        }    #T_4a2bb2de_11dc_11ea_964d_00d861055462row7_col3 {\n",
       "            background-color:  #efcfbf;\n",
       "            color:  #000000;\n",
       "        }    #T_4a2bb2de_11dc_11ea_964d_00d861055462row7_col4 {\n",
       "            background-color:  #3b4cc0;\n",
       "            color:  #f1f1f1;\n",
       "        }    #T_4a2bb2de_11dc_11ea_964d_00d861055462row7_col5 {\n",
       "            background-color:  #6b8df0;\n",
       "            color:  #000000;\n",
       "        }    #T_4a2bb2de_11dc_11ea_964d_00d861055462row7_col6 {\n",
       "            background-color:  #efcfbf;\n",
       "            color:  #000000;\n",
       "        }    #T_4a2bb2de_11dc_11ea_964d_00d861055462row7_col7 {\n",
       "            background-color:  #b40426;\n",
       "            color:  #f1f1f1;\n",
       "        }</style><table id=\"T_4a2bb2de_11dc_11ea_964d_00d861055462\" ><thead>    <tr>        <th class=\"blank level0\" ></th>        <th class=\"col_heading level0 col0\" >hitRatio</th>        <th class=\"col_heading level0 col1\" >distFromProducer</th>        <th class=\"col_heading level0 col2\" >distFromConsumers</th>        <th class=\"col_heading level0 col3\" >NumberOfNodes</th>        <th class=\"col_heading level0 col4\" >cacheSize</th>        <th class=\"col_heading level0 col5\" >interestRate</th>        <th class=\"col_heading level0 col6\" >totalLevels</th>        <th class=\"col_heading level0 col7\" >level</th>    </tr></thead><tbody>\n",
       "                <tr>\n",
       "                        <th id=\"T_4a2bb2de_11dc_11ea_964d_00d861055462level0_row0\" class=\"row_heading level0 row0\" >hitRatio</th>\n",
       "                        <td id=\"T_4a2bb2de_11dc_11ea_964d_00d861055462row0_col0\" class=\"data row0 col0\" >1</td>\n",
       "                        <td id=\"T_4a2bb2de_11dc_11ea_964d_00d861055462row0_col1\" class=\"data row0 col1\" >0.483877</td>\n",
       "                        <td id=\"T_4a2bb2de_11dc_11ea_964d_00d861055462row0_col2\" class=\"data row0 col2\" >-0.559735</td>\n",
       "                        <td id=\"T_4a2bb2de_11dc_11ea_964d_00d861055462row0_col3\" class=\"data row0 col3\" >0.0891821</td>\n",
       "                        <td id=\"T_4a2bb2de_11dc_11ea_964d_00d861055462row0_col4\" class=\"data row0 col4\" >-0.451821</td>\n",
       "                        <td id=\"T_4a2bb2de_11dc_11ea_964d_00d861055462row0_col5\" class=\"data row0 col5\" >0.068529</td>\n",
       "                        <td id=\"T_4a2bb2de_11dc_11ea_964d_00d861055462row0_col6\" class=\"data row0 col6\" >0.0548498</td>\n",
       "                        <td id=\"T_4a2bb2de_11dc_11ea_964d_00d861055462row0_col7\" class=\"data row0 col7\" >0.483877</td>\n",
       "            </tr>\n",
       "            <tr>\n",
       "                        <th id=\"T_4a2bb2de_11dc_11ea_964d_00d861055462level0_row1\" class=\"row_heading level0 row1\" >distFromProducer</th>\n",
       "                        <td id=\"T_4a2bb2de_11dc_11ea_964d_00d861055462row1_col0\" class=\"data row1 col0\" >0.483877</td>\n",
       "                        <td id=\"T_4a2bb2de_11dc_11ea_964d_00d861055462row1_col1\" class=\"data row1 col1\" >1</td>\n",
       "                        <td id=\"T_4a2bb2de_11dc_11ea_964d_00d861055462row1_col2\" class=\"data row1 col2\" >-0.749374</td>\n",
       "                        <td id=\"T_4a2bb2de_11dc_11ea_964d_00d861055462row1_col3\" class=\"data row1 col3\" >0.605407</td>\n",
       "                        <td id=\"T_4a2bb2de_11dc_11ea_964d_00d861055462row1_col4\" class=\"data row1 col4\" >-0.507697</td>\n",
       "                        <td id=\"T_4a2bb2de_11dc_11ea_964d_00d861055462row1_col5\" class=\"data row1 col5\" >0.155909</td>\n",
       "                        <td id=\"T_4a2bb2de_11dc_11ea_964d_00d861055462row1_col6\" class=\"data row1 col6\" >0.603806</td>\n",
       "                        <td id=\"T_4a2bb2de_11dc_11ea_964d_00d861055462row1_col7\" class=\"data row1 col7\" >1</td>\n",
       "            </tr>\n",
       "            <tr>\n",
       "                        <th id=\"T_4a2bb2de_11dc_11ea_964d_00d861055462level0_row2\" class=\"row_heading level0 row2\" >distFromConsumers</th>\n",
       "                        <td id=\"T_4a2bb2de_11dc_11ea_964d_00d861055462row2_col0\" class=\"data row2 col0\" >-0.559735</td>\n",
       "                        <td id=\"T_4a2bb2de_11dc_11ea_964d_00d861055462row2_col1\" class=\"data row2 col1\" >-0.749374</td>\n",
       "                        <td id=\"T_4a2bb2de_11dc_11ea_964d_00d861055462row2_col2\" class=\"data row2 col2\" >1</td>\n",
       "                        <td id=\"T_4a2bb2de_11dc_11ea_964d_00d861055462row2_col3\" class=\"data row2 col3\" >0.064</td>\n",
       "                        <td id=\"T_4a2bb2de_11dc_11ea_964d_00d861055462row2_col4\" class=\"data row2 col4\" >0.763556</td>\n",
       "                        <td id=\"T_4a2bb2de_11dc_11ea_964d_00d861055462row2_col5\" class=\"data row2 col5\" >-0.000138197</td>\n",
       "                        <td id=\"T_4a2bb2de_11dc_11ea_964d_00d861055462row2_col6\" class=\"data row2 col6\" >0.0753425</td>\n",
       "                        <td id=\"T_4a2bb2de_11dc_11ea_964d_00d861055462row2_col7\" class=\"data row2 col7\" >-0.749374</td>\n",
       "            </tr>\n",
       "            <tr>\n",
       "                        <th id=\"T_4a2bb2de_11dc_11ea_964d_00d861055462level0_row3\" class=\"row_heading level0 row3\" >NumberOfNodes</th>\n",
       "                        <td id=\"T_4a2bb2de_11dc_11ea_964d_00d861055462row3_col0\" class=\"data row3 col0\" >0.0891821</td>\n",
       "                        <td id=\"T_4a2bb2de_11dc_11ea_964d_00d861055462row3_col1\" class=\"data row3 col1\" >0.605407</td>\n",
       "                        <td id=\"T_4a2bb2de_11dc_11ea_964d_00d861055462row3_col2\" class=\"data row3 col2\" >0.064</td>\n",
       "                        <td id=\"T_4a2bb2de_11dc_11ea_964d_00d861055462row3_col3\" class=\"data row3 col3\" >1</td>\n",
       "                        <td id=\"T_4a2bb2de_11dc_11ea_964d_00d861055462row3_col4\" class=\"data row3 col4\" >0.143165</td>\n",
       "                        <td id=\"T_4a2bb2de_11dc_11ea_964d_00d861055462row3_col5\" class=\"data row3 col5\" >0.280283</td>\n",
       "                        <td id=\"T_4a2bb2de_11dc_11ea_964d_00d861055462row3_col6\" class=\"data row3 col6\" >0.988757</td>\n",
       "                        <td id=\"T_4a2bb2de_11dc_11ea_964d_00d861055462row3_col7\" class=\"data row3 col7\" >0.605407</td>\n",
       "            </tr>\n",
       "            <tr>\n",
       "                        <th id=\"T_4a2bb2de_11dc_11ea_964d_00d861055462level0_row4\" class=\"row_heading level0 row4\" >cacheSize</th>\n",
       "                        <td id=\"T_4a2bb2de_11dc_11ea_964d_00d861055462row4_col0\" class=\"data row4 col0\" >-0.451821</td>\n",
       "                        <td id=\"T_4a2bb2de_11dc_11ea_964d_00d861055462row4_col1\" class=\"data row4 col1\" >-0.507697</td>\n",
       "                        <td id=\"T_4a2bb2de_11dc_11ea_964d_00d861055462row4_col2\" class=\"data row4 col2\" >0.763556</td>\n",
       "                        <td id=\"T_4a2bb2de_11dc_11ea_964d_00d861055462row4_col3\" class=\"data row4 col3\" >0.143165</td>\n",
       "                        <td id=\"T_4a2bb2de_11dc_11ea_964d_00d861055462row4_col4\" class=\"data row4 col4\" >1</td>\n",
       "                        <td id=\"T_4a2bb2de_11dc_11ea_964d_00d861055462row4_col5\" class=\"data row4 col5\" >0.0305174</td>\n",
       "                        <td id=\"T_4a2bb2de_11dc_11ea_964d_00d861055462row4_col6\" class=\"data row4 col6\" >0.15465</td>\n",
       "                        <td id=\"T_4a2bb2de_11dc_11ea_964d_00d861055462row4_col7\" class=\"data row4 col7\" >-0.507697</td>\n",
       "            </tr>\n",
       "            <tr>\n",
       "                        <th id=\"T_4a2bb2de_11dc_11ea_964d_00d861055462level0_row5\" class=\"row_heading level0 row5\" >interestRate</th>\n",
       "                        <td id=\"T_4a2bb2de_11dc_11ea_964d_00d861055462row5_col0\" class=\"data row5 col0\" >0.068529</td>\n",
       "                        <td id=\"T_4a2bb2de_11dc_11ea_964d_00d861055462row5_col1\" class=\"data row5 col1\" >0.155909</td>\n",
       "                        <td id=\"T_4a2bb2de_11dc_11ea_964d_00d861055462row5_col2\" class=\"data row5 col2\" >-0.000138197</td>\n",
       "                        <td id=\"T_4a2bb2de_11dc_11ea_964d_00d861055462row5_col3\" class=\"data row5 col3\" >0.280283</td>\n",
       "                        <td id=\"T_4a2bb2de_11dc_11ea_964d_00d861055462row5_col4\" class=\"data row5 col4\" >0.0305174</td>\n",
       "                        <td id=\"T_4a2bb2de_11dc_11ea_964d_00d861055462row5_col5\" class=\"data row5 col5\" >1</td>\n",
       "                        <td id=\"T_4a2bb2de_11dc_11ea_964d_00d861055462row5_col6\" class=\"data row5 col6\" >0.234623</td>\n",
       "                        <td id=\"T_4a2bb2de_11dc_11ea_964d_00d861055462row5_col7\" class=\"data row5 col7\" >0.155909</td>\n",
       "            </tr>\n",
       "            <tr>\n",
       "                        <th id=\"T_4a2bb2de_11dc_11ea_964d_00d861055462level0_row6\" class=\"row_heading level0 row6\" >totalLevels</th>\n",
       "                        <td id=\"T_4a2bb2de_11dc_11ea_964d_00d861055462row6_col0\" class=\"data row6 col0\" >0.0548498</td>\n",
       "                        <td id=\"T_4a2bb2de_11dc_11ea_964d_00d861055462row6_col1\" class=\"data row6 col1\" >0.603806</td>\n",
       "                        <td id=\"T_4a2bb2de_11dc_11ea_964d_00d861055462row6_col2\" class=\"data row6 col2\" >0.0753425</td>\n",
       "                        <td id=\"T_4a2bb2de_11dc_11ea_964d_00d861055462row6_col3\" class=\"data row6 col3\" >0.988757</td>\n",
       "                        <td id=\"T_4a2bb2de_11dc_11ea_964d_00d861055462row6_col4\" class=\"data row6 col4\" >0.15465</td>\n",
       "                        <td id=\"T_4a2bb2de_11dc_11ea_964d_00d861055462row6_col5\" class=\"data row6 col5\" >0.234623</td>\n",
       "                        <td id=\"T_4a2bb2de_11dc_11ea_964d_00d861055462row6_col6\" class=\"data row6 col6\" >1</td>\n",
       "                        <td id=\"T_4a2bb2de_11dc_11ea_964d_00d861055462row6_col7\" class=\"data row6 col7\" >0.603806</td>\n",
       "            </tr>\n",
       "            <tr>\n",
       "                        <th id=\"T_4a2bb2de_11dc_11ea_964d_00d861055462level0_row7\" class=\"row_heading level0 row7\" >level</th>\n",
       "                        <td id=\"T_4a2bb2de_11dc_11ea_964d_00d861055462row7_col0\" class=\"data row7 col0\" >0.483877</td>\n",
       "                        <td id=\"T_4a2bb2de_11dc_11ea_964d_00d861055462row7_col1\" class=\"data row7 col1\" >1</td>\n",
       "                        <td id=\"T_4a2bb2de_11dc_11ea_964d_00d861055462row7_col2\" class=\"data row7 col2\" >-0.749374</td>\n",
       "                        <td id=\"T_4a2bb2de_11dc_11ea_964d_00d861055462row7_col3\" class=\"data row7 col3\" >0.605407</td>\n",
       "                        <td id=\"T_4a2bb2de_11dc_11ea_964d_00d861055462row7_col4\" class=\"data row7 col4\" >-0.507697</td>\n",
       "                        <td id=\"T_4a2bb2de_11dc_11ea_964d_00d861055462row7_col5\" class=\"data row7 col5\" >0.155909</td>\n",
       "                        <td id=\"T_4a2bb2de_11dc_11ea_964d_00d861055462row7_col6\" class=\"data row7 col6\" >0.603806</td>\n",
       "                        <td id=\"T_4a2bb2de_11dc_11ea_964d_00d861055462row7_col7\" class=\"data row7 col7\" >1</td>\n",
       "            </tr>\n",
       "    </tbody></table>"
      ],
      "text/plain": [
       "<pandas.io.formats.style.Styler at 0x1b8eca88f48>"
      ]
     },
     "execution_count": 141,
     "metadata": {},
     "output_type": "execute_result"
    }
   ],
   "source": [
    "corr = data.corr()\n",
    "corr.style.background_gradient(cmap='coolwarm')"
   ]
  },
  {
   "cell_type": "code",
   "execution_count": 142,
   "metadata": {},
   "outputs": [],
   "source": [
    "def getAccuracy(val_y, preds):\n",
    "    accuracy = mean_absolute_error(val_y, preds)\n",
    "    return accuracy"
   ]
  },
  {
   "cell_type": "code",
   "execution_count": null,
   "metadata": {},
   "outputs": [],
   "source": []
  },
  {
   "cell_type": "code",
   "execution_count": 143,
   "metadata": {},
   "outputs": [],
   "source": [
    "def plotGenerator(df,level,IR, NoOfLevels):\n",
    "    filteredDf = df[df['nodeName'].str.contains(level)]\n",
    "    plt.plot(filteredDf['cacheSize'],filteredDf['hitRatio'] ,'bo')\n",
    "    plt.title('IR =' + str(IR) + 'NumberOfLevels =' + str(NoOfLevels) + 'Level='+level)\n",
    "    plt.xlabel('Cache Size')\n",
    "    plt.ylabel('Hit Ratio')\n",
    "    plt.grid(linestyle='-', linewidth=1)\n",
    "    print(filteredDf['cacheSize'].min())\n",
    "    print(filteredDf['cacheSize'].max())\n",
    "    print(filteredDf['hitRatio'].max())"
   ]
  },
  {
   "cell_type": "code",
   "execution_count": 144,
   "metadata": {},
   "outputs": [
    {
     "name": "stdout",
     "output_type": "stream",
     "text": [
      "Various number of nodes used =  [15 31 63]\n",
      "Interest rates used =  [ 300  500  700 1000]\n"
     ]
    },
    {
     "data": {
      "image/png": "[encoded data removed]",
      "text/plain": [
       "<Figure size 432x288 with 1 Axes>"
      ]
     },
     "metadata": {
      "needs_background": "light"
     },
     "output_type": "display_data"
    }
   ],
   "source": [
    "plt.plot(data['cacheSize'],data['hitRatio'] ,'bo') \n",
    "print(\"Various number of nodes used = \",data.NumberOfNodes.unique())\n",
    "print(\"Interest rates used = \",data.interestRate.unique())\n"
   ]
  },
  {
   "cell_type": "code",
   "execution_count": 145,
   "metadata": {},
   "outputs": [
    {
     "data": {
      "text/plain": [
       "Index(['nodeName', 'hitRatio', 'distFromProducer', 'distFromConsumers',\n",
       "       'NumberOfNodes', 'cacheSize', 'interestRate', 'totalLevels', 'level'],\n",
       "      dtype='object')"
      ]
     },
     "execution_count": 145,
     "metadata": {},
     "output_type": "execute_result"
    }
   ],
   "source": [
    "data.columns"
   ]
  },
  {
   "cell_type": "code",
   "execution_count": 146,
   "metadata": {
    "scrolled": true
   },
   "outputs": [
    {
     "data": {
      "text/html": [
       "<div>\n",
       "<style scoped>\n",
       "    .dataframe tbody tr th:only-of-type {\n",
       "        vertical-align: middle;\n",
       "    }\n",
       "\n",
       "    .dataframe tbody tr th {\n",
       "        vertical-align: top;\n",
       "    }\n",
       "\n",
       "    .dataframe thead th {\n",
       "        text-align: right;\n",
       "    }\n",
       "</style>\n",
       "<table border=\"1\" class=\"dataframe\">\n",
       "  <thead>\n",
       "    <tr style=\"text-align: right;\">\n",
       "      <th></th>\n",
       "      <th>nodeName</th>\n",
       "      <th>hitRatio</th>\n",
       "      <th>distFromProducer</th>\n",
       "      <th>distFromConsumers</th>\n",
       "      <th>NumberOfNodes</th>\n",
       "      <th>cacheSize</th>\n",
       "      <th>interestRate</th>\n",
       "      <th>totalLevels</th>\n",
       "      <th>level</th>\n",
       "    </tr>\n",
       "  </thead>\n",
       "  <tbody>\n",
       "    <tr>\n",
       "      <th>0</th>\n",
       "      <td>root</td>\n",
       "      <td>0.495050</td>\n",
       "      <td>0</td>\n",
       "      <td>4</td>\n",
       "      <td>15</td>\n",
       "      <td>130</td>\n",
       "      <td>300</td>\n",
       "      <td>4</td>\n",
       "      <td>0</td>\n",
       "    </tr>\n",
       "    <tr>\n",
       "      <th>1</th>\n",
       "      <td>l1-1</td>\n",
       "      <td>0.957634</td>\n",
       "      <td>1</td>\n",
       "      <td>3</td>\n",
       "      <td>15</td>\n",
       "      <td>130</td>\n",
       "      <td>300</td>\n",
       "      <td>4</td>\n",
       "      <td>1</td>\n",
       "    </tr>\n",
       "    <tr>\n",
       "      <th>2</th>\n",
       "      <td>l1-2</td>\n",
       "      <td>0.913305</td>\n",
       "      <td>1</td>\n",
       "      <td>3</td>\n",
       "      <td>15</td>\n",
       "      <td>130</td>\n",
       "      <td>300</td>\n",
       "      <td>4</td>\n",
       "      <td>1</td>\n",
       "    </tr>\n",
       "    <tr>\n",
       "      <th>3</th>\n",
       "      <td>l2-1</td>\n",
       "      <td>0.506275</td>\n",
       "      <td>2</td>\n",
       "      <td>2</td>\n",
       "      <td>15</td>\n",
       "      <td>60</td>\n",
       "      <td>300</td>\n",
       "      <td>4</td>\n",
       "      <td>2</td>\n",
       "    </tr>\n",
       "    <tr>\n",
       "      <th>4</th>\n",
       "      <td>l2-2</td>\n",
       "      <td>0.499752</td>\n",
       "      <td>2</td>\n",
       "      <td>2</td>\n",
       "      <td>15</td>\n",
       "      <td>60</td>\n",
       "      <td>300</td>\n",
       "      <td>4</td>\n",
       "      <td>2</td>\n",
       "    </tr>\n",
       "  </tbody>\n",
       "</table>\n",
       "</div>"
      ],
      "text/plain": [
       "  nodeName  hitRatio  distFromProducer  distFromConsumers  NumberOfNodes  \\\n",
       "0     root  0.495050                 0                  4             15   \n",
       "1     l1-1  0.957634                 1                  3             15   \n",
       "2     l1-2  0.913305                 1                  3             15   \n",
       "3     l2-1  0.506275                 2                  2             15   \n",
       "4     l2-2  0.499752                 2                  2             15   \n",
       "\n",
       "   cacheSize  interestRate  totalLevels  level  \n",
       "0        130           300            4      0  \n",
       "1        130           300            4      1  \n",
       "2        130           300            4      1  \n",
       "3         60           300            4      2  \n",
       "4         60           300            4      2  "
      ]
     },
     "execution_count": 146,
     "metadata": {},
     "output_type": "execute_result"
    }
   ],
   "source": [
    "dfIR300 = data[data['interestRate'] == 300]\n",
    "dfIR300N15 = dfIR300[dfIR300['NumberOfNodes'] == 15]\n",
    "dfIR300N15.head()"
   ]
  },
  {
   "cell_type": "markdown",
   "metadata": {},
   "source": [
    "# IR300N15"
   ]
  },
  {
   "cell_type": "code",
   "execution_count": 147,
   "metadata": {},
   "outputs": [
    {
     "name": "stdout",
     "output_type": "stream",
     "text": [
      "100\n",
      "750\n",
      "0.495049505\n"
     ]
    },
    {
     "data": {
      "image/png": "[encoded data removed]",
      "text/plain": [
       "<Figure size 432x288 with 1 Axes>"
      ]
     },
     "metadata": {
      "needs_background": "light"
     },
     "output_type": "display_data"
    }
   ],
   "source": [
    "plotGenerator(dfIR300N15,'root',300, 4)"
   ]
  },
  {
   "cell_type": "code",
   "execution_count": 148,
   "metadata": {},
   "outputs": [
    {
     "name": "stdout",
     "output_type": "stream",
     "text": [
      "100\n",
      "750\n",
      "0.964018525\n"
     ]
    },
    {
     "data": {
      "image/png": "[encoded data removed]",
      "text/plain": [
       "<Figure size 432x288 with 1 Axes>"
      ]
     },
     "metadata": {
      "needs_background": "light"
     },
     "output_type": "display_data"
    }
   ],
   "source": [
    "plotGenerator(dfIR300N15,'l1',300, 4)"
   ]
  },
  {
   "cell_type": "code",
   "execution_count": 149,
   "metadata": {},
   "outputs": [
    {
     "name": "stdout",
     "output_type": "stream",
     "text": [
      "60\n",
      "500\n",
      "0.946018172\n"
     ]
    },
    {
     "data": {
      "image/png": "[encoded data removed]",
      "text/plain": [
       "<Figure size 432x288 with 1 Axes>"
      ]
     },
     "metadata": {
      "needs_background": "light"
     },
     "output_type": "display_data"
    }
   ],
   "source": [
    "plotGenerator(dfIR300N15,'l2',300, 4)\n"
   ]
  },
  {
   "cell_type": "code",
   "execution_count": 150,
   "metadata": {},
   "outputs": [
    {
     "name": "stdout",
     "output_type": "stream",
     "text": [
      "30\n",
      "240\n",
      "0.988834844\n"
     ]
    },
    {
     "data": {
      "image/png": "[encoded data removed]",
      "text/plain": [
       "<Figure size 432x288 with 1 Axes>"
      ]
     },
     "metadata": {
      "needs_background": "light"
     },
     "output_type": "display_data"
    }
   ],
   "source": [
    "plotGenerator(dfIR300N15,'l3',300, 4)\n"
   ]
  },
  {
   "cell_type": "markdown",
   "metadata": {},
   "source": [
    "# IR500N15"
   ]
  },
  {
   "cell_type": "code",
   "execution_count": 151,
   "metadata": {
    "scrolled": true
   },
   "outputs": [
    {
     "data": {
      "text/html": [
       "<div>\n",
       "<style scoped>\n",
       "    .dataframe tbody tr th:only-of-type {\n",
       "        vertical-align: middle;\n",
       "    }\n",
       "\n",
       "    .dataframe tbody tr th {\n",
       "        vertical-align: top;\n",
       "    }\n",
       "\n",
       "    .dataframe thead th {\n",
       "        text-align: right;\n",
       "    }\n",
       "</style>\n",
       "<table border=\"1\" class=\"dataframe\">\n",
       "  <thead>\n",
       "    <tr style=\"text-align: right;\">\n",
       "      <th></th>\n",
       "      <th>nodeName</th>\n",
       "      <th>hitRatio</th>\n",
       "      <th>distFromProducer</th>\n",
       "      <th>distFromConsumers</th>\n",
       "      <th>NumberOfNodes</th>\n",
       "      <th>cacheSize</th>\n",
       "      <th>interestRate</th>\n",
       "      <th>totalLevels</th>\n",
       "      <th>level</th>\n",
       "    </tr>\n",
       "  </thead>\n",
       "  <tbody>\n",
       "    <tr>\n",
       "      <th>45</th>\n",
       "      <td>root</td>\n",
       "      <td>0.495050</td>\n",
       "      <td>0</td>\n",
       "      <td>4</td>\n",
       "      <td>15</td>\n",
       "      <td>130</td>\n",
       "      <td>500</td>\n",
       "      <td>4</td>\n",
       "      <td>0</td>\n",
       "    </tr>\n",
       "    <tr>\n",
       "      <th>46</th>\n",
       "      <td>l1-1</td>\n",
       "      <td>0.974083</td>\n",
       "      <td>1</td>\n",
       "      <td>3</td>\n",
       "      <td>15</td>\n",
       "      <td>130</td>\n",
       "      <td>500</td>\n",
       "      <td>4</td>\n",
       "      <td>1</td>\n",
       "    </tr>\n",
       "    <tr>\n",
       "      <th>47</th>\n",
       "      <td>l1-2</td>\n",
       "      <td>0.945553</td>\n",
       "      <td>1</td>\n",
       "      <td>3</td>\n",
       "      <td>15</td>\n",
       "      <td>130</td>\n",
       "      <td>500</td>\n",
       "      <td>4</td>\n",
       "      <td>1</td>\n",
       "    </tr>\n",
       "    <tr>\n",
       "      <th>48</th>\n",
       "      <td>l2-1</td>\n",
       "      <td>0.509075</td>\n",
       "      <td>2</td>\n",
       "      <td>2</td>\n",
       "      <td>15</td>\n",
       "      <td>60</td>\n",
       "      <td>500</td>\n",
       "      <td>4</td>\n",
       "      <td>2</td>\n",
       "    </tr>\n",
       "    <tr>\n",
       "      <th>49</th>\n",
       "      <td>l2-2</td>\n",
       "      <td>0.502075</td>\n",
       "      <td>2</td>\n",
       "      <td>2</td>\n",
       "      <td>15</td>\n",
       "      <td>60</td>\n",
       "      <td>500</td>\n",
       "      <td>4</td>\n",
       "      <td>2</td>\n",
       "    </tr>\n",
       "  </tbody>\n",
       "</table>\n",
       "</div>"
      ],
      "text/plain": [
       "   nodeName  hitRatio  distFromProducer  distFromConsumers  NumberOfNodes  \\\n",
       "45     root  0.495050                 0                  4             15   \n",
       "46     l1-1  0.974083                 1                  3             15   \n",
       "47     l1-2  0.945553                 1                  3             15   \n",
       "48     l2-1  0.509075                 2                  2             15   \n",
       "49     l2-2  0.502075                 2                  2             15   \n",
       "\n",
       "    cacheSize  interestRate  totalLevels  level  \n",
       "45        130           500            4      0  \n",
       "46        130           500            4      1  \n",
       "47        130           500            4      1  \n",
       "48         60           500            4      2  \n",
       "49         60           500            4      2  "
      ]
     },
     "execution_count": 151,
     "metadata": {},
     "output_type": "execute_result"
    }
   ],
   "source": [
    "dfIR500 = data[data['interestRate'] == 500]\n",
    "dfIR500N15 = dfIR500[dfIR500['NumberOfNodes'] == 15]\n",
    "dfIR500N15.head()"
   ]
  },
  {
   "cell_type": "code",
   "execution_count": 152,
   "metadata": {},
   "outputs": [
    {
     "name": "stdout",
     "output_type": "stream",
     "text": [
      "120\n",
      "750\n",
      "0.495049505\n"
     ]
    },
    {
     "data": {
      "image/png": "[encoded data removed]",
      "text/plain": [
       "<Figure size 432x288 with 1 Axes>"
      ]
     },
     "metadata": {
      "needs_background": "light"
     },
     "output_type": "display_data"
    }
   ],
   "source": [
    "plotGenerator(dfIR500N15,'root',500, 4)\n"
   ]
  },
  {
   "cell_type": "code",
   "execution_count": 153,
   "metadata": {},
   "outputs": [
    {
     "name": "stdout",
     "output_type": "stream",
     "text": [
      "30\n",
      "750\n",
      "0.989236999\n"
     ]
    },
    {
     "data": {
      "image/png": "[encoded data removed]",
      "text/plain": [
       "<Figure size 432x288 with 1 Axes>"
      ]
     },
     "metadata": {
      "needs_background": "light"
     },
     "output_type": "display_data"
    }
   ],
   "source": [
    "plotGenerator(dfIR500N15,'l1',500, 4)\n"
   ]
  },
  {
   "cell_type": "code",
   "execution_count": 154,
   "metadata": {},
   "outputs": [
    {
     "name": "stdout",
     "output_type": "stream",
     "text": [
      "15\n",
      "500\n",
      "0.966666667\n"
     ]
    },
    {
     "data": {
      "image/png": "[encoded data removed]",
      "text/plain": [
       "<Figure size 432x288 with 1 Axes>"
      ]
     },
     "metadata": {
      "needs_background": "light"
     },
     "output_type": "display_data"
    }
   ],
   "source": [
    "plotGenerator(dfIR500N15,'l2',500, 4)\n"
   ]
  },
  {
   "cell_type": "code",
   "execution_count": 155,
   "metadata": {},
   "outputs": [
    {
     "name": "stdout",
     "output_type": "stream",
     "text": [
      "2\n",
      "240\n",
      "0.977592267\n"
     ]
    },
    {
     "data": {
      "image/png": "[encoded data removed]",
      "text/plain": [
       "<Figure size 432x288 with 1 Axes>"
      ]
     },
     "metadata": {
      "needs_background": "light"
     },
     "output_type": "display_data"
    }
   ],
   "source": [
    "plotGenerator(dfIR500N15,'l3',500, 4)\n"
   ]
  },
  {
   "cell_type": "markdown",
   "metadata": {},
   "source": [
    "# IR700"
   ]
  },
  {
   "cell_type": "code",
   "execution_count": 156,
   "metadata": {},
   "outputs": [
    {
     "data": {
      "text/html": [
       "<div>\n",
       "<style scoped>\n",
       "    .dataframe tbody tr th:only-of-type {\n",
       "        vertical-align: middle;\n",
       "    }\n",
       "\n",
       "    .dataframe tbody tr th {\n",
       "        vertical-align: top;\n",
       "    }\n",
       "\n",
       "    .dataframe thead th {\n",
       "        text-align: right;\n",
       "    }\n",
       "</style>\n",
       "<table border=\"1\" class=\"dataframe\">\n",
       "  <thead>\n",
       "    <tr style=\"text-align: right;\">\n",
       "      <th></th>\n",
       "      <th>nodeName</th>\n",
       "      <th>hitRatio</th>\n",
       "      <th>distFromProducer</th>\n",
       "      <th>distFromConsumers</th>\n",
       "      <th>NumberOfNodes</th>\n",
       "      <th>cacheSize</th>\n",
       "      <th>interestRate</th>\n",
       "      <th>totalLevels</th>\n",
       "      <th>level</th>\n",
       "    </tr>\n",
       "  </thead>\n",
       "  <tbody>\n",
       "    <tr>\n",
       "      <th>852</th>\n",
       "      <td>root</td>\n",
       "      <td>0.495050</td>\n",
       "      <td>0</td>\n",
       "      <td>6</td>\n",
       "      <td>63</td>\n",
       "      <td>420</td>\n",
       "      <td>700</td>\n",
       "      <td>6</td>\n",
       "      <td>0</td>\n",
       "    </tr>\n",
       "    <tr>\n",
       "      <th>853</th>\n",
       "      <td>l1-1</td>\n",
       "      <td>0.497512</td>\n",
       "      <td>1</td>\n",
       "      <td>5</td>\n",
       "      <td>63</td>\n",
       "      <td>420</td>\n",
       "      <td>700</td>\n",
       "      <td>6</td>\n",
       "      <td>1</td>\n",
       "    </tr>\n",
       "    <tr>\n",
       "      <th>854</th>\n",
       "      <td>l1-2</td>\n",
       "      <td>0.497512</td>\n",
       "      <td>1</td>\n",
       "      <td>5</td>\n",
       "      <td>63</td>\n",
       "      <td>420</td>\n",
       "      <td>700</td>\n",
       "      <td>6</td>\n",
       "      <td>1</td>\n",
       "    </tr>\n",
       "    <tr>\n",
       "      <th>855</th>\n",
       "      <td>l2-1</td>\n",
       "      <td>0.497512</td>\n",
       "      <td>2</td>\n",
       "      <td>4</td>\n",
       "      <td>63</td>\n",
       "      <td>320</td>\n",
       "      <td>700</td>\n",
       "      <td>6</td>\n",
       "      <td>2</td>\n",
       "    </tr>\n",
       "    <tr>\n",
       "      <th>856</th>\n",
       "      <td>l2-2</td>\n",
       "      <td>0.497512</td>\n",
       "      <td>2</td>\n",
       "      <td>4</td>\n",
       "      <td>63</td>\n",
       "      <td>320</td>\n",
       "      <td>700</td>\n",
       "      <td>6</td>\n",
       "      <td>2</td>\n",
       "    </tr>\n",
       "  </tbody>\n",
       "</table>\n",
       "</div>"
      ],
      "text/plain": [
       "    nodeName  hitRatio  distFromProducer  distFromConsumers  NumberOfNodes  \\\n",
       "852     root  0.495050                 0                  6             63   \n",
       "853     l1-1  0.497512                 1                  5             63   \n",
       "854     l1-2  0.497512                 1                  5             63   \n",
       "855     l2-1  0.497512                 2                  4             63   \n",
       "856     l2-2  0.497512                 2                  4             63   \n",
       "\n",
       "     cacheSize  interestRate  totalLevels  level  \n",
       "852        420           700            6      0  \n",
       "853        420           700            6      1  \n",
       "854        420           700            6      1  \n",
       "855        320           700            6      2  \n",
       "856        320           700            6      2  "
      ]
     },
     "execution_count": 156,
     "metadata": {},
     "output_type": "execute_result"
    }
   ],
   "source": [
    "dfIRN15 = data[data['interestRate'] == 700]\n",
    "dfIRN15.head()"
   ]
  },
  {
   "cell_type": "code",
   "execution_count": 157,
   "metadata": {},
   "outputs": [
    {
     "name": "stdout",
     "output_type": "stream",
     "text": [
      "420\n",
      "900\n",
      "0.495049505\n"
     ]
    },
    {
     "data": {
      "image/png": "[encoded data removed]",
      "text/plain": [
       "<Figure size 432x288 with 1 Axes>"
      ]
     },
     "metadata": {
      "needs_background": "light"
     },
     "output_type": "display_data"
    }
   ],
   "source": [
    "plotGenerator(dfIRN15,'root',500, 4)\n"
   ]
  },
  {
   "cell_type": "code",
   "execution_count": 158,
   "metadata": {},
   "outputs": [
    {
     "name": "stdout",
     "output_type": "stream",
     "text": [
      "420\n",
      "900\n",
      "0.497512438\n"
     ]
    },
    {
     "data": {
      "image/png": "[encoded data removed]",
      "text/plain": [
       "<Figure size 432x288 with 1 Axes>"
      ]
     },
     "metadata": {
      "needs_background": "light"
     },
     "output_type": "display_data"
    }
   ],
   "source": [
    "plotGenerator(dfIRN15,'l1',500, 4)\n"
   ]
  },
  {
   "cell_type": "code",
   "execution_count": 159,
   "metadata": {},
   "outputs": [
    {
     "name": "stdout",
     "output_type": "stream",
     "text": [
      "320\n",
      "850\n",
      "0.497512438\n"
     ]
    },
    {
     "data": {
      "image/png": "[encoded data removed]",
      "text/plain": [
       "<Figure size 432x288 with 1 Axes>"
      ]
     },
     "metadata": {
      "needs_background": "light"
     },
     "output_type": "display_data"
    }
   ],
   "source": [
    "plotGenerator(dfIRN15,'l2',500, 4)\n"
   ]
  },
  {
   "cell_type": "code",
   "execution_count": 160,
   "metadata": {},
   "outputs": [
    {
     "name": "stdout",
     "output_type": "stream",
     "text": [
      "220\n",
      "550\n",
      "0.5049019610000001\n"
     ]
    },
    {
     "data": {
      "image/png": "[encoded data removed]",
      "text/plain": [
       "<Figure size 432x288 with 1 Axes>"
      ]
     },
     "metadata": {
      "needs_background": "light"
     },
     "output_type": "display_data"
    }
   ],
   "source": [
    "plotGenerator(dfIRN15,'l3',500, 4)\n"
   ]
  },
  {
   "cell_type": "markdown",
   "metadata": {},
   "source": [
    "# Testing for all levels color coded interest! hehehe :)"
   ]
  },
  {
   "cell_type": "code",
   "execution_count": 161,
   "metadata": {},
   "outputs": [],
   "source": [
    "def scatterplot(label, x, y, category):\n",
    "  fig, ax = plt.subplots(figsize=(10, 5))\n",
    "  #applies the custom color map along with the color sequence\n",
    "  ax.scatter(x, y, alpha=0.70, c= category, cmap=cm.brg)\n",
    "#   categories = category.apply(lambda x: '' if x == 0 else 'weekend')\n",
    "  #adds a title and axes labels\n",
    "  ax.set_title(label)\n",
    "  ax.set_xlabel('Cache size')\n",
    "  ax.set_ylabel('Hit ratio')\n",
    "  ax.legend(category.unique())\n",
    "  #removing top and right borders\n",
    "  #adds major gridlines\n",
    "  ax.grid(color='grey', linestyle='-', linewidth=0.25, alpha=0.5)"
   ]
  },
  {
   "cell_type": "code",
   "execution_count": 162,
   "metadata": {},
   "outputs": [
    {
     "name": "stdout",
     "output_type": "stream",
     "text": [
      "0.495049505\n"
     ]
    },
    {
     "data": {
      "text/plain": [
       "<seaborn.axisgrid.FacetGrid at 0x1b8ecf9afc8>"
      ]
     },
     "execution_count": 162,
     "metadata": {},
     "output_type": "execute_result"
    },
    {
     "data": {
      "image/png": "[encoded data removed]",
      "text/plain": [
       "<Figure size 429.625x360 with 1 Axes>"
      ]
     },
     "metadata": {
      "needs_background": "light"
     },
     "output_type": "display_data"
    }
   ],
   "source": [
    "import matplotlib.cm as cm\n",
    "import matplotlib.pyplot as plt\n",
    "import seaborn as sns\n",
    "\n",
    "dfIRN15 = data[data['NumberOfNodes'] == 15]\n",
    "dfIRN15Root = dfIRN15[dfIRN15['nodeName'].str.contains('root')]\n",
    "print(dfIRN15Root['hitRatio'].max())\n",
    "# scatterplot('For 15 nodes root all interest', dfIRN15['cacheSize'],dfIRN15['hitRatio'],dfIRN15['interestRate'])\n",
    "sns.lmplot(\"cacheSize\", \"hitRatio\", data=dfIRN15Root, hue=\"interestRate\", fit_reg=False)"
   ]
  },
  {
   "cell_type": "code",
   "execution_count": 163,
   "metadata": {},
   "outputs": [
    {
     "name": "stdout",
     "output_type": "stream",
     "text": [
      "0.989236999\n"
     ]
    },
    {
     "data": {
      "text/plain": [
       "<seaborn.axisgrid.FacetGrid at 0x1b8ed1ae488>"
      ]
     },
     "execution_count": 163,
     "metadata": {},
     "output_type": "execute_result"
    },
    {
     "data": {
      "image/png": "[encoded data removed]",
      "text/plain": [
       "<Figure size 429.625x360 with 1 Axes>"
      ]
     },
     "metadata": {
      "needs_background": "light"
     },
     "output_type": "display_data"
    }
   ],
   "source": [
    "dfIRN15 = data[data['NumberOfNodes'] == 15]\n",
    "dfIRN15L1 = dfIRN15[dfIRN15['nodeName'].str.contains('l1')]\n",
    "print(dfIRN15L1['hitRatio'].max())\n",
    "# scatterplot('For 15 nodes root all interest', dfIRN15['cacheSize'],dfIRN15['hitRatio'],dfIRN15['interestRate'])\n",
    "sns.lmplot(\"cacheSize\", \"hitRatio\", data=dfIRN15L1, hue=\"interestRate\", fit_reg=False)"
   ]
  },
  {
   "cell_type": "code",
   "execution_count": 164,
   "metadata": {},
   "outputs": [
    {
     "name": "stdout",
     "output_type": "stream",
     "text": [
      "0.966666667\n"
     ]
    },
    {
     "data": {
      "text/plain": [
       "<seaborn.axisgrid.FacetGrid at 0x1b8ed19d6c8>"
      ]
     },
     "execution_count": 164,
     "metadata": {},
     "output_type": "execute_result"
    },
    {
     "data": {
      "image/png": "[encoded data removed]",
      "text/plain": [
       "<Figure size 429.625x360 with 1 Axes>"
      ]
     },
     "metadata": {
      "needs_background": "light"
     },
     "output_type": "display_data"
    }
   ],
   "source": [
    "dfIRN15 = data[data['NumberOfNodes'] == 15]\n",
    "dfIRN15L2 = dfIRN15[dfIRN15['nodeName'].str.contains('l2')]\n",
    "print(dfIRN15L2['hitRatio'].max())\n",
    "# scatterplot('For 15 nodes root all interest', dfIRN15['cacheSize'],dfIRN15['hitRatio'],dfIRN15['interestRate'])\n",
    "sns.lmplot(\"cacheSize\", \"hitRatio\", data=dfIRN15L2, hue=\"interestRate\", fit_reg=False)"
   ]
  },
  {
   "cell_type": "code",
   "execution_count": 165,
   "metadata": {},
   "outputs": [
    {
     "name": "stdout",
     "output_type": "stream",
     "text": [
      "0.988834844\n"
     ]
    },
    {
     "data": {
      "text/plain": [
       "<seaborn.axisgrid.FacetGrid at 0x1b8ed2c1f48>"
      ]
     },
     "execution_count": 165,
     "metadata": {},
     "output_type": "execute_result"
    },
    {
     "data": {
      "image/png": "[encoded data removed]",
      "text/plain": [
       "<Figure size 429.625x360 with 1 Axes>"
      ]
     },
     "metadata": {
      "needs_background": "light"
     },
     "output_type": "display_data"
    }
   ],
   "source": [
    "dfIRN15 = data[data['NumberOfNodes'] == 15]\n",
    "dfIRN15L3 = dfIRN15[dfIRN15['nodeName'].str.contains('l3')]\n",
    "print(dfIRN15L3['hitRatio'].max())\n",
    "# scatterplot('For 15 nodes root all interest', dfIRN15['cacheSize'],dfIRN15['hitRatio'],dfIRN15['interestRate'])\n",
    "sns.lmplot(\"cacheSize\", \"hitRatio\", data=dfIRN15L3, hue=\"interestRate\", fit_reg=False)"
   ]
  },
  {
   "cell_type": "code",
   "execution_count": 166,
   "metadata": {},
   "outputs": [
    {
     "name": "stdout",
     "output_type": "stream",
     "text": [
      "0.97748551\n"
     ]
    },
    {
     "data": {
      "text/plain": [
       "<seaborn.axisgrid.FacetGrid at 0x1b8ee2fa608>"
      ]
     },
     "execution_count": 166,
     "metadata": {},
     "output_type": "execute_result"
    },
    {
     "data": {
      "image/png": "[encoded data removed]",
      "text/plain": [
       "<Figure size 429.625x360 with 1 Axes>"
      ]
     },
     "metadata": {
      "needs_background": "light"
     },
     "output_type": "display_data"
    }
   ],
   "source": [
    "dfIRN15 = data[data['NumberOfNodes'] == 31]\n",
    "dfIRN15L3 = dfIRN15[dfIRN15['nodeName'].str.contains('l4')]\n",
    "print(dfIRN15L3['hitRatio'].max())\n",
    "# scatterplot('For 15 nodes root all interest', dfIRN15['cacheSize'],dfIRN15['hitRatio'],dfIRN15['interestRate'])\n",
    "sns.lmplot(\"cacheSize\", \"hitRatio\", data=dfIRN15L3, hue=\"interestRate\", fit_reg=False)"
   ]
  },
  {
   "cell_type": "markdown",
   "metadata": {},
   "source": [
    "# Graphs based on levels"
   ]
  },
  {
   "cell_type": "code",
   "execution_count": 167,
   "metadata": {},
   "outputs": [
    {
     "data": {
      "text/plain": [
       "<seaborn.axisgrid.FacetGrid at 0x1b8ee315b88>"
      ]
     },
     "execution_count": 167,
     "metadata": {},
     "output_type": "execute_result"
    },
    {
     "data": {
      "image/png": "[encoded data removed]",
      "text/plain": [
       "<Figure size 789.625x720 with 4 Axes>"
      ]
     },
     "metadata": {
      "needs_background": "light"
     },
     "output_type": "display_data"
    }
   ],
   "source": [
    "dfIRN15 = data[data['NumberOfNodes'] == 15]\n",
    "# dataRoot.head()\n",
    "sns.lmplot(\"cacheSize\", \"hitRatio\", data=dfIRN15, hue=\"interestRate\",col='level',col_wrap=2, fit_reg=False)"
   ]
  },
  {
   "cell_type": "code",
   "execution_count": 168,
   "metadata": {},
   "outputs": [
    {
     "data": {
      "text/plain": [
       "<seaborn.axisgrid.FacetGrid at 0x1b8ee6dfe08>"
      ]
     },
     "execution_count": 168,
     "metadata": {},
     "output_type": "execute_result"
    },
    {
     "data": {
      "image/png": "[encoded data removed]",
      "text/plain": [
       "<Figure size 789.625x360 with 2 Axes>"
      ]
     },
     "metadata": {
      "needs_background": "light"
     },
     "output_type": "display_data"
    }
   ],
   "source": [
    "dfIRN15 = data[data['NumberOfNodes'] == 15]\n",
    "dfIRN15 = dfIRN15[dfIRN15['level'] < 2]\n",
    "sns.lmplot(\"cacheSize\", \"hitRatio\", data=dfIRN15, hue=\"interestRate\",col='level',col_wrap=2, fit_reg=False)"
   ]
  },
  {
   "cell_type": "code",
   "execution_count": 169,
   "metadata": {},
   "outputs": [
    {
     "data": {
      "text/plain": [
       "<seaborn.axisgrid.FacetGrid at 0x1b8ee846348>"
      ]
     },
     "execution_count": 169,
     "metadata": {},
     "output_type": "execute_result"
    },
    {
     "data": {
      "image/png": "[encoded data removed]",
      "text/plain": [
       "<Figure size 789.625x360 with 2 Axes>"
      ]
     },
     "metadata": {
      "needs_background": "light"
     },
     "output_type": "display_data"
    }
   ],
   "source": [
    "dfIRN15 = data[data['NumberOfNodes'] == 15]\n",
    "dfIRN15 = dfIRN15[dfIRN15['level'] > 1]\n",
    "sns.lmplot(\"cacheSize\", \"hitRatio\", data=dfIRN15, hue=\"interestRate\",col='level',col_wrap=2, fit_reg=False)"
   ]
  },
  {
   "cell_type": "code",
   "execution_count": 170,
   "metadata": {},
   "outputs": [
    {
     "data": {
      "text/plain": [
       "<seaborn.axisgrid.FacetGrid at 0x1b8ee8e4388>"
      ]
     },
     "execution_count": 170,
     "metadata": {},
     "output_type": "execute_result"
    },
    {
     "data": {
      "image/png": "[encoded data removed]",
      "text/plain": [
       "<Figure size 1149.62x720 with 5 Axes>"
      ]
     },
     "metadata": {
      "needs_background": "light"
     },
     "output_type": "display_data"
    }
   ],
   "source": [
    "dfIRN31 = data[data['NumberOfNodes'] == 31]\n",
    "dfIRN31 = dfIRN31[dfIRN31['hitRatio'] > 0.15]\n",
    "sns.lmplot(\"cacheSize\", \"hitRatio\", data=dfIRN31, hue=\"interestRate\",col='level',col_wrap=3,fit_reg=False)"
   ]
  },
  {
   "cell_type": "code",
   "execution_count": 171,
   "metadata": {},
   "outputs": [
    {
     "data": {
      "text/plain": [
       "<seaborn.axisgrid.FacetGrid at 0x1b8ecff3cc8>"
      ]
     },
     "execution_count": 171,
     "metadata": {},
     "output_type": "execute_result"
    },
    {
     "data": {
      "image/png": "[encoded data removed]",
      "text/plain": [
       "<Figure size 789.625x360 with 2 Axes>"
      ]
     },
     "metadata": {
      "needs_background": "light"
     },
     "output_type": "display_data"
    }
   ],
   "source": [
    "dfIRN31 = data[data['NumberOfNodes'] == 31]\n",
    "dfIRN31 = dfIRN31[(dfIRN31['hitRatio'] > 0.15) & (dfIRN31['level'] < 2)]\n",
    "sns.lmplot(\"cacheSize\", \"hitRatio\", data=dfIRN31, hue=\"interestRate\",col='level',col_wrap=2,fit_reg=False)"
   ]
  },
  {
   "cell_type": "code",
   "execution_count": 180,
   "metadata": {},
   "outputs": [
    {
     "data": {
      "text/plain": [
       "<seaborn.axisgrid.FacetGrid at 0x1b8ecf5ad08>"
      ]
     },
     "execution_count": 180,
     "metadata": {},
     "output_type": "execute_result"
    },
    {
     "data": {
      "image/png": "[encoded data removed]",
      "text/plain": [
       "<Figure size 789.625x360 with 2 Axes>"
      ]
     },
     "metadata": {
      "needs_background": "light"
     },
     "output_type": "display_data"
    }
   ],
   "source": [
    "dfIRN31 = data[data['NumberOfNodes'] == 31]\n",
    "dfIRN31 = dfIRN31[(dfIRN31['hitRatio'] > 0.15) & (dfIRN31['level'] > 1) & (dfIRN31['level'] < 4)]\n",
    "sns.lmplot(\"cacheSize\", \"hitRatio\", data=dfIRN31, hue=\"interestRate\",col='level',col_wrap=2,fit_reg=False)"
   ]
  },
  {
   "cell_type": "code",
   "execution_count": 173,
   "metadata": {},
   "outputs": [
    {
     "data": {
      "text/plain": [
       "<seaborn.axisgrid.FacetGrid at 0x1b8ecf2e288>"
      ]
     },
     "execution_count": 173,
     "metadata": {},
     "output_type": "execute_result"
    },
    {
     "data": {
      "image/png": "[encoded data removed]",
      "text/plain": [
       "<Figure size 429.625x360 with 1 Axes>"
      ]
     },
     "metadata": {
      "needs_background": "light"
     },
     "output_type": "display_data"
    }
   ],
   "source": [
    "dfIRN31 = data[data['NumberOfNodes'] == 31]\n",
    "dfIRN31 = dfIRN31[(dfIRN31['hitRatio'] > 0.15) & (dfIRN31['level'] > 3)]\n",
    "sns.lmplot(\"cacheSize\", \"hitRatio\", data=dfIRN31, hue=\"interestRate\",col='level',col_wrap=1,fit_reg=False)"
   ]
  },
  {
   "cell_type": "code",
   "execution_count": 181,
   "metadata": {},
   "outputs": [
    {
     "data": {
      "text/plain": [
       "<seaborn.axisgrid.FacetGrid at 0x1b8ef2be5c8>"
      ]
     },
     "execution_count": 181,
     "metadata": {},
     "output_type": "execute_result"
    },
    {
     "data": {
      "image/png": "[encoded data removed]",
      "text/plain": [
       "<Figure size 782.25x360 with 1 Axes>"
      ]
     },
     "metadata": {
      "needs_background": "light"
     },
     "output_type": "display_data"
    }
   ],
   "source": [
    "dfIRN31 = data[data['NumberOfNodes'] == 31]\n",
    "dfIRN31 = dfIRN31[(dfIRN31['hitRatio'] > 0.15) & (dfIRN31['level'] == 3)]\n",
    "sns.lmplot(\"cacheSize\", \"hitRatio\", data=dfIRN31, hue=\"nodeName\",col='level',col_wrap=2,fit_reg=False)"
   ]
  },
  {
   "cell_type": "markdown",
   "metadata": {},
   "source": [
    "# Trying to get the best data"
   ]
  },
  {
   "cell_type": "code",
   "execution_count": 174,
   "metadata": {},
   "outputs": [
    {
     "name": "stdout",
     "output_type": "stream",
     "text": [
      "28\n",
      "30\n"
     ]
    }
   ],
   "source": [
    "tmp = data[data['nodeName'].str.contains('l3')]\n",
    "tmp1 = tmp[tmp['cacheSize'] > 100]\n",
    "# tmp1 = tmp1[tmp1['hitRatio'] > 0.7]\n",
    "\n",
    "tmp = data[data['nodeName'].str.contains('l2')]\n",
    "tmp2 = tmp[tmp['cacheSize'] < 200]\n",
    "tmp2 = tmp2[tmp2['cacheSize'] > 100]\n",
    "# tmp2 = tmp2[tmp2['hitRatio'] > 0.7]\n",
    "print(len(tmp2))\n",
    "\n",
    "tmp = data[data['nodeName'].str.contains('l1')]\n",
    "tmp3 = tmp[tmp['cacheSize'] < 180]\n",
    "# tmp3 = tmp3[tmp3['hitRatio'] > 0.7]\n",
    "\n",
    "tmp = data[data['nodeName'].str.contains('l4')]\n",
    "tmp4 = tmp[tmp['cacheSize'] > 100]\n",
    "# tmp4 = tmp4[tmp4['hitRatio'] > 0.7]\n",
    "\n",
    "print(len(tmp3))"
   ]
  },
  {
   "cell_type": "code",
   "execution_count": 175,
   "metadata": {},
   "outputs": [],
   "source": [
    "final = pd.concat([tmp1,tmp2,tmp3], axis=0)\n",
    "# print(final.head())\n",
    "# len(final)"
   ]
  },
  {
   "cell_type": "code",
   "execution_count": 176,
   "metadata": {},
   "outputs": [
    {
     "data": {
      "text/html": [
       "<style  type=\"text/css\" >\n",
       "    #T_5e1d3276_11dc_11ea_a4ec_00d861055462row0_col0 {\n",
       "            background-color:  #b40426;\n",
       "            color:  #f1f1f1;\n",
       "        }    #T_5e1d3276_11dc_11ea_a4ec_00d861055462row0_col1 {\n",
       "            background-color:  #779af7;\n",
       "            color:  #000000;\n",
       "        }    #T_5e1d3276_11dc_11ea_a4ec_00d861055462row0_col2 {\n",
       "            background-color:  #3b4cc0;\n",
       "            color:  #f1f1f1;\n",
       "        }    #T_5e1d3276_11dc_11ea_a4ec_00d861055462row0_col3 {\n",
       "            background-color:  #3b4cc0;\n",
       "            color:  #f1f1f1;\n",
       "        }    #T_5e1d3276_11dc_11ea_a4ec_00d861055462row0_col4 {\n",
       "            background-color:  #3b4cc0;\n",
       "            color:  #f1f1f1;\n",
       "        }    #T_5e1d3276_11dc_11ea_a4ec_00d861055462row0_col5 {\n",
       "            background-color:  #4b64d5;\n",
       "            color:  #f1f1f1;\n",
       "        }    #T_5e1d3276_11dc_11ea_a4ec_00d861055462row0_col6 {\n",
       "            background-color:  #3b4cc0;\n",
       "            color:  #f1f1f1;\n",
       "        }    #T_5e1d3276_11dc_11ea_a4ec_00d861055462row0_col7 {\n",
       "            background-color:  #779af7;\n",
       "            color:  #000000;\n",
       "        }    #T_5e1d3276_11dc_11ea_a4ec_00d861055462row1_col0 {\n",
       "            background-color:  #aec9fc;\n",
       "            color:  #000000;\n",
       "        }    #T_5e1d3276_11dc_11ea_a4ec_00d861055462row1_col1 {\n",
       "            background-color:  #b40426;\n",
       "            color:  #f1f1f1;\n",
       "        }    #T_5e1d3276_11dc_11ea_a4ec_00d861055462row1_col2 {\n",
       "            background-color:  #6282ea;\n",
       "            color:  #000000;\n",
       "        }    #T_5e1d3276_11dc_11ea_a4ec_00d861055462row1_col3 {\n",
       "            background-color:  #e4d9d2;\n",
       "            color:  #000000;\n",
       "        }    #T_5e1d3276_11dc_11ea_a4ec_00d861055462row1_col4 {\n",
       "            background-color:  #ead4c8;\n",
       "            color:  #000000;\n",
       "        }    #T_5e1d3276_11dc_11ea_a4ec_00d861055462row1_col5 {\n",
       "            background-color:  #3b4cc0;\n",
       "            color:  #f1f1f1;\n",
       "        }    #T_5e1d3276_11dc_11ea_a4ec_00d861055462row1_col6 {\n",
       "            background-color:  #ecd3c5;\n",
       "            color:  #000000;\n",
       "        }    #T_5e1d3276_11dc_11ea_a4ec_00d861055462row1_col7 {\n",
       "            background-color:  #b40426;\n",
       "            color:  #f1f1f1;\n",
       "        }    #T_5e1d3276_11dc_11ea_a4ec_00d861055462row2_col0 {\n",
       "            background-color:  #516ddb;\n",
       "            color:  #000000;\n",
       "        }    #T_5e1d3276_11dc_11ea_a4ec_00d861055462row2_col1 {\n",
       "            background-color:  #3b4cc0;\n",
       "            color:  #f1f1f1;\n",
       "        }    #T_5e1d3276_11dc_11ea_a4ec_00d861055462row2_col2 {\n",
       "            background-color:  #b40426;\n",
       "            color:  #f1f1f1;\n",
       "        }    #T_5e1d3276_11dc_11ea_a4ec_00d861055462row2_col3 {\n",
       "            background-color:  #df634e;\n",
       "            color:  #000000;\n",
       "        }    #T_5e1d3276_11dc_11ea_a4ec_00d861055462row2_col4 {\n",
       "            background-color:  #f59f80;\n",
       "            color:  #000000;\n",
       "        }    #T_5e1d3276_11dc_11ea_a4ec_00d861055462row2_col5 {\n",
       "            background-color:  #86a9fc;\n",
       "            color:  #000000;\n",
       "        }    #T_5e1d3276_11dc_11ea_a4ec_00d861055462row2_col6 {\n",
       "            background-color:  #dd5f4b;\n",
       "            color:  #000000;\n",
       "        }    #T_5e1d3276_11dc_11ea_a4ec_00d861055462row2_col7 {\n",
       "            background-color:  #3b4cc0;\n",
       "            color:  #f1f1f1;\n",
       "        }    #T_5e1d3276_11dc_11ea_a4ec_00d861055462row3_col0 {\n",
       "            background-color:  #4a63d3;\n",
       "            color:  #f1f1f1;\n",
       "        }    #T_5e1d3276_11dc_11ea_a4ec_00d861055462row3_col1 {\n",
       "            background-color:  #cedaeb;\n",
       "            color:  #000000;\n",
       "        }    #T_5e1d3276_11dc_11ea_a4ec_00d861055462row3_col2 {\n",
       "            background-color:  #e0654f;\n",
       "            color:  #000000;\n",
       "        }    #T_5e1d3276_11dc_11ea_a4ec_00d861055462row3_col3 {\n",
       "            background-color:  #b40426;\n",
       "            color:  #f1f1f1;\n",
       "        }    #T_5e1d3276_11dc_11ea_a4ec_00d861055462row3_col4 {\n",
       "            background-color:  #e16751;\n",
       "            color:  #000000;\n",
       "        }    #T_5e1d3276_11dc_11ea_a4ec_00d861055462row3_col5 {\n",
       "            background-color:  #8badfd;\n",
       "            color:  #000000;\n",
       "        }    #T_5e1d3276_11dc_11ea_a4ec_00d861055462row3_col6 {\n",
       "            background-color:  #b70d28;\n",
       "            color:  #f1f1f1;\n",
       "        }    #T_5e1d3276_11dc_11ea_a4ec_00d861055462row3_col7 {\n",
       "            background-color:  #cedaeb;\n",
       "            color:  #000000;\n",
       "        }    #T_5e1d3276_11dc_11ea_a4ec_00d861055462row4_col0 {\n",
       "            background-color:  #4b64d5;\n",
       "            color:  #f1f1f1;\n",
       "        }    #T_5e1d3276_11dc_11ea_a4ec_00d861055462row4_col1 {\n",
       "            background-color:  #d7dce3;\n",
       "            color:  #000000;\n",
       "        }    #T_5e1d3276_11dc_11ea_a4ec_00d861055462row4_col2 {\n",
       "            background-color:  #f6a283;\n",
       "            color:  #000000;\n",
       "        }    #T_5e1d3276_11dc_11ea_a4ec_00d861055462row4_col3 {\n",
       "            background-color:  #e16751;\n",
       "            color:  #000000;\n",
       "        }    #T_5e1d3276_11dc_11ea_a4ec_00d861055462row4_col4 {\n",
       "            background-color:  #b40426;\n",
       "            color:  #f1f1f1;\n",
       "        }    #T_5e1d3276_11dc_11ea_a4ec_00d861055462row4_col5 {\n",
       "            background-color:  #88abfd;\n",
       "            color:  #000000;\n",
       "        }    #T_5e1d3276_11dc_11ea_a4ec_00d861055462row4_col6 {\n",
       "            background-color:  #de614d;\n",
       "            color:  #000000;\n",
       "        }    #T_5e1d3276_11dc_11ea_a4ec_00d861055462row4_col7 {\n",
       "            background-color:  #d7dce3;\n",
       "            color:  #000000;\n",
       "        }    #T_5e1d3276_11dc_11ea_a4ec_00d861055462row5_col0 {\n",
       "            background-color:  #c6d6f1;\n",
       "            color:  #000000;\n",
       "        }    #T_5e1d3276_11dc_11ea_a4ec_00d861055462row5_col1 {\n",
       "            background-color:  #89acfd;\n",
       "            color:  #000000;\n",
       "        }    #T_5e1d3276_11dc_11ea_a4ec_00d861055462row5_col2 {\n",
       "            background-color:  #dadce0;\n",
       "            color:  #000000;\n",
       "        }    #T_5e1d3276_11dc_11ea_a4ec_00d861055462row5_col3 {\n",
       "            background-color:  #dfdbd9;\n",
       "            color:  #000000;\n",
       "        }    #T_5e1d3276_11dc_11ea_a4ec_00d861055462row5_col4 {\n",
       "            background-color:  #dddcdc;\n",
       "            color:  #000000;\n",
       "        }    #T_5e1d3276_11dc_11ea_a4ec_00d861055462row5_col5 {\n",
       "            background-color:  #b40426;\n",
       "            color:  #f1f1f1;\n",
       "        }    #T_5e1d3276_11dc_11ea_a4ec_00d861055462row5_col6 {\n",
       "            background-color:  #dfdbd9;\n",
       "            color:  #000000;\n",
       "        }    #T_5e1d3276_11dc_11ea_a4ec_00d861055462row5_col7 {\n",
       "            background-color:  #89acfd;\n",
       "            color:  #000000;\n",
       "        }    #T_5e1d3276_11dc_11ea_a4ec_00d861055462row6_col0 {\n",
       "            background-color:  #3b4cc0;\n",
       "            color:  #f1f1f1;\n",
       "        }    #T_5e1d3276_11dc_11ea_a4ec_00d861055462row6_col1 {\n",
       "            background-color:  #d2dbe8;\n",
       "            color:  #000000;\n",
       "        }    #T_5e1d3276_11dc_11ea_a4ec_00d861055462row6_col2 {\n",
       "            background-color:  #df634e;\n",
       "            color:  #000000;\n",
       "        }    #T_5e1d3276_11dc_11ea_a4ec_00d861055462row6_col3 {\n",
       "            background-color:  #b70d28;\n",
       "            color:  #f1f1f1;\n",
       "        }    #T_5e1d3276_11dc_11ea_a4ec_00d861055462row6_col4 {\n",
       "            background-color:  #e0654f;\n",
       "            color:  #000000;\n",
       "        }    #T_5e1d3276_11dc_11ea_a4ec_00d861055462row6_col5 {\n",
       "            background-color:  #7a9df8;\n",
       "            color:  #000000;\n",
       "        }    #T_5e1d3276_11dc_11ea_a4ec_00d861055462row6_col6 {\n",
       "            background-color:  #b40426;\n",
       "            color:  #f1f1f1;\n",
       "        }    #T_5e1d3276_11dc_11ea_a4ec_00d861055462row6_col7 {\n",
       "            background-color:  #d2dbe8;\n",
       "            color:  #000000;\n",
       "        }    #T_5e1d3276_11dc_11ea_a4ec_00d861055462row7_col0 {\n",
       "            background-color:  #aec9fc;\n",
       "            color:  #000000;\n",
       "        }    #T_5e1d3276_11dc_11ea_a4ec_00d861055462row7_col1 {\n",
       "            background-color:  #b40426;\n",
       "            color:  #f1f1f1;\n",
       "        }    #T_5e1d3276_11dc_11ea_a4ec_00d861055462row7_col2 {\n",
       "            background-color:  #6282ea;\n",
       "            color:  #000000;\n",
       "        }    #T_5e1d3276_11dc_11ea_a4ec_00d861055462row7_col3 {\n",
       "            background-color:  #e4d9d2;\n",
       "            color:  #000000;\n",
       "        }    #T_5e1d3276_11dc_11ea_a4ec_00d861055462row7_col4 {\n",
       "            background-color:  #ead4c8;\n",
       "            color:  #000000;\n",
       "        }    #T_5e1d3276_11dc_11ea_a4ec_00d861055462row7_col5 {\n",
       "            background-color:  #3b4cc0;\n",
       "            color:  #f1f1f1;\n",
       "        }    #T_5e1d3276_11dc_11ea_a4ec_00d861055462row7_col6 {\n",
       "            background-color:  #ecd3c5;\n",
       "            color:  #000000;\n",
       "        }    #T_5e1d3276_11dc_11ea_a4ec_00d861055462row7_col7 {\n",
       "            background-color:  #b40426;\n",
       "            color:  #f1f1f1;\n",
       "        }</style><table id=\"T_5e1d3276_11dc_11ea_a4ec_00d861055462\" ><thead>    <tr>        <th class=\"blank level0\" ></th>        <th class=\"col_heading level0 col0\" >hitRatio</th>        <th class=\"col_heading level0 col1\" >distFromProducer</th>        <th class=\"col_heading level0 col2\" >distFromConsumers</th>        <th class=\"col_heading level0 col3\" >NumberOfNodes</th>        <th class=\"col_heading level0 col4\" >cacheSize</th>        <th class=\"col_heading level0 col5\" >interestRate</th>        <th class=\"col_heading level0 col6\" >totalLevels</th>        <th class=\"col_heading level0 col7\" >level</th>    </tr></thead><tbody>\n",
       "                <tr>\n",
       "                        <th id=\"T_5e1d3276_11dc_11ea_a4ec_00d861055462level0_row0\" class=\"row_heading level0 row0\" >hitRatio</th>\n",
       "                        <td id=\"T_5e1d3276_11dc_11ea_a4ec_00d861055462row0_col0\" class=\"data row0 col0\" >1</td>\n",
       "                        <td id=\"T_5e1d3276_11dc_11ea_a4ec_00d861055462row0_col1\" class=\"data row0 col1\" >-0.140913</td>\n",
       "                        <td id=\"T_5e1d3276_11dc_11ea_a4ec_00d861055462row0_col2\" class=\"data row0 col2\" >-0.610072</td>\n",
       "                        <td id=\"T_5e1d3276_11dc_11ea_a4ec_00d861055462row0_col3\" class=\"data row0 col3\" >-0.64914</td>\n",
       "                        <td id=\"T_5e1d3276_11dc_11ea_a4ec_00d861055462row0_col4\" class=\"data row0 col4\" >-0.645428</td>\n",
       "                        <td id=\"T_5e1d3276_11dc_11ea_a4ec_00d861055462row0_col5\" class=\"data row0 col5\" >-0.00784278</td>\n",
       "                        <td id=\"T_5e1d3276_11dc_11ea_a4ec_00d861055462row0_col6\" class=\"data row0 col6\" >-0.742576</td>\n",
       "                        <td id=\"T_5e1d3276_11dc_11ea_a4ec_00d861055462row0_col7\" class=\"data row0 col7\" >-0.140913</td>\n",
       "            </tr>\n",
       "            <tr>\n",
       "                        <th id=\"T_5e1d3276_11dc_11ea_a4ec_00d861055462level0_row1\" class=\"row_heading level0 row1\" >distFromProducer</th>\n",
       "                        <td id=\"T_5e1d3276_11dc_11ea_a4ec_00d861055462row1_col0\" class=\"data row1 col0\" >-0.140913</td>\n",
       "                        <td id=\"T_5e1d3276_11dc_11ea_a4ec_00d861055462row1_col1\" class=\"data row1 col1\" >1</td>\n",
       "                        <td id=\"T_5e1d3276_11dc_11ea_a4ec_00d861055462row1_col2\" class=\"data row1 col2\" >-0.405952</td>\n",
       "                        <td id=\"T_5e1d3276_11dc_11ea_a4ec_00d861055462row1_col3\" class=\"data row1 col3\" >0.223889</td>\n",
       "                        <td id=\"T_5e1d3276_11dc_11ea_a4ec_00d861055462row1_col4\" class=\"data row1 col4\" >0.267525</td>\n",
       "                        <td id=\"T_5e1d3276_11dc_11ea_a4ec_00d861055462row1_col5\" class=\"data row1 col5\" >-0.0696758</td>\n",
       "                        <td id=\"T_5e1d3276_11dc_11ea_a4ec_00d861055462row1_col6\" class=\"data row1 col6\" >0.241224</td>\n",
       "                        <td id=\"T_5e1d3276_11dc_11ea_a4ec_00d861055462row1_col7\" class=\"data row1 col7\" >1</td>\n",
       "            </tr>\n",
       "            <tr>\n",
       "                        <th id=\"T_5e1d3276_11dc_11ea_a4ec_00d861055462level0_row2\" class=\"row_heading level0 row2\" >distFromConsumers</th>\n",
       "                        <td id=\"T_5e1d3276_11dc_11ea_a4ec_00d861055462row2_col0\" class=\"data row2 col0\" >-0.610072</td>\n",
       "                        <td id=\"T_5e1d3276_11dc_11ea_a4ec_00d861055462row2_col1\" class=\"data row2 col1\" >-0.405952</td>\n",
       "                        <td id=\"T_5e1d3276_11dc_11ea_a4ec_00d861055462row2_col2\" class=\"data row2 col2\" >1</td>\n",
       "                        <td id=\"T_5e1d3276_11dc_11ea_a4ec_00d861055462row2_col3\" class=\"data row2 col3\" >0.785837</td>\n",
       "                        <td id=\"T_5e1d3276_11dc_11ea_a4ec_00d861055462row2_col4\" class=\"data row2 col4\" >0.563568</td>\n",
       "                        <td id=\"T_5e1d3276_11dc_11ea_a4ec_00d861055462row2_col5\" class=\"data row2 col5\" >0.17911</td>\n",
       "                        <td id=\"T_5e1d3276_11dc_11ea_a4ec_00d861055462row2_col6\" class=\"data row2 col6\" >0.788981</td>\n",
       "                        <td id=\"T_5e1d3276_11dc_11ea_a4ec_00d861055462row2_col7\" class=\"data row2 col7\" >-0.405952</td>\n",
       "            </tr>\n",
       "            <tr>\n",
       "                        <th id=\"T_5e1d3276_11dc_11ea_a4ec_00d861055462level0_row3\" class=\"row_heading level0 row3\" >NumberOfNodes</th>\n",
       "                        <td id=\"T_5e1d3276_11dc_11ea_a4ec_00d861055462row3_col0\" class=\"data row3 col0\" >-0.64914</td>\n",
       "                        <td id=\"T_5e1d3276_11dc_11ea_a4ec_00d861055462row3_col1\" class=\"data row3 col1\" >0.223889</td>\n",
       "                        <td id=\"T_5e1d3276_11dc_11ea_a4ec_00d861055462row3_col2\" class=\"data row3 col2\" >0.785837</td>\n",
       "                        <td id=\"T_5e1d3276_11dc_11ea_a4ec_00d861055462row3_col3\" class=\"data row3 col3\" >1</td>\n",
       "                        <td id=\"T_5e1d3276_11dc_11ea_a4ec_00d861055462row3_col4\" class=\"data row3 col4\" >0.771895</td>\n",
       "                        <td id=\"T_5e1d3276_11dc_11ea_a4ec_00d861055462row3_col5\" class=\"data row3 col5\" >0.193549</td>\n",
       "                        <td id=\"T_5e1d3276_11dc_11ea_a4ec_00d861055462row3_col6\" class=\"data row3 col6\" >0.985007</td>\n",
       "                        <td id=\"T_5e1d3276_11dc_11ea_a4ec_00d861055462row3_col7\" class=\"data row3 col7\" >0.223889</td>\n",
       "            </tr>\n",
       "            <tr>\n",
       "                        <th id=\"T_5e1d3276_11dc_11ea_a4ec_00d861055462level0_row4\" class=\"row_heading level0 row4\" >cacheSize</th>\n",
       "                        <td id=\"T_5e1d3276_11dc_11ea_a4ec_00d861055462row4_col0\" class=\"data row4 col0\" >-0.645428</td>\n",
       "                        <td id=\"T_5e1d3276_11dc_11ea_a4ec_00d861055462row4_col1\" class=\"data row4 col1\" >0.267525</td>\n",
       "                        <td id=\"T_5e1d3276_11dc_11ea_a4ec_00d861055462row4_col2\" class=\"data row4 col2\" >0.563568</td>\n",
       "                        <td id=\"T_5e1d3276_11dc_11ea_a4ec_00d861055462row4_col3\" class=\"data row4 col3\" >0.771895</td>\n",
       "                        <td id=\"T_5e1d3276_11dc_11ea_a4ec_00d861055462row4_col4\" class=\"data row4 col4\" >1</td>\n",
       "                        <td id=\"T_5e1d3276_11dc_11ea_a4ec_00d861055462row4_col5\" class=\"data row4 col5\" >0.182693</td>\n",
       "                        <td id=\"T_5e1d3276_11dc_11ea_a4ec_00d861055462row4_col6\" class=\"data row4 col6\" >0.778314</td>\n",
       "                        <td id=\"T_5e1d3276_11dc_11ea_a4ec_00d861055462row4_col7\" class=\"data row4 col7\" >0.267525</td>\n",
       "            </tr>\n",
       "            <tr>\n",
       "                        <th id=\"T_5e1d3276_11dc_11ea_a4ec_00d861055462level0_row5\" class=\"row_heading level0 row5\" >interestRate</th>\n",
       "                        <td id=\"T_5e1d3276_11dc_11ea_a4ec_00d861055462row5_col0\" class=\"data row5 col0\" >-0.00784278</td>\n",
       "                        <td id=\"T_5e1d3276_11dc_11ea_a4ec_00d861055462row5_col1\" class=\"data row5 col1\" >-0.0696758</td>\n",
       "                        <td id=\"T_5e1d3276_11dc_11ea_a4ec_00d861055462row5_col2\" class=\"data row5 col2\" >0.17911</td>\n",
       "                        <td id=\"T_5e1d3276_11dc_11ea_a4ec_00d861055462row5_col3\" class=\"data row5 col3\" >0.193549</td>\n",
       "                        <td id=\"T_5e1d3276_11dc_11ea_a4ec_00d861055462row5_col4\" class=\"data row5 col4\" >0.182693</td>\n",
       "                        <td id=\"T_5e1d3276_11dc_11ea_a4ec_00d861055462row5_col5\" class=\"data row5 col5\" >1</td>\n",
       "                        <td id=\"T_5e1d3276_11dc_11ea_a4ec_00d861055462row5_col6\" class=\"data row5 col6\" >0.143355</td>\n",
       "                        <td id=\"T_5e1d3276_11dc_11ea_a4ec_00d861055462row5_col7\" class=\"data row5 col7\" >-0.0696758</td>\n",
       "            </tr>\n",
       "            <tr>\n",
       "                        <th id=\"T_5e1d3276_11dc_11ea_a4ec_00d861055462level0_row6\" class=\"row_heading level0 row6\" >totalLevels</th>\n",
       "                        <td id=\"T_5e1d3276_11dc_11ea_a4ec_00d861055462row6_col0\" class=\"data row6 col0\" >-0.742576</td>\n",
       "                        <td id=\"T_5e1d3276_11dc_11ea_a4ec_00d861055462row6_col1\" class=\"data row6 col1\" >0.241224</td>\n",
       "                        <td id=\"T_5e1d3276_11dc_11ea_a4ec_00d861055462row6_col2\" class=\"data row6 col2\" >0.788981</td>\n",
       "                        <td id=\"T_5e1d3276_11dc_11ea_a4ec_00d861055462row6_col3\" class=\"data row6 col3\" >0.985007</td>\n",
       "                        <td id=\"T_5e1d3276_11dc_11ea_a4ec_00d861055462row6_col4\" class=\"data row6 col4\" >0.778314</td>\n",
       "                        <td id=\"T_5e1d3276_11dc_11ea_a4ec_00d861055462row6_col5\" class=\"data row6 col5\" >0.143355</td>\n",
       "                        <td id=\"T_5e1d3276_11dc_11ea_a4ec_00d861055462row6_col6\" class=\"data row6 col6\" >1</td>\n",
       "                        <td id=\"T_5e1d3276_11dc_11ea_a4ec_00d861055462row6_col7\" class=\"data row6 col7\" >0.241224</td>\n",
       "            </tr>\n",
       "            <tr>\n",
       "                        <th id=\"T_5e1d3276_11dc_11ea_a4ec_00d861055462level0_row7\" class=\"row_heading level0 row7\" >level</th>\n",
       "                        <td id=\"T_5e1d3276_11dc_11ea_a4ec_00d861055462row7_col0\" class=\"data row7 col0\" >-0.140913</td>\n",
       "                        <td id=\"T_5e1d3276_11dc_11ea_a4ec_00d861055462row7_col1\" class=\"data row7 col1\" >1</td>\n",
       "                        <td id=\"T_5e1d3276_11dc_11ea_a4ec_00d861055462row7_col2\" class=\"data row7 col2\" >-0.405952</td>\n",
       "                        <td id=\"T_5e1d3276_11dc_11ea_a4ec_00d861055462row7_col3\" class=\"data row7 col3\" >0.223889</td>\n",
       "                        <td id=\"T_5e1d3276_11dc_11ea_a4ec_00d861055462row7_col4\" class=\"data row7 col4\" >0.267525</td>\n",
       "                        <td id=\"T_5e1d3276_11dc_11ea_a4ec_00d861055462row7_col5\" class=\"data row7 col5\" >-0.0696758</td>\n",
       "                        <td id=\"T_5e1d3276_11dc_11ea_a4ec_00d861055462row7_col6\" class=\"data row7 col6\" >0.241224</td>\n",
       "                        <td id=\"T_5e1d3276_11dc_11ea_a4ec_00d861055462row7_col7\" class=\"data row7 col7\" >1</td>\n",
       "            </tr>\n",
       "    </tbody></table>"
      ],
      "text/plain": [
       "<pandas.io.formats.style.Styler at 0x1b8ed010808>"
      ]
     },
     "execution_count": 176,
     "metadata": {},
     "output_type": "execute_result"
    }
   ],
   "source": [
    "corr = final.corr()\n",
    "corr.style.background_gradient(cmap='coolwarm')"
   ]
  },
  {
   "cell_type": "code",
   "execution_count": 177,
   "metadata": {},
   "outputs": [
    {
     "name": "stderr",
     "output_type": "stream",
     "text": [
      "c:\\users\\sanchita\\miniconda3\\lib\\site-packages\\sklearn\\ensemble\\forest.py:245: FutureWarning: The default value of n_estimators will change from 10 in version 0.20 to 100 in 0.22.\n",
      "  \"10 in version 0.20 to 100 in 0.22.\", FutureWarning)\n"
     ]
    },
    {
     "name": "stdout",
     "output_type": "stream",
     "text": [
      "Accuracy is 63.22136597861487\n"
     ]
    }
   ],
   "source": [
    "from sklearn.ensemble import RandomForestRegressor\n",
    "from sklearn.metrics import mean_absolute_error\n",
    "from sklearn.model_selection import train_test_split\n",
    "from sklearn.metrics import accuracy_score\n",
    "\n",
    "y = final.cacheSize\n",
    "features = ['distFromConsumers','distFromProducer', 'level']\n",
    "X = final[features]\n",
    "train_X, val_X, train_y, val_y = train_test_split(X, y, random_state = 0)\n",
    "forest_model = RandomForestRegressor(random_state=1)\n",
    "forest_model.fit(train_X, train_y)\n",
    "preds = forest_model.predict(val_X)\n",
    "accuracy = getAccuracy(val_y, preds)\n",
    "print(\"Accuracy is {}\".format(accuracy))"
   ]
  },
  {
   "cell_type": "code",
   "execution_count": 178,
   "metadata": {},
   "outputs": [
    {
     "data": {
      "text/html": [
       "<div>\n",
       "<style scoped>\n",
       "    .dataframe tbody tr th:only-of-type {\n",
       "        vertical-align: middle;\n",
       "    }\n",
       "\n",
       "    .dataframe tbody tr th {\n",
       "        vertical-align: top;\n",
       "    }\n",
       "\n",
       "    .dataframe thead th {\n",
       "        text-align: right;\n",
       "    }\n",
       "</style>\n",
       "<table border=\"1\" class=\"dataframe\">\n",
       "  <thead>\n",
       "    <tr style=\"text-align: right;\">\n",
       "      <th></th>\n",
       "      <th>level</th>\n",
       "      <th>distFromProducer</th>\n",
       "      <th>distFromConsumer</th>\n",
       "      <th>CacheSize</th>\n",
       "    </tr>\n",
       "  </thead>\n",
       "  <tbody>\n",
       "    <tr>\n",
       "      <th>0</th>\n",
       "      <td>0</td>\n",
       "      <td>0</td>\n",
       "      <td>8</td>\n",
       "      <td>164.222536</td>\n",
       "    </tr>\n",
       "    <tr>\n",
       "      <th>1</th>\n",
       "      <td>1</td>\n",
       "      <td>1</td>\n",
       "      <td>7</td>\n",
       "      <td>164.222536</td>\n",
       "    </tr>\n",
       "    <tr>\n",
       "      <th>2</th>\n",
       "      <td>2</td>\n",
       "      <td>2</td>\n",
       "      <td>6</td>\n",
       "      <td>219.160363</td>\n",
       "    </tr>\n",
       "    <tr>\n",
       "      <th>3</th>\n",
       "      <td>3</td>\n",
       "      <td>3</td>\n",
       "      <td>5</td>\n",
       "      <td>435.520588</td>\n",
       "    </tr>\n",
       "    <tr>\n",
       "      <th>4</th>\n",
       "      <td>4</td>\n",
       "      <td>4</td>\n",
       "      <td>4</td>\n",
       "      <td>435.520588</td>\n",
       "    </tr>\n",
       "    <tr>\n",
       "      <th>5</th>\n",
       "      <td>5</td>\n",
       "      <td>5</td>\n",
       "      <td>3</td>\n",
       "      <td>435.520588</td>\n",
       "    </tr>\n",
       "    <tr>\n",
       "      <th>6</th>\n",
       "      <td>6</td>\n",
       "      <td>6</td>\n",
       "      <td>2</td>\n",
       "      <td>325.163499</td>\n",
       "    </tr>\n",
       "    <tr>\n",
       "      <th>7</th>\n",
       "      <td>7</td>\n",
       "      <td>7</td>\n",
       "      <td>1</td>\n",
       "      <td>314.827245</td>\n",
       "    </tr>\n",
       "    <tr>\n",
       "      <th>8</th>\n",
       "      <td>8</td>\n",
       "      <td>8</td>\n",
       "      <td>0</td>\n",
       "      <td>314.827245</td>\n",
       "    </tr>\n",
       "  </tbody>\n",
       "</table>\n",
       "</div>"
      ],
      "text/plain": [
       "   level  distFromProducer  distFromConsumer   CacheSize\n",
       "0      0                 0                 8  164.222536\n",
       "1      1                 1                 7  164.222536\n",
       "2      2                 2                 6  219.160363\n",
       "3      3                 3                 5  435.520588\n",
       "4      4                 4                 4  435.520588\n",
       "5      5                 5                 3  435.520588\n",
       "6      6                 6                 2  325.163499\n",
       "7      7                 7                 1  314.827245\n",
       "8      8                 8                 0  314.827245"
      ]
     },
     "execution_count": 178,
     "metadata": {},
     "output_type": "execute_result"
    }
   ],
   "source": [
    "level = [0,1,2,3,4,5,6,7,8]\n",
    "levelD = level.copy()\n",
    "level.sort(reverse=True)\n",
    "testing = pd.DataFrame({'level': levelD, 'distFromProducer': levelD, 'distFromConsumer': level})\n",
    "preds = forest_model.predict(testing)\n",
    "testing['CacheSize'] = preds\n",
    "testing"
   ]
  },
  {
   "cell_type": "code",
   "execution_count": null,
   "metadata": {},
   "outputs": [],
   "source": []
  }
 ],
 "metadata": {
  "kernelspec": {
   "display_name": "Python 3",
   "language": "python",
   "name": "python3"
  },
  "language_info": {
   "codemirror_mode": {
    "name": "ipython",
    "version": 3
   },
   "file_extension": ".py",
   "mimetype": "text/x-python",
   "name": "python",
   "nbconvert_exporter": "python",
   "pygments_lexer": "ipython3",
   "version": "3.7.4"
  }
 },
 "nbformat": 4,
 "nbformat_minor": 2
}
