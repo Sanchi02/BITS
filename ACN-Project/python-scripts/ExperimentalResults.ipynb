{
 "cells": [
  {
   "cell_type": "code",
   "execution_count": 26,
   "metadata": {},
   "outputs": [],
   "source": [
    "import pandas as pd\n",
    "import seaborn as sns\n",
    "import matplotlib.pyplot as plt"
   ]
  },
  {
   "cell_type": "code",
   "execution_count": 27,
   "metadata": {},
   "outputs": [],
   "source": [
    "filePath = 'C:\\\\Users\\\\Sanchita\\\\Desktop\\\\Stuff\\\\ACN Project Re\\\\Experiment.csv'\n",
    "data = pd.read_csv(filePath, header=None, names=['nodeName', 'hitRatio', 'distFromProducer', 'distFromConsumers', 'NumberOfNodes', 'cacheSize', 'interestRate','Tags','totalLevels','level'])"
   ]
  },
  {
   "cell_type": "code",
   "execution_count": 28,
   "metadata": {},
   "outputs": [
    {
     "data": {
      "text/html": [
       "<div>\n",
       "<style scoped>\n",
       "    .dataframe tbody tr th:only-of-type {\n",
       "        vertical-align: middle;\n",
       "    }\n",
       "\n",
       "    .dataframe tbody tr th {\n",
       "        vertical-align: top;\n",
       "    }\n",
       "\n",
       "    .dataframe thead th {\n",
       "        text-align: right;\n",
       "    }\n",
       "</style>\n",
       "<table border=\"1\" class=\"dataframe\">\n",
       "  <thead>\n",
       "    <tr style=\"text-align: right;\">\n",
       "      <th></th>\n",
       "      <th>nodeName</th>\n",
       "      <th>hitRatio</th>\n",
       "      <th>distFromProducer</th>\n",
       "      <th>distFromConsumers</th>\n",
       "      <th>NumberOfNodes</th>\n",
       "      <th>cacheSize</th>\n",
       "      <th>interestRate</th>\n",
       "      <th>Tags</th>\n",
       "      <th>totalLevels</th>\n",
       "      <th>level</th>\n",
       "    </tr>\n",
       "  </thead>\n",
       "  <tbody>\n",
       "    <tr>\n",
       "      <th>0</th>\n",
       "      <td>root</td>\n",
       "      <td>0.495050</td>\n",
       "      <td>0</td>\n",
       "      <td>7</td>\n",
       "      <td>127</td>\n",
       "      <td>164</td>\n",
       "      <td>300</td>\n",
       "      <td>Prediction</td>\n",
       "      <td>NaN</td>\n",
       "      <td>NaN</td>\n",
       "    </tr>\n",
       "    <tr>\n",
       "      <th>1</th>\n",
       "      <td>l1-1</td>\n",
       "      <td>0.497512</td>\n",
       "      <td>1</td>\n",
       "      <td>6</td>\n",
       "      <td>127</td>\n",
       "      <td>164</td>\n",
       "      <td>300</td>\n",
       "      <td>Prediction</td>\n",
       "      <td>NaN</td>\n",
       "      <td>NaN</td>\n",
       "    </tr>\n",
       "    <tr>\n",
       "      <th>2</th>\n",
       "      <td>l1-2</td>\n",
       "      <td>0.497512</td>\n",
       "      <td>1</td>\n",
       "      <td>6</td>\n",
       "      <td>127</td>\n",
       "      <td>164</td>\n",
       "      <td>300</td>\n",
       "      <td>Prediction</td>\n",
       "      <td>NaN</td>\n",
       "      <td>NaN</td>\n",
       "    </tr>\n",
       "    <tr>\n",
       "      <th>3</th>\n",
       "      <td>l2-1</td>\n",
       "      <td>0.497512</td>\n",
       "      <td>2</td>\n",
       "      <td>5</td>\n",
       "      <td>127</td>\n",
       "      <td>209</td>\n",
       "      <td>300</td>\n",
       "      <td>Prediction</td>\n",
       "      <td>NaN</td>\n",
       "      <td>NaN</td>\n",
       "    </tr>\n",
       "    <tr>\n",
       "      <th>4</th>\n",
       "      <td>l2-2</td>\n",
       "      <td>0.497512</td>\n",
       "      <td>2</td>\n",
       "      <td>5</td>\n",
       "      <td>127</td>\n",
       "      <td>209</td>\n",
       "      <td>300</td>\n",
       "      <td>Prediction</td>\n",
       "      <td>NaN</td>\n",
       "      <td>NaN</td>\n",
       "    </tr>\n",
       "  </tbody>\n",
       "</table>\n",
       "</div>"
      ],
      "text/plain": [
       "  nodeName  hitRatio  distFromProducer  distFromConsumers  NumberOfNodes  \\\n",
       "0     root  0.495050                 0                  7            127   \n",
       "1     l1-1  0.497512                 1                  6            127   \n",
       "2     l1-2  0.497512                 1                  6            127   \n",
       "3     l2-1  0.497512                 2                  5            127   \n",
       "4     l2-2  0.497512                 2                  5            127   \n",
       "\n",
       "   cacheSize  interestRate        Tags  totalLevels  level  \n",
       "0        164           300  Prediction          NaN    NaN  \n",
       "1        164           300  Prediction          NaN    NaN  \n",
       "2        164           300  Prediction          NaN    NaN  \n",
       "3        209           300  Prediction          NaN    NaN  \n",
       "4        209           300  Prediction          NaN    NaN  "
      ]
     },
     "execution_count": 28,
     "metadata": {},
     "output_type": "execute_result"
    }
   ],
   "source": [
    "data.head()"
   ]
  },
  {
   "cell_type": "code",
   "execution_count": 29,
   "metadata": {},
   "outputs": [
    {
     "data": {
      "text/html": [
       "<div>\n",
       "<style scoped>\n",
       "    .dataframe tbody tr th:only-of-type {\n",
       "        vertical-align: middle;\n",
       "    }\n",
       "\n",
       "    .dataframe tbody tr th {\n",
       "        vertical-align: top;\n",
       "    }\n",
       "\n",
       "    .dataframe thead th {\n",
       "        text-align: right;\n",
       "    }\n",
       "</style>\n",
       "<table border=\"1\" class=\"dataframe\">\n",
       "  <thead>\n",
       "    <tr style=\"text-align: right;\">\n",
       "      <th></th>\n",
       "      <th>nodeName</th>\n",
       "      <th>hitRatio</th>\n",
       "      <th>distFromProducer</th>\n",
       "      <th>distFromConsumers</th>\n",
       "      <th>NumberOfNodes</th>\n",
       "      <th>cacheSize</th>\n",
       "      <th>interestRate</th>\n",
       "      <th>Tags</th>\n",
       "      <th>totalLevels</th>\n",
       "      <th>level</th>\n",
       "    </tr>\n",
       "  </thead>\n",
       "  <tbody>\n",
       "    <tr>\n",
       "      <th>0</th>\n",
       "      <td>root</td>\n",
       "      <td>0.495050</td>\n",
       "      <td>0</td>\n",
       "      <td>7</td>\n",
       "      <td>127</td>\n",
       "      <td>164</td>\n",
       "      <td>300</td>\n",
       "      <td>Prediction</td>\n",
       "      <td>6</td>\n",
       "      <td>NaN</td>\n",
       "    </tr>\n",
       "    <tr>\n",
       "      <th>1</th>\n",
       "      <td>l1-1</td>\n",
       "      <td>0.497512</td>\n",
       "      <td>1</td>\n",
       "      <td>6</td>\n",
       "      <td>127</td>\n",
       "      <td>164</td>\n",
       "      <td>300</td>\n",
       "      <td>Prediction</td>\n",
       "      <td>6</td>\n",
       "      <td>NaN</td>\n",
       "    </tr>\n",
       "    <tr>\n",
       "      <th>2</th>\n",
       "      <td>l1-2</td>\n",
       "      <td>0.497512</td>\n",
       "      <td>1</td>\n",
       "      <td>6</td>\n",
       "      <td>127</td>\n",
       "      <td>164</td>\n",
       "      <td>300</td>\n",
       "      <td>Prediction</td>\n",
       "      <td>6</td>\n",
       "      <td>NaN</td>\n",
       "    </tr>\n",
       "    <tr>\n",
       "      <th>3</th>\n",
       "      <td>l2-1</td>\n",
       "      <td>0.497512</td>\n",
       "      <td>2</td>\n",
       "      <td>5</td>\n",
       "      <td>127</td>\n",
       "      <td>209</td>\n",
       "      <td>300</td>\n",
       "      <td>Prediction</td>\n",
       "      <td>6</td>\n",
       "      <td>NaN</td>\n",
       "    </tr>\n",
       "    <tr>\n",
       "      <th>4</th>\n",
       "      <td>l2-2</td>\n",
       "      <td>0.497512</td>\n",
       "      <td>2</td>\n",
       "      <td>5</td>\n",
       "      <td>127</td>\n",
       "      <td>209</td>\n",
       "      <td>300</td>\n",
       "      <td>Prediction</td>\n",
       "      <td>6</td>\n",
       "      <td>NaN</td>\n",
       "    </tr>\n",
       "  </tbody>\n",
       "</table>\n",
       "</div>"
      ],
      "text/plain": [
       "  nodeName  hitRatio  distFromProducer  distFromConsumers  NumberOfNodes  \\\n",
       "0     root  0.495050                 0                  7            127   \n",
       "1     l1-1  0.497512                 1                  6            127   \n",
       "2     l1-2  0.497512                 1                  6            127   \n",
       "3     l2-1  0.497512                 2                  5            127   \n",
       "4     l2-2  0.497512                 2                  5            127   \n",
       "\n",
       "   cacheSize  interestRate        Tags  totalLevels  level  \n",
       "0        164           300  Prediction            6    NaN  \n",
       "1        164           300  Prediction            6    NaN  \n",
       "2        164           300  Prediction            6    NaN  \n",
       "3        209           300  Prediction            6    NaN  \n",
       "4        209           300  Prediction            6    NaN  "
      ]
     },
     "execution_count": 29,
     "metadata": {},
     "output_type": "execute_result"
    }
   ],
   "source": [
    "totL = [6]*len(data)\n",
    "data['totalLevels'] = totL\n",
    "data.head()"
   ]
  },
  {
   "cell_type": "code",
   "execution_count": 30,
   "metadata": {},
   "outputs": [
    {
     "data": {
      "text/html": [
       "<div>\n",
       "<style scoped>\n",
       "    .dataframe tbody tr th:only-of-type {\n",
       "        vertical-align: middle;\n",
       "    }\n",
       "\n",
       "    .dataframe tbody tr th {\n",
       "        vertical-align: top;\n",
       "    }\n",
       "\n",
       "    .dataframe thead th {\n",
       "        text-align: right;\n",
       "    }\n",
       "</style>\n",
       "<table border=\"1\" class=\"dataframe\">\n",
       "  <thead>\n",
       "    <tr style=\"text-align: right;\">\n",
       "      <th></th>\n",
       "      <th>nodeName</th>\n",
       "      <th>hitRatio</th>\n",
       "      <th>distFromProducer</th>\n",
       "      <th>distFromConsumers</th>\n",
       "      <th>NumberOfNodes</th>\n",
       "      <th>cacheSize</th>\n",
       "      <th>interestRate</th>\n",
       "      <th>Tags</th>\n",
       "      <th>totalLevels</th>\n",
       "      <th>level</th>\n",
       "    </tr>\n",
       "  </thead>\n",
       "  <tbody>\n",
       "    <tr>\n",
       "      <th>0</th>\n",
       "      <td>root</td>\n",
       "      <td>0.495050</td>\n",
       "      <td>0</td>\n",
       "      <td>7</td>\n",
       "      <td>127</td>\n",
       "      <td>164</td>\n",
       "      <td>300</td>\n",
       "      <td>Prediction</td>\n",
       "      <td>6</td>\n",
       "      <td>0</td>\n",
       "    </tr>\n",
       "    <tr>\n",
       "      <th>1</th>\n",
       "      <td>l1-1</td>\n",
       "      <td>0.497512</td>\n",
       "      <td>1</td>\n",
       "      <td>6</td>\n",
       "      <td>127</td>\n",
       "      <td>164</td>\n",
       "      <td>300</td>\n",
       "      <td>Prediction</td>\n",
       "      <td>6</td>\n",
       "      <td>1</td>\n",
       "    </tr>\n",
       "    <tr>\n",
       "      <th>2</th>\n",
       "      <td>l1-2</td>\n",
       "      <td>0.497512</td>\n",
       "      <td>1</td>\n",
       "      <td>6</td>\n",
       "      <td>127</td>\n",
       "      <td>164</td>\n",
       "      <td>300</td>\n",
       "      <td>Prediction</td>\n",
       "      <td>6</td>\n",
       "      <td>1</td>\n",
       "    </tr>\n",
       "    <tr>\n",
       "      <th>3</th>\n",
       "      <td>l2-1</td>\n",
       "      <td>0.497512</td>\n",
       "      <td>2</td>\n",
       "      <td>5</td>\n",
       "      <td>127</td>\n",
       "      <td>209</td>\n",
       "      <td>300</td>\n",
       "      <td>Prediction</td>\n",
       "      <td>6</td>\n",
       "      <td>2</td>\n",
       "    </tr>\n",
       "    <tr>\n",
       "      <th>4</th>\n",
       "      <td>l2-2</td>\n",
       "      <td>0.497512</td>\n",
       "      <td>2</td>\n",
       "      <td>5</td>\n",
       "      <td>127</td>\n",
       "      <td>209</td>\n",
       "      <td>300</td>\n",
       "      <td>Prediction</td>\n",
       "      <td>6</td>\n",
       "      <td>2</td>\n",
       "    </tr>\n",
       "  </tbody>\n",
       "</table>\n",
       "</div>"
      ],
      "text/plain": [
       "  nodeName  hitRatio  distFromProducer  distFromConsumers  NumberOfNodes  \\\n",
       "0     root  0.495050                 0                  7            127   \n",
       "1     l1-1  0.497512                 1                  6            127   \n",
       "2     l1-2  0.497512                 1                  6            127   \n",
       "3     l2-1  0.497512                 2                  5            127   \n",
       "4     l2-2  0.497512                 2                  5            127   \n",
       "\n",
       "   cacheSize  interestRate        Tags  totalLevels  level  \n",
       "0        164           300  Prediction            6      0  \n",
       "1        164           300  Prediction            6      1  \n",
       "2        164           300  Prediction            6      1  \n",
       "3        209           300  Prediction            6      2  \n",
       "4        209           300  Prediction            6      2  "
      ]
     },
     "execution_count": 30,
     "metadata": {},
     "output_type": "execute_result"
    }
   ],
   "source": [
    "colAdd = []\n",
    "for ind in data.index:\n",
    "    if(data['nodeName'][ind] == 'root'):\n",
    "        colAdd.append(0)\n",
    "    else:\n",
    "        tmp = data['nodeName'][ind]\n",
    "        colAdd.append(int(tmp[1:2]))\n",
    "colAdd\n",
    "data['level'] = colAdd\n",
    "data.head()"
   ]
  },
  {
   "cell_type": "code",
   "execution_count": null,
   "metadata": {},
   "outputs": [],
   "source": []
  },
  {
   "cell_type": "code",
   "execution_count": 31,
   "metadata": {},
   "outputs": [
    {
     "data": {
      "text/html": [
       "<div>\n",
       "<style scoped>\n",
       "    .dataframe tbody tr th:only-of-type {\n",
       "        vertical-align: middle;\n",
       "    }\n",
       "\n",
       "    .dataframe tbody tr th {\n",
       "        vertical-align: top;\n",
       "    }\n",
       "\n",
       "    .dataframe thead th {\n",
       "        text-align: right;\n",
       "    }\n",
       "</style>\n",
       "<table border=\"1\" class=\"dataframe\">\n",
       "  <thead>\n",
       "    <tr style=\"text-align: right;\">\n",
       "      <th></th>\n",
       "      <th>nodeName</th>\n",
       "      <th>hitRatio</th>\n",
       "      <th>distFromProducer</th>\n",
       "      <th>distFromConsumers</th>\n",
       "      <th>NumberOfNodes</th>\n",
       "      <th>cacheSize</th>\n",
       "      <th>interestRate</th>\n",
       "      <th>Tags</th>\n",
       "      <th>totalLevels</th>\n",
       "      <th>level</th>\n",
       "    </tr>\n",
       "  </thead>\n",
       "  <tbody>\n",
       "    <tr>\n",
       "      <th>0</th>\n",
       "      <td>root</td>\n",
       "      <td>0.495050</td>\n",
       "      <td>0</td>\n",
       "      <td>7</td>\n",
       "      <td>127</td>\n",
       "      <td>164</td>\n",
       "      <td>300</td>\n",
       "      <td>Prediction</td>\n",
       "      <td>6</td>\n",
       "      <td>0</td>\n",
       "    </tr>\n",
       "    <tr>\n",
       "      <th>1</th>\n",
       "      <td>l1-1</td>\n",
       "      <td>0.497512</td>\n",
       "      <td>1</td>\n",
       "      <td>6</td>\n",
       "      <td>127</td>\n",
       "      <td>164</td>\n",
       "      <td>300</td>\n",
       "      <td>Prediction</td>\n",
       "      <td>6</td>\n",
       "      <td>1</td>\n",
       "    </tr>\n",
       "    <tr>\n",
       "      <th>2</th>\n",
       "      <td>l1-2</td>\n",
       "      <td>0.497512</td>\n",
       "      <td>1</td>\n",
       "      <td>6</td>\n",
       "      <td>127</td>\n",
       "      <td>164</td>\n",
       "      <td>300</td>\n",
       "      <td>Prediction</td>\n",
       "      <td>6</td>\n",
       "      <td>1</td>\n",
       "    </tr>\n",
       "    <tr>\n",
       "      <th>3</th>\n",
       "      <td>l2-1</td>\n",
       "      <td>0.497512</td>\n",
       "      <td>2</td>\n",
       "      <td>5</td>\n",
       "      <td>127</td>\n",
       "      <td>209</td>\n",
       "      <td>300</td>\n",
       "      <td>Prediction</td>\n",
       "      <td>6</td>\n",
       "      <td>2</td>\n",
       "    </tr>\n",
       "    <tr>\n",
       "      <th>4</th>\n",
       "      <td>l2-2</td>\n",
       "      <td>0.497512</td>\n",
       "      <td>2</td>\n",
       "      <td>5</td>\n",
       "      <td>127</td>\n",
       "      <td>209</td>\n",
       "      <td>300</td>\n",
       "      <td>Prediction</td>\n",
       "      <td>6</td>\n",
       "      <td>2</td>\n",
       "    </tr>\n",
       "  </tbody>\n",
       "</table>\n",
       "</div>"
      ],
      "text/plain": [
       "  nodeName  hitRatio  distFromProducer  distFromConsumers  NumberOfNodes  \\\n",
       "0     root  0.495050                 0                  7            127   \n",
       "1     l1-1  0.497512                 1                  6            127   \n",
       "2     l1-2  0.497512                 1                  6            127   \n",
       "3     l2-1  0.497512                 2                  5            127   \n",
       "4     l2-2  0.497512                 2                  5            127   \n",
       "\n",
       "   cacheSize  interestRate        Tags  totalLevels  level  \n",
       "0        164           300  Prediction            6      0  \n",
       "1        164           300  Prediction            6      1  \n",
       "2        164           300  Prediction            6      1  \n",
       "3        209           300  Prediction            6      2  \n",
       "4        209           300  Prediction            6      2  "
      ]
     },
     "execution_count": 31,
     "metadata": {},
     "output_type": "execute_result"
    }
   ],
   "source": [
    "\n",
    "len(data)\n",
    "data.head()"
   ]
  },
  {
   "cell_type": "code",
   "execution_count": 32,
   "metadata": {},
   "outputs": [
    {
     "data": {
      "text/plain": [
       "<seaborn.axisgrid.FacetGrid at 0x1d2b208ebc8>"
      ]
     },
     "execution_count": 32,
     "metadata": {},
     "output_type": "execute_result"
    },
    {
     "data": {
      "image/png": "[encoded data removed]",
      "text/plain": [
       "<Figure size 762.375x360 with 2 Axes>"
      ]
     },
     "metadata": {
      "needs_background": "light"
     },
     "output_type": "display_data"
    }
   ],
   "source": [
    "\n",
    "sns.lmplot(\"cacheSize\", \"hitRatio\", data=data, hue=\"level\",col='Tags',col_wrap=2, fit_reg=False)"
   ]
  },
  {
   "cell_type": "code",
   "execution_count": 33,
   "metadata": {},
   "outputs": [
    {
     "data": {
      "text/plain": [
       "<seaborn.axisgrid.FacetGrid at 0x1d2b228c9c8>"
      ]
     },
     "execution_count": 33,
     "metadata": {},
     "output_type": "execute_result"
    },
    {
     "data": {
      "image/png": "[encoded data removed]",
      "text/plain": [
       "<Figure size 762.375x360 with 2 Axes>"
      ]
     },
     "metadata": {
      "needs_background": "light"
     },
     "output_type": "display_data"
    }
   ],
   "source": [
    "d1 = data[data['level'] == 0]\n",
    "sns.lmplot(\"cacheSize\", \"hitRatio\", data=d1, hue=\"level\",col='Tags',col_wrap=2, fit_reg=False)"
   ]
  },
  {
   "cell_type": "code",
   "execution_count": 34,
   "metadata": {},
   "outputs": [
    {
     "data": {
      "text/plain": [
       "<seaborn.axisgrid.FacetGrid at 0x1d2b24b5a48>"
      ]
     },
     "execution_count": 34,
     "metadata": {},
     "output_type": "execute_result"
    },
    {
     "data": {
      "image/png": "[encoded data removed]",
      "text/plain": [
       "<Figure size 782.25x360 with 2 Axes>"
      ]
     },
     "metadata": {
      "needs_background": "light"
     },
     "output_type": "display_data"
    }
   ],
   "source": [
    "d1 = data[data['level'] == 1]\n",
    "sns.lmplot(\"cacheSize\", \"hitRatio\", data=d1, hue=\"nodeName\",col='Tags',col_wrap=2, fit_reg=False)"
   ]
  },
  {
   "cell_type": "code",
   "execution_count": 35,
   "metadata": {},
   "outputs": [
    {
     "data": {
      "text/plain": [
       "<seaborn.axisgrid.FacetGrid at 0x1d2b25a9508>"
      ]
     },
     "execution_count": 35,
     "metadata": {},
     "output_type": "execute_result"
    },
    {
     "data": {
      "image/png": "[encoded data removed]",
      "text/plain": [
       "<Figure size 782.25x360 with 2 Axes>"
      ]
     },
     "metadata": {
      "needs_background": "light"
     },
     "output_type": "display_data"
    }
   ],
   "source": [
    "d1 = data[data['level'] == 2]\n",
    "sns.lmplot(\"cacheSize\", \"hitRatio\", data=d1, hue=\"nodeName\",col='Tags',col_wrap=2, fit_reg=False)"
   ]
  },
  {
   "cell_type": "code",
   "execution_count": 36,
   "metadata": {},
   "outputs": [
    {
     "data": {
      "text/plain": [
       "<seaborn.axisgrid.FacetGrid at 0x1d2b27d8648>"
      ]
     },
     "execution_count": 36,
     "metadata": {},
     "output_type": "execute_result"
    },
    {
     "data": {
      "image/png": "[encoded data removed]",
      "text/plain": [
       "<Figure size 782.25x360 with 2 Axes>"
      ]
     },
     "metadata": {
      "needs_background": "light"
     },
     "output_type": "display_data"
    }
   ],
   "source": [
    "d1 = data[data['level'] == 3]\n",
    "sns.lmplot(\"cacheSize\", \"hitRatio\", data=d1, hue=\"nodeName\",col='Tags',col_wrap=2, fit_reg=False)"
   ]
  },
  {
   "cell_type": "code",
   "execution_count": 37,
   "metadata": {},
   "outputs": [
    {
     "data": {
      "text/plain": [
       "<seaborn.axisgrid.FacetGrid at 0x1d2b2b4eb48>"
      ]
     },
     "execution_count": 37,
     "metadata": {},
     "output_type": "execute_result"
    },
    {
     "data": {
      "image/png": "[encoded data removed]",
      "text/plain": [
       "<Figure size 782.25x360 with 2 Axes>"
      ]
     },
     "metadata": {
      "needs_background": "light"
     },
     "output_type": "display_data"
    }
   ],
   "source": [
    "d1 = data[data['level'] == 4]\n",
    "sns.lmplot(\"cacheSize\", \"hitRatio\", data=d1, hue=\"nodeName\",col='Tags',col_wrap=2, fit_reg=False)"
   ]
  },
  {
   "cell_type": "code",
   "execution_count": 38,
   "metadata": {},
   "outputs": [
    {
     "data": {
      "text/plain": [
       "<seaborn.axisgrid.FacetGrid at 0x1d2b2df2348>"
      ]
     },
     "execution_count": 38,
     "metadata": {},
     "output_type": "execute_result"
    },
    {
     "data": {
      "image/png": "[encoded data removed]",
      "text/plain": [
       "<Figure size 782.25x360 with 2 Axes>"
      ]
     },
     "metadata": {
      "needs_background": "light"
     },
     "output_type": "display_data"
    }
   ],
   "source": [
    "d1 = data[data['level'] == 5]\n",
    "sns.lmplot(\"cacheSize\", \"hitRatio\", data=d1, hue=\"nodeName\",col='Tags',col_wrap=2, fit_reg=False)"
   ]
  },
  {
   "cell_type": "code",
   "execution_count": 39,
   "metadata": {},
   "outputs": [
    {
     "data": {
      "text/plain": [
       "<seaborn.axisgrid.FacetGrid at 0x1d2b4239988>"
      ]
     },
     "execution_count": 39,
     "metadata": {},
     "output_type": "execute_result"
    },
    {
     "data": {
      "image/png": "[encoded data removed]",
      "text/plain": [
       "<Figure size 762.375x360 with 2 Axes>"
      ]
     },
     "metadata": {
      "needs_background": "light"
     },
     "output_type": "display_data"
    }
   ],
   "source": [
    "d1 = data[data['level'] == 6]\n",
    "sns.lmplot(\"cacheSize\", \"hitRatio\", data=d1, hue=\"level\",col='Tags',col_wrap=2, fit_reg=False)"
   ]
  },
  {
   "cell_type": "markdown",
   "metadata": {},
   "source": [
    "# Level 9"
   ]
  },
  {
   "cell_type": "code",
   "execution_count": 40,
   "metadata": {},
   "outputs": [],
   "source": [
    "filePath = 'C:\\\\Users\\\\Sanchita\\\\Desktop\\\\Stuff\\\\ACN Project Re\\\\ExperimentL9.csv'\n",
    "data = pd.read_csv(filePath, header=None, names=['nodeName', 'hitRatio', 'distFromProducer', 'distFromConsumers', 'NumberOfNodes', 'cacheSize', 'interestRate','Tags','totalLevels','level'])"
   ]
  },
  {
   "cell_type": "code",
   "execution_count": 41,
   "metadata": {},
   "outputs": [
    {
     "data": {
      "text/html": [
       "<div>\n",
       "<style scoped>\n",
       "    .dataframe tbody tr th:only-of-type {\n",
       "        vertical-align: middle;\n",
       "    }\n",
       "\n",
       "    .dataframe tbody tr th {\n",
       "        vertical-align: top;\n",
       "    }\n",
       "\n",
       "    .dataframe thead th {\n",
       "        text-align: right;\n",
       "    }\n",
       "</style>\n",
       "<table border=\"1\" class=\"dataframe\">\n",
       "  <thead>\n",
       "    <tr style=\"text-align: right;\">\n",
       "      <th></th>\n",
       "      <th>nodeName</th>\n",
       "      <th>hitRatio</th>\n",
       "      <th>distFromProducer</th>\n",
       "      <th>distFromConsumers</th>\n",
       "      <th>NumberOfNodes</th>\n",
       "      <th>cacheSize</th>\n",
       "      <th>interestRate</th>\n",
       "      <th>Tags</th>\n",
       "      <th>totalLevels</th>\n",
       "      <th>level</th>\n",
       "    </tr>\n",
       "  </thead>\n",
       "  <tbody>\n",
       "    <tr>\n",
       "      <th>0</th>\n",
       "      <td>root</td>\n",
       "      <td>0.495050</td>\n",
       "      <td>0</td>\n",
       "      <td>9</td>\n",
       "      <td>511</td>\n",
       "      <td>164</td>\n",
       "      <td>300</td>\n",
       "      <td>Predicted</td>\n",
       "      <td>6</td>\n",
       "      <td>0</td>\n",
       "    </tr>\n",
       "    <tr>\n",
       "      <th>1</th>\n",
       "      <td>l1-1</td>\n",
       "      <td>0.497512</td>\n",
       "      <td>1</td>\n",
       "      <td>8</td>\n",
       "      <td>511</td>\n",
       "      <td>164</td>\n",
       "      <td>300</td>\n",
       "      <td>Predicted</td>\n",
       "      <td>6</td>\n",
       "      <td>1</td>\n",
       "    </tr>\n",
       "    <tr>\n",
       "      <th>2</th>\n",
       "      <td>l1-2</td>\n",
       "      <td>0.497512</td>\n",
       "      <td>1</td>\n",
       "      <td>8</td>\n",
       "      <td>511</td>\n",
       "      <td>164</td>\n",
       "      <td>300</td>\n",
       "      <td>Predicted</td>\n",
       "      <td>6</td>\n",
       "      <td>1</td>\n",
       "    </tr>\n",
       "    <tr>\n",
       "      <th>3</th>\n",
       "      <td>l2-1</td>\n",
       "      <td>0.497512</td>\n",
       "      <td>2</td>\n",
       "      <td>7</td>\n",
       "      <td>511</td>\n",
       "      <td>219</td>\n",
       "      <td>300</td>\n",
       "      <td>Predicted</td>\n",
       "      <td>6</td>\n",
       "      <td>2</td>\n",
       "    </tr>\n",
       "    <tr>\n",
       "      <th>4</th>\n",
       "      <td>l2-2</td>\n",
       "      <td>0.497512</td>\n",
       "      <td>2</td>\n",
       "      <td>7</td>\n",
       "      <td>511</td>\n",
       "      <td>219</td>\n",
       "      <td>300</td>\n",
       "      <td>Predicted</td>\n",
       "      <td>6</td>\n",
       "      <td>2</td>\n",
       "    </tr>\n",
       "  </tbody>\n",
       "</table>\n",
       "</div>"
      ],
      "text/plain": [
       "  nodeName  hitRatio  distFromProducer  distFromConsumers  NumberOfNodes  \\\n",
       "0     root  0.495050                 0                  9            511   \n",
       "1     l1-1  0.497512                 1                  8            511   \n",
       "2     l1-2  0.497512                 1                  8            511   \n",
       "3     l2-1  0.497512                 2                  7            511   \n",
       "4     l2-2  0.497512                 2                  7            511   \n",
       "\n",
       "   cacheSize  interestRate       Tags  totalLevels  level  \n",
       "0        164           300  Predicted            6      0  \n",
       "1        164           300  Predicted            6      1  \n",
       "2        164           300  Predicted            6      1  \n",
       "3        219           300  Predicted            6      2  \n",
       "4        219           300  Predicted            6      2  "
      ]
     },
     "execution_count": 41,
     "metadata": {},
     "output_type": "execute_result"
    }
   ],
   "source": [
    "totL = [6]*len(data)\n",
    "data['totalLevels'] = totL\n",
    "\n",
    "colAdd = []\n",
    "for ind in data.index:\n",
    "    if(data['nodeName'][ind] == 'root'):\n",
    "        colAdd.append(0)\n",
    "    else:\n",
    "        tmp = data['nodeName'][ind]\n",
    "        colAdd.append(int(tmp[1:2]))\n",
    "colAdd\n",
    "data['level'] = colAdd\n",
    "data.head()"
   ]
  },
  {
   "cell_type": "code",
   "execution_count": 42,
   "metadata": {},
   "outputs": [
    {
     "data": {
      "text/html": [
       "<div>\n",
       "<style scoped>\n",
       "    .dataframe tbody tr th:only-of-type {\n",
       "        vertical-align: middle;\n",
       "    }\n",
       "\n",
       "    .dataframe tbody tr th {\n",
       "        vertical-align: top;\n",
       "    }\n",
       "\n",
       "    .dataframe thead th {\n",
       "        text-align: right;\n",
       "    }\n",
       "</style>\n",
       "<table border=\"1\" class=\"dataframe\">\n",
       "  <thead>\n",
       "    <tr style=\"text-align: right;\">\n",
       "      <th></th>\n",
       "      <th>nodeName</th>\n",
       "      <th>hitRatio</th>\n",
       "      <th>distFromProducer</th>\n",
       "      <th>distFromConsumers</th>\n",
       "      <th>NumberOfNodes</th>\n",
       "      <th>cacheSize</th>\n",
       "      <th>interestRate</th>\n",
       "      <th>Tags</th>\n",
       "      <th>totalLevels</th>\n",
       "      <th>level</th>\n",
       "    </tr>\n",
       "  </thead>\n",
       "  <tbody>\n",
       "    <tr>\n",
       "      <th>0</th>\n",
       "      <td>root</td>\n",
       "      <td>0.495050</td>\n",
       "      <td>0</td>\n",
       "      <td>9</td>\n",
       "      <td>511</td>\n",
       "      <td>164</td>\n",
       "      <td>300</td>\n",
       "      <td>Predicted</td>\n",
       "      <td>6</td>\n",
       "      <td>0</td>\n",
       "    </tr>\n",
       "    <tr>\n",
       "      <th>1</th>\n",
       "      <td>l1-1</td>\n",
       "      <td>0.497512</td>\n",
       "      <td>1</td>\n",
       "      <td>8</td>\n",
       "      <td>511</td>\n",
       "      <td>164</td>\n",
       "      <td>300</td>\n",
       "      <td>Predicted</td>\n",
       "      <td>6</td>\n",
       "      <td>1</td>\n",
       "    </tr>\n",
       "    <tr>\n",
       "      <th>2</th>\n",
       "      <td>l1-2</td>\n",
       "      <td>0.497512</td>\n",
       "      <td>1</td>\n",
       "      <td>8</td>\n",
       "      <td>511</td>\n",
       "      <td>164</td>\n",
       "      <td>300</td>\n",
       "      <td>Predicted</td>\n",
       "      <td>6</td>\n",
       "      <td>1</td>\n",
       "    </tr>\n",
       "    <tr>\n",
       "      <th>3</th>\n",
       "      <td>l2-1</td>\n",
       "      <td>0.497512</td>\n",
       "      <td>2</td>\n",
       "      <td>7</td>\n",
       "      <td>511</td>\n",
       "      <td>219</td>\n",
       "      <td>300</td>\n",
       "      <td>Predicted</td>\n",
       "      <td>6</td>\n",
       "      <td>2</td>\n",
       "    </tr>\n",
       "    <tr>\n",
       "      <th>4</th>\n",
       "      <td>l2-2</td>\n",
       "      <td>0.497512</td>\n",
       "      <td>2</td>\n",
       "      <td>7</td>\n",
       "      <td>511</td>\n",
       "      <td>219</td>\n",
       "      <td>300</td>\n",
       "      <td>Predicted</td>\n",
       "      <td>6</td>\n",
       "      <td>2</td>\n",
       "    </tr>\n",
       "  </tbody>\n",
       "</table>\n",
       "</div>"
      ],
      "text/plain": [
       "  nodeName  hitRatio  distFromProducer  distFromConsumers  NumberOfNodes  \\\n",
       "0     root  0.495050                 0                  9            511   \n",
       "1     l1-1  0.497512                 1                  8            511   \n",
       "2     l1-2  0.497512                 1                  8            511   \n",
       "3     l2-1  0.497512                 2                  7            511   \n",
       "4     l2-2  0.497512                 2                  7            511   \n",
       "\n",
       "   cacheSize  interestRate       Tags  totalLevels  level  \n",
       "0        164           300  Predicted            6      0  \n",
       "1        164           300  Predicted            6      1  \n",
       "2        164           300  Predicted            6      1  \n",
       "3        219           300  Predicted            6      2  \n",
       "4        219           300  Predicted            6      2  "
      ]
     },
     "execution_count": 42,
     "metadata": {},
     "output_type": "execute_result"
    }
   ],
   "source": [
    "data.head()"
   ]
  },
  {
   "cell_type": "code",
   "execution_count": 43,
   "metadata": {},
   "outputs": [
    {
     "data": {
      "text/plain": [
       "<seaborn.axisgrid.FacetGrid at 0x1d2b42f26c8>"
      ]
     },
     "execution_count": 43,
     "metadata": {},
     "output_type": "execute_result"
    },
    {
     "data": {
      "image/png": "[encoded data removed]",
      "text/plain": [
       "<Figure size 762.375x360 with 2 Axes>"
      ]
     },
     "metadata": {
      "needs_background": "light"
     },
     "output_type": "display_data"
    }
   ],
   "source": [
    "sns.lmplot(\"cacheSize\", \"hitRatio\", data=data, hue=\"level\",col='Tags',col_wrap=2, fit_reg=False)"
   ]
  },
  {
   "cell_type": "markdown",
   "metadata": {},
   "source": [
    "# Ternary Topology"
   ]
  },
  {
   "cell_type": "code",
   "execution_count": 44,
   "metadata": {},
   "outputs": [],
   "source": [
    "filePath = 'C:\\\\Users\\\\Sanchita\\\\Desktop\\\\Stuff\\\\ACN Project Re\\\\Ternary.csv'\n",
    "data = pd.read_csv(filePath, header=None, names=['nodeName', 'hitRatio', 'distFromProducer', 'distFromConsumers', 'NumberOfNodes', 'cacheSize', 'interestRate','totalLevels','level'])"
   ]
  },
  {
   "cell_type": "code",
   "execution_count": 45,
   "metadata": {},
   "outputs": [
    {
     "data": {
      "text/html": [
       "<div>\n",
       "<style scoped>\n",
       "    .dataframe tbody tr th:only-of-type {\n",
       "        vertical-align: middle;\n",
       "    }\n",
       "\n",
       "    .dataframe tbody tr th {\n",
       "        vertical-align: top;\n",
       "    }\n",
       "\n",
       "    .dataframe thead th {\n",
       "        text-align: right;\n",
       "    }\n",
       "</style>\n",
       "<table border=\"1\" class=\"dataframe\">\n",
       "  <thead>\n",
       "    <tr style=\"text-align: right;\">\n",
       "      <th></th>\n",
       "      <th>nodeName</th>\n",
       "      <th>hitRatio</th>\n",
       "      <th>distFromProducer</th>\n",
       "      <th>distFromConsumers</th>\n",
       "      <th>NumberOfNodes</th>\n",
       "      <th>cacheSize</th>\n",
       "      <th>interestRate</th>\n",
       "      <th>totalLevels</th>\n",
       "      <th>level</th>\n",
       "    </tr>\n",
       "  </thead>\n",
       "  <tbody>\n",
       "    <tr>\n",
       "      <th>0</th>\n",
       "      <td>root</td>\n",
       "      <td>0.662252</td>\n",
       "      <td>0</td>\n",
       "      <td>4</td>\n",
       "      <td>40</td>\n",
       "      <td>130</td>\n",
       "      <td>300</td>\n",
       "      <td>NaN</td>\n",
       "      <td>NaN</td>\n",
       "    </tr>\n",
       "    <tr>\n",
       "      <th>1</th>\n",
       "      <td>l1-1</td>\n",
       "      <td>0.983286</td>\n",
       "      <td>1</td>\n",
       "      <td>3</td>\n",
       "      <td>40</td>\n",
       "      <td>130</td>\n",
       "      <td>300</td>\n",
       "      <td>NaN</td>\n",
       "      <td>NaN</td>\n",
       "    </tr>\n",
       "    <tr>\n",
       "      <th>2</th>\n",
       "      <td>l1-2</td>\n",
       "      <td>0.980986</td>\n",
       "      <td>1</td>\n",
       "      <td>3</td>\n",
       "      <td>40</td>\n",
       "      <td>130</td>\n",
       "      <td>300</td>\n",
       "      <td>NaN</td>\n",
       "      <td>NaN</td>\n",
       "    </tr>\n",
       "    <tr>\n",
       "      <th>3</th>\n",
       "      <td>l1-3</td>\n",
       "      <td>0.978879</td>\n",
       "      <td>1</td>\n",
       "      <td>3</td>\n",
       "      <td>40</td>\n",
       "      <td>130</td>\n",
       "      <td>300</td>\n",
       "      <td>NaN</td>\n",
       "      <td>NaN</td>\n",
       "    </tr>\n",
       "    <tr>\n",
       "      <th>4</th>\n",
       "      <td>l2-1</td>\n",
       "      <td>0.510042</td>\n",
       "      <td>2</td>\n",
       "      <td>2</td>\n",
       "      <td>40</td>\n",
       "      <td>60</td>\n",
       "      <td>300</td>\n",
       "      <td>NaN</td>\n",
       "      <td>NaN</td>\n",
       "    </tr>\n",
       "  </tbody>\n",
       "</table>\n",
       "</div>"
      ],
      "text/plain": [
       "  nodeName  hitRatio  distFromProducer  distFromConsumers  NumberOfNodes  \\\n",
       "0     root  0.662252                 0                  4             40   \n",
       "1     l1-1  0.983286                 1                  3             40   \n",
       "2     l1-2  0.980986                 1                  3             40   \n",
       "3     l1-3  0.978879                 1                  3             40   \n",
       "4     l2-1  0.510042                 2                  2             40   \n",
       "\n",
       "   cacheSize  interestRate  totalLevels  level  \n",
       "0        130           300          NaN    NaN  \n",
       "1        130           300          NaN    NaN  \n",
       "2        130           300          NaN    NaN  \n",
       "3        130           300          NaN    NaN  \n",
       "4         60           300          NaN    NaN  "
      ]
     },
     "execution_count": 45,
     "metadata": {},
     "output_type": "execute_result"
    }
   ],
   "source": [
    "data.head()"
   ]
  },
  {
   "cell_type": "code",
   "execution_count": 46,
   "metadata": {},
   "outputs": [
    {
     "data": {
      "text/html": [
       "<div>\n",
       "<style scoped>\n",
       "    .dataframe tbody tr th:only-of-type {\n",
       "        vertical-align: middle;\n",
       "    }\n",
       "\n",
       "    .dataframe tbody tr th {\n",
       "        vertical-align: top;\n",
       "    }\n",
       "\n",
       "    .dataframe thead th {\n",
       "        text-align: right;\n",
       "    }\n",
       "</style>\n",
       "<table border=\"1\" class=\"dataframe\">\n",
       "  <thead>\n",
       "    <tr style=\"text-align: right;\">\n",
       "      <th></th>\n",
       "      <th>nodeName</th>\n",
       "      <th>hitRatio</th>\n",
       "      <th>distFromProducer</th>\n",
       "      <th>distFromConsumers</th>\n",
       "      <th>NumberOfNodes</th>\n",
       "      <th>cacheSize</th>\n",
       "      <th>interestRate</th>\n",
       "      <th>totalLevels</th>\n",
       "      <th>level</th>\n",
       "    </tr>\n",
       "  </thead>\n",
       "  <tbody>\n",
       "    <tr>\n",
       "      <th>0</th>\n",
       "      <td>root</td>\n",
       "      <td>0.662252</td>\n",
       "      <td>0</td>\n",
       "      <td>4</td>\n",
       "      <td>40</td>\n",
       "      <td>130</td>\n",
       "      <td>300</td>\n",
       "      <td>6</td>\n",
       "      <td>NaN</td>\n",
       "    </tr>\n",
       "    <tr>\n",
       "      <th>1</th>\n",
       "      <td>l1-1</td>\n",
       "      <td>0.983286</td>\n",
       "      <td>1</td>\n",
       "      <td>3</td>\n",
       "      <td>40</td>\n",
       "      <td>130</td>\n",
       "      <td>300</td>\n",
       "      <td>6</td>\n",
       "      <td>NaN</td>\n",
       "    </tr>\n",
       "    <tr>\n",
       "      <th>2</th>\n",
       "      <td>l1-2</td>\n",
       "      <td>0.980986</td>\n",
       "      <td>1</td>\n",
       "      <td>3</td>\n",
       "      <td>40</td>\n",
       "      <td>130</td>\n",
       "      <td>300</td>\n",
       "      <td>6</td>\n",
       "      <td>NaN</td>\n",
       "    </tr>\n",
       "    <tr>\n",
       "      <th>3</th>\n",
       "      <td>l1-3</td>\n",
       "      <td>0.978879</td>\n",
       "      <td>1</td>\n",
       "      <td>3</td>\n",
       "      <td>40</td>\n",
       "      <td>130</td>\n",
       "      <td>300</td>\n",
       "      <td>6</td>\n",
       "      <td>NaN</td>\n",
       "    </tr>\n",
       "    <tr>\n",
       "      <th>4</th>\n",
       "      <td>l2-1</td>\n",
       "      <td>0.510042</td>\n",
       "      <td>2</td>\n",
       "      <td>2</td>\n",
       "      <td>40</td>\n",
       "      <td>60</td>\n",
       "      <td>300</td>\n",
       "      <td>6</td>\n",
       "      <td>NaN</td>\n",
       "    </tr>\n",
       "  </tbody>\n",
       "</table>\n",
       "</div>"
      ],
      "text/plain": [
       "  nodeName  hitRatio  distFromProducer  distFromConsumers  NumberOfNodes  \\\n",
       "0     root  0.662252                 0                  4             40   \n",
       "1     l1-1  0.983286                 1                  3             40   \n",
       "2     l1-2  0.980986                 1                  3             40   \n",
       "3     l1-3  0.978879                 1                  3             40   \n",
       "4     l2-1  0.510042                 2                  2             40   \n",
       "\n",
       "   cacheSize  interestRate  totalLevels  level  \n",
       "0        130           300            6    NaN  \n",
       "1        130           300            6    NaN  \n",
       "2        130           300            6    NaN  \n",
       "3        130           300            6    NaN  \n",
       "4         60           300            6    NaN  "
      ]
     },
     "execution_count": 46,
     "metadata": {},
     "output_type": "execute_result"
    }
   ],
   "source": [
    "totL = [6]*len(data)\n",
    "data['totalLevels'] = totL\n",
    "data.head()"
   ]
  },
  {
   "cell_type": "code",
   "execution_count": 47,
   "metadata": {},
   "outputs": [
    {
     "data": {
      "text/html": [
       "<div>\n",
       "<style scoped>\n",
       "    .dataframe tbody tr th:only-of-type {\n",
       "        vertical-align: middle;\n",
       "    }\n",
       "\n",
       "    .dataframe tbody tr th {\n",
       "        vertical-align: top;\n",
       "    }\n",
       "\n",
       "    .dataframe thead th {\n",
       "        text-align: right;\n",
       "    }\n",
       "</style>\n",
       "<table border=\"1\" class=\"dataframe\">\n",
       "  <thead>\n",
       "    <tr style=\"text-align: right;\">\n",
       "      <th></th>\n",
       "      <th>nodeName</th>\n",
       "      <th>hitRatio</th>\n",
       "      <th>distFromProducer</th>\n",
       "      <th>distFromConsumers</th>\n",
       "      <th>NumberOfNodes</th>\n",
       "      <th>cacheSize</th>\n",
       "      <th>interestRate</th>\n",
       "      <th>totalLevels</th>\n",
       "      <th>level</th>\n",
       "    </tr>\n",
       "  </thead>\n",
       "  <tbody>\n",
       "    <tr>\n",
       "      <th>0</th>\n",
       "      <td>root</td>\n",
       "      <td>0.662252</td>\n",
       "      <td>0</td>\n",
       "      <td>4</td>\n",
       "      <td>40</td>\n",
       "      <td>130</td>\n",
       "      <td>300</td>\n",
       "      <td>6</td>\n",
       "      <td>0</td>\n",
       "    </tr>\n",
       "    <tr>\n",
       "      <th>1</th>\n",
       "      <td>l1-1</td>\n",
       "      <td>0.983286</td>\n",
       "      <td>1</td>\n",
       "      <td>3</td>\n",
       "      <td>40</td>\n",
       "      <td>130</td>\n",
       "      <td>300</td>\n",
       "      <td>6</td>\n",
       "      <td>1</td>\n",
       "    </tr>\n",
       "    <tr>\n",
       "      <th>2</th>\n",
       "      <td>l1-2</td>\n",
       "      <td>0.980986</td>\n",
       "      <td>1</td>\n",
       "      <td>3</td>\n",
       "      <td>40</td>\n",
       "      <td>130</td>\n",
       "      <td>300</td>\n",
       "      <td>6</td>\n",
       "      <td>1</td>\n",
       "    </tr>\n",
       "    <tr>\n",
       "      <th>3</th>\n",
       "      <td>l1-3</td>\n",
       "      <td>0.978879</td>\n",
       "      <td>1</td>\n",
       "      <td>3</td>\n",
       "      <td>40</td>\n",
       "      <td>130</td>\n",
       "      <td>300</td>\n",
       "      <td>6</td>\n",
       "      <td>1</td>\n",
       "    </tr>\n",
       "    <tr>\n",
       "      <th>4</th>\n",
       "      <td>l2-1</td>\n",
       "      <td>0.510042</td>\n",
       "      <td>2</td>\n",
       "      <td>2</td>\n",
       "      <td>40</td>\n",
       "      <td>60</td>\n",
       "      <td>300</td>\n",
       "      <td>6</td>\n",
       "      <td>2</td>\n",
       "    </tr>\n",
       "  </tbody>\n",
       "</table>\n",
       "</div>"
      ],
      "text/plain": [
       "  nodeName  hitRatio  distFromProducer  distFromConsumers  NumberOfNodes  \\\n",
       "0     root  0.662252                 0                  4             40   \n",
       "1     l1-1  0.983286                 1                  3             40   \n",
       "2     l1-2  0.980986                 1                  3             40   \n",
       "3     l1-3  0.978879                 1                  3             40   \n",
       "4     l2-1  0.510042                 2                  2             40   \n",
       "\n",
       "   cacheSize  interestRate  totalLevels  level  \n",
       "0        130           300            6      0  \n",
       "1        130           300            6      1  \n",
       "2        130           300            6      1  \n",
       "3        130           300            6      1  \n",
       "4         60           300            6      2  "
      ]
     },
     "execution_count": 47,
     "metadata": {},
     "output_type": "execute_result"
    }
   ],
   "source": [
    "colAdd = []\n",
    "for ind in data.index:\n",
    "    if(data['nodeName'][ind] == 'root'):\n",
    "        colAdd.append(0)\n",
    "    else:\n",
    "        tmp = data['nodeName'][ind]\n",
    "        colAdd.append(int(tmp[1:2]))\n",
    "colAdd\n",
    "data['level'] = colAdd\n",
    "data.head()"
   ]
  },
  {
   "cell_type": "code",
   "execution_count": 48,
   "metadata": {},
   "outputs": [
    {
     "data": {
      "text/plain": [
       "<seaborn.axisgrid.FacetGrid at 0x1d2b45ed408>"
      ]
     },
     "execution_count": 48,
     "metadata": {},
     "output_type": "execute_result"
    },
    {
     "data": {
      "image/png": "[encoded data removed]",
      "text/plain": [
       "<Figure size 789.625x360 with 2 Axes>"
      ]
     },
     "metadata": {
      "needs_background": "light"
     },
     "output_type": "display_data"
    }
   ],
   "source": [
    "dataIF = data[data['level'] < 2]\n",
    "sns.lmplot(\"cacheSize\", \"hitRatio\", data=dataIF, hue=\"interestRate\",col='level',col_wrap=2, fit_reg=False)"
   ]
  },
  {
   "cell_type": "code",
   "execution_count": 49,
   "metadata": {},
   "outputs": [
    {
     "data": {
      "text/plain": [
       "<seaborn.axisgrid.FacetGrid at 0x1d2b47d8d48>"
      ]
     },
     "execution_count": 49,
     "metadata": {},
     "output_type": "execute_result"
    },
    {
     "data": {
      "image/png": "[encoded data removed]",
      "text/plain": [
       "<Figure size 789.625x360 with 2 Axes>"
      ]
     },
     "metadata": {
      "needs_background": "light"
     },
     "output_type": "display_data"
    }
   ],
   "source": [
    "dataIF = data[data['level'] > 1]\n",
    "sns.lmplot(\"cacheSize\", \"hitRatio\", data=dataIF, hue=\"interestRate\",col='level',col_wrap=2, fit_reg=False)"
   ]
  },
  {
   "cell_type": "code",
   "execution_count": null,
   "metadata": {},
   "outputs": [],
   "source": []
  },
  {
   "cell_type": "code",
   "execution_count": null,
   "metadata": {},
   "outputs": [],
   "source": []
  }
 ],
 "metadata": {
  "kernelspec": {
   "display_name": "Python 3",
   "language": "python",
   "name": "python3"
  },
  "language_info": {
   "codemirror_mode": {
    "name": "ipython",
    "version": 3
   },
   "file_extension": ".py",
   "mimetype": "text/x-python",
   "name": "python",
   "nbconvert_exporter": "python",
   "pygments_lexer": "ipython3",
   "version": "3.7.4"
  }
 },
 "nbformat": 4,
 "nbformat_minor": 2
}
