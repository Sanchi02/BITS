{
 "cells": [
  {
   "cell_type": "code",
   "execution_count": 7,
   "metadata": {},
   "outputs": [],
   "source": [
    "import csv\n",
    "\n",
    "def txtToCsv(fname,csvName):\n",
    "    with open(fname, 'r') as in_file:\n",
    "        stripped = (line.strip() for line in in_file)\n",
    "        lines = (line.split(\"\\t\") for line in stripped if line)\n",
    "        with open(csvName, 'w') as out_file:\n",
    "            writer = csv.writer(out_file)\n",
    "            writer.writerows(lines)"
   ]
  },
  {
   "cell_type": "code",
   "execution_count": 8,
   "metadata": {},
   "outputs": [],
   "source": [
    "txtToCsv('cs-trace7.txt','cs-trace7.csv')"
   ]
  },
  {
   "cell_type": "code",
   "execution_count": 9,
   "metadata": {},
   "outputs": [
    {
     "data": {
      "text/html": [
       "<div>\n",
       "<style scoped>\n",
       "    .dataframe tbody tr th:only-of-type {\n",
       "        vertical-align: middle;\n",
       "    }\n",
       "\n",
       "    .dataframe tbody tr th {\n",
       "        vertical-align: top;\n",
       "    }\n",
       "\n",
       "    .dataframe thead th {\n",
       "        text-align: right;\n",
       "    }\n",
       "</style>\n",
       "<table border=\"1\" class=\"dataframe\">\n",
       "  <thead>\n",
       "    <tr style=\"text-align: right;\">\n",
       "      <th></th>\n",
       "      <th>Time</th>\n",
       "      <th>Node</th>\n",
       "      <th>Type</th>\n",
       "      <th>Packets</th>\n",
       "    </tr>\n",
       "  </thead>\n",
       "  <tbody>\n",
       "    <tr>\n",
       "      <th>0</th>\n",
       "      <td>1</td>\n",
       "      <td>leaf-1</td>\n",
       "      <td>CacheHits</td>\n",
       "      <td>67</td>\n",
       "    </tr>\n",
       "    <tr>\n",
       "      <th>1</th>\n",
       "      <td>1</td>\n",
       "      <td>leaf-1</td>\n",
       "      <td>CacheMisses</td>\n",
       "      <td>227</td>\n",
       "    </tr>\n",
       "    <tr>\n",
       "      <th>2</th>\n",
       "      <td>1</td>\n",
       "      <td>leaf-2</td>\n",
       "      <td>CacheHits</td>\n",
       "      <td>0</td>\n",
       "    </tr>\n",
       "    <tr>\n",
       "      <th>3</th>\n",
       "      <td>1</td>\n",
       "      <td>leaf-2</td>\n",
       "      <td>CacheMisses</td>\n",
       "      <td>1</td>\n",
       "    </tr>\n",
       "    <tr>\n",
       "      <th>4</th>\n",
       "      <td>1</td>\n",
       "      <td>leaf-3</td>\n",
       "      <td>CacheHits</td>\n",
       "      <td>0</td>\n",
       "    </tr>\n",
       "  </tbody>\n",
       "</table>\n",
       "</div>"
      ],
      "text/plain": [
       "   Time    Node         Type  Packets\n",
       "0     1  leaf-1    CacheHits       67\n",
       "1     1  leaf-1  CacheMisses      227\n",
       "2     1  leaf-2    CacheHits        0\n",
       "3     1  leaf-2  CacheMisses        1\n",
       "4     1  leaf-3    CacheHits        0"
      ]
     },
     "execution_count": 9,
     "metadata": {},
     "output_type": "execute_result"
    }
   ],
   "source": [
    "import pandas as pd\n",
    "\n",
    "data = pd.read_csv(\"cs-trace7.csv\")\n",
    "data.head()\n"
   ]
  },
  {
   "cell_type": "code",
   "execution_count": 10,
   "metadata": {},
   "outputs": [],
   "source": [
    "def getHitRatio(nodes,data):\n",
    "    hitRatios = {}\n",
    "    for n in nodes:\n",
    "        node = data[data['Node'] == n]\n",
    "        packetsTotal = node['Packets'].sum()\n",
    "        nodeHits = node[node['Type'] == \"CacheHits\"]['Packets'].sum()\n",
    "        hitRatio = nodeHits/packetsTotal\n",
    "        hitRatios.update({n:hitRatio})\n",
    "    return hitRatios"
   ]
  },
  {
   "cell_type": "code",
   "execution_count": 11,
   "metadata": {},
   "outputs": [
    {
     "data": {
      "text/plain": [
       "array(['leaf-1', 'leaf-2', 'leaf-3', 'leaf-4', 'leaf-5', 'leaf-6',\n",
       "       'leaf-7', 'leaf-8', 'l2-1', 'l2-2', 'l2-3', 'l2-4', 'l1-1', 'l1-2',\n",
       "       'root'], dtype=object)"
      ]
     },
     "execution_count": 11,
     "metadata": {},
     "output_type": "execute_result"
    }
   ],
   "source": [
    "listOfNodes = data.Node.unique()\n",
    "listOfNodes"
   ]
  },
  {
   "cell_type": "code",
   "execution_count": 12,
   "metadata": {},
   "outputs": [
    {
     "name": "stdout",
     "output_type": "stream",
     "text": [
      "{'leaf-1': 0.23010833022039598, 'leaf-2': 0.22738486842105263, 'leaf-3': 0.2325242718446602, 'leaf-4': 0.2368268674001158, 'leaf-5': 0.20838881491344874, 'leaf-6': 0.20620284995808885, 'leaf-7': 0.21071012805587894, 'leaf-8': 0.21578947368421053, 'l2-1': 0.1079502159004318, 'l2-2': 0.1277624309392265, 'l2-3': 0.12283169245194561, 'l2-4': 0.11061552185548618, 'l1-1': 0.49850299401197606, 'l1-2': 0.5057752887644382, 'root': 0.9543709058052857}\n"
     ]
    }
   ],
   "source": [
    "hitRatios = getHitRatio(listOfNodes, data)\n",
    "print(hitRatios)"
   ]
  }
 ],
 "metadata": {
  "kernelspec": {
   "display_name": "Python 3",
   "language": "python",
   "name": "python3"
  },
  "language_info": {
   "codemirror_mode": {
    "name": "ipython",
    "version": 3
   },
   "file_extension": ".py",
   "mimetype": "text/x-python",
   "name": "python",
   "nbconvert_exporter": "python",
   "pygments_lexer": "ipython3",
   "version": "3.7.4"
  }
 },
 "nbformat": 4,
 "nbformat_minor": 2
}
