{
 "cells": [
  {
   "cell_type": "code",
   "execution_count": 1,
   "metadata": {},
   "outputs": [],
   "source": [
    "import pandas as pd\n",
    "\n",
    "file_path = 'C:\\\\Users\\\\Sanchita\\\\Desktop\\\\Stuff\\\\ACN Project Re\\\\C2\\\\size5\\\\cs-trace7.txt'\n",
    "csv_path = 'C:\\\\Users\\\\Sanchita\\\\Desktop\\\\Stuff\\\\ACN Project Re\\\\C2\\\\size5\\\\cs-trace7.csv'\n",
    "totLevels = 5\n",
    "totNumOfNodes = 31\n",
    "interestRate = 300\n",
    "# Cache sizes would be in order l1-l2-l3----root\n",
    "cacheSizes = [400,280,200,140,680]\n"
   ]
  },
  {
   "cell_type": "code",
   "execution_count": 2,
   "metadata": {},
   "outputs": [],
   "source": [
    "def getHitRatio(data):\n",
    "    nodes = data.Node.unique()\n",
    "    hitRatios = {}\n",
    "    for n in nodes:\n",
    "        node = data[data['Node'] == n]\n",
    "        packetsTotal = node['Packets'].sum()\n",
    "        nodeHits = node[node['Type'] == \"CacheHits\"]['Packets'].sum()\n",
    "        hitRatio = nodeHits/packetsTotal\n",
    "        hitRatios.update({n:hitRatio})\n",
    "    return hitRatios"
   ]
  },
  {
   "cell_type": "code",
   "execution_count": 3,
   "metadata": {},
   "outputs": [
    {
     "ename": "FileNotFoundError",
     "evalue": "[Errno 2] No such file or directory: 'C:\\\\Users\\\\Sanchita\\\\Desktop\\\\Stuff\\\\ACN Project Re\\\\C2\\\\size5\\\\cs-trace7.txt'",
     "output_type": "error",
     "traceback": [
      "\u001b[1;31m---------------------------------------------------------------------------\u001b[0m",
      "\u001b[1;31mFileNotFoundError\u001b[0m                         Traceback (most recent call last)",
      "\u001b[1;32m<ipython-input-3-04f1c2a30091>\u001b[0m in \u001b[0;36m<module>\u001b[1;34m\u001b[0m\n\u001b[0;32m      9\u001b[0m             \u001b[0mwriter\u001b[0m\u001b[1;33m.\u001b[0m\u001b[0mwriterows\u001b[0m\u001b[1;33m(\u001b[0m\u001b[0mlines\u001b[0m\u001b[1;33m)\u001b[0m\u001b[1;33m\u001b[0m\u001b[1;33m\u001b[0m\u001b[0m\n\u001b[0;32m     10\u001b[0m \u001b[1;33m\u001b[0m\u001b[0m\n\u001b[1;32m---> 11\u001b[1;33m \u001b[0mtxtToCsv\u001b[0m\u001b[1;33m(\u001b[0m\u001b[0mfile_path\u001b[0m\u001b[1;33m,\u001b[0m \u001b[0mcsv_path\u001b[0m\u001b[1;33m)\u001b[0m\u001b[1;33m\u001b[0m\u001b[1;33m\u001b[0m\u001b[0m\n\u001b[0m",
      "\u001b[1;32m<ipython-input-3-04f1c2a30091>\u001b[0m in \u001b[0;36mtxtToCsv\u001b[1;34m(fname, csvName)\u001b[0m\n\u001b[0;32m      2\u001b[0m \u001b[1;33m\u001b[0m\u001b[0m\n\u001b[0;32m      3\u001b[0m \u001b[1;32mdef\u001b[0m \u001b[0mtxtToCsv\u001b[0m\u001b[1;33m(\u001b[0m\u001b[0mfname\u001b[0m\u001b[1;33m,\u001b[0m\u001b[0mcsvName\u001b[0m\u001b[1;33m)\u001b[0m\u001b[1;33m:\u001b[0m\u001b[1;33m\u001b[0m\u001b[1;33m\u001b[0m\u001b[0m\n\u001b[1;32m----> 4\u001b[1;33m     \u001b[1;32mwith\u001b[0m \u001b[0mopen\u001b[0m\u001b[1;33m(\u001b[0m\u001b[0mfname\u001b[0m\u001b[1;33m,\u001b[0m \u001b[1;34m'r'\u001b[0m\u001b[1;33m)\u001b[0m \u001b[1;32mas\u001b[0m \u001b[0min_file\u001b[0m\u001b[1;33m:\u001b[0m\u001b[1;33m\u001b[0m\u001b[1;33m\u001b[0m\u001b[0m\n\u001b[0m\u001b[0;32m      5\u001b[0m         \u001b[0mstripped\u001b[0m \u001b[1;33m=\u001b[0m \u001b[1;33m(\u001b[0m\u001b[0mline\u001b[0m\u001b[1;33m.\u001b[0m\u001b[0mstrip\u001b[0m\u001b[1;33m(\u001b[0m\u001b[1;33m)\u001b[0m \u001b[1;32mfor\u001b[0m \u001b[0mline\u001b[0m \u001b[1;32min\u001b[0m \u001b[0min_file\u001b[0m\u001b[1;33m)\u001b[0m\u001b[1;33m\u001b[0m\u001b[1;33m\u001b[0m\u001b[0m\n\u001b[0;32m      6\u001b[0m         \u001b[0mlines\u001b[0m \u001b[1;33m=\u001b[0m \u001b[1;33m(\u001b[0m\u001b[0mline\u001b[0m\u001b[1;33m.\u001b[0m\u001b[0msplit\u001b[0m\u001b[1;33m(\u001b[0m\u001b[1;34m\"\\t\"\u001b[0m\u001b[1;33m)\u001b[0m \u001b[1;32mfor\u001b[0m \u001b[0mline\u001b[0m \u001b[1;32min\u001b[0m \u001b[0mstripped\u001b[0m \u001b[1;32mif\u001b[0m \u001b[0mline\u001b[0m\u001b[1;33m)\u001b[0m\u001b[1;33m\u001b[0m\u001b[1;33m\u001b[0m\u001b[0m\n",
      "\u001b[1;31mFileNotFoundError\u001b[0m: [Errno 2] No such file or directory: 'C:\\\\Users\\\\Sanchita\\\\Desktop\\\\Stuff\\\\ACN Project Re\\\\C2\\\\size5\\\\cs-trace7.txt'"
     ]
    }
   ],
   "source": [
    "import csv\n",
    "\n",
    "def txtToCsv(fname,csvName):\n",
    "    with open(fname, 'r') as in_file:\n",
    "        stripped = (line.strip() for line in in_file)\n",
    "        lines = (line.split(\"\\t\") for line in stripped if line)\n",
    "        with open(csvName, 'w') as out_file:\n",
    "            writer = csv.writer(out_file)\n",
    "            writer.writerows(lines)\n",
    "            \n",
    "txtToCsv(file_path, csv_path)"
   ]
  },
  {
   "cell_type": "code",
   "execution_count": null,
   "metadata": {},
   "outputs": [],
   "source": [
    "data = pd.read_csv(csv_path)\n",
    "data.head()\n",
    "data.columns"
   ]
  },
  {
   "cell_type": "code",
   "execution_count": null,
   "metadata": {},
   "outputs": [],
   "source": [
    "hitRatios = getHitRatio(data)\n",
    "print(hitRatios)"
   ]
  },
  {
   "cell_type": "code",
   "execution_count": null,
   "metadata": {},
   "outputs": [],
   "source": [
    "def getDistances(nodeName, totalLevel):\n",
    "    hypenLoc = nodeName.find('-')\n",
    "    if(nodeName=='root'):\n",
    "        distanceFromProducer = 0\n",
    "        distanceFromConsumer = totalLevel\n",
    "    else:\n",
    "        distanceFromProducer = int(nodeName[1:hypenLoc])\n",
    "        distanceFromConsumer = totalLevel-distanceFromProducer\n",
    "    return (distanceFromProducer, distanceFromConsumer)"
   ]
  },
  {
   "cell_type": "code",
   "execution_count": null,
   "metadata": {},
   "outputs": [],
   "source": [
    "theUltimateDF = []\n",
    "i = 0\n",
    "# nodeName, hitRatio, distFromProducer, distFromConsumers, NumberOfNodes, cacheSize, interestRate\n",
    "for n in data.Node.unique():\n",
    "#     print(n)\n",
    "    tmp = n.find('-')\n",
    "#     print(n[1:tmp])\n",
    "    if(n == 'root'):\n",
    "#         print('Do nothing')\n",
    "        i+=1\n",
    "    elif(int(n[1:tmp]) == i):\n",
    "        d = \"Random\"\n",
    "    else:\n",
    "        i += 1\n",
    "    distances = getDistances(n, totLevels)\n",
    "    theUltimateDF.append([n, hitRatios.get(n), distances[0], distances[1], totNumOfNodes, cacheSizes[i-1], interestRate])\n",
    "print(theUltimateDF)"
   ]
  },
  {
   "cell_type": "code",
   "execution_count": null,
   "metadata": {},
   "outputs": [],
   "source": [
    "theUltimateDF = pd.DataFrame(theUltimateDF, columns = ['nodeName', 'hitRatio', 'distFromProducer', 'distFromConsumers', 'NumberOfNodes', 'cacheSize', 'interestRate'])\n",
    "theUltimateDF.to_csv('theUltimateCSV1.csv', header=None, index=None, mode='a')\n"
   ]
  },
  {
   "cell_type": "code",
   "execution_count": null,
   "metadata": {},
   "outputs": [],
   "source": []
  },
  {
   "cell_type": "code",
   "execution_count": null,
   "metadata": {},
   "outputs": [],
   "source": []
  }
 ],
 "metadata": {
  "kernelspec": {
   "display_name": "Python 3",
   "language": "python",
   "name": "python3"
  },
  "language_info": {
   "codemirror_mode": {
    "name": "ipython",
    "version": 3
   },
   "file_extension": ".py",
   "mimetype": "text/x-python",
   "name": "python",
   "nbconvert_exporter": "python",
   "pygments_lexer": "ipython3",
   "version": "3.7.4"
  }
 },
 "nbformat": 4,
 "nbformat_minor": 2
}
